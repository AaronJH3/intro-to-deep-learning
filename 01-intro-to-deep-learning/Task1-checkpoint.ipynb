{
 "cells": [
  {
   "cell_type": "markdown",
   "metadata": {},
   "source": [
    "Use Keras to build a network with a single hidden layer and at least 300,000 trainable parameters. Answer the following questions about this model:\n",
    "\n",
    "* How many total trainable parameters does this model have?\n",
    "  * How many weights?\n",
    "  * How many biases?\n",
    "* How accurate was this model on the validation data after 10 epochs?\n",
    "  * How different was the model's performance on the training data?\n",
    "  * How different was the model's performance on the test data?\n",
    "* About how long did each epoch take?\n",
    "\n",
    "Use Keras to build a network with a single hidden layer at fewer than 50,000 trainable parameters, then answer the same questions."
   ]
  },
  {
   "cell_type": "code",
   "execution_count": 15,
   "metadata": {},
   "outputs": [
    {
     "name": "stdout",
     "output_type": "stream",
     "text": [
      "training data:  (60000, 28, 28)  ==>  (60000, 784)\n",
      "test data:  (10000, 28, 28)  ==>  (10000, 784)\n"
     ]
    }
   ],
   "source": [
    "# For drawing the MNIST digits as well as plots to help us evaluate performance we\n",
    "# will make extensive use of matplotlib\n",
    "from matplotlib import pyplot as plt\n",
    "\n",
    "# All of the Keras datasets are in keras.datasets\n",
    "from tensorflow.keras.datasets import mnist\n",
    "\n",
    "#Allows us to flatten 2d given data\n",
    "from tensorflow.keras.utils import to_categorical\n",
    "\n",
    "# Keras has already split the data into training and test data\n",
    "(training_images, training_labels), (test_images, test_labels) = mnist.load_data()\n",
    "\n",
    "# 28 x 28 = 784, because that's the dimensions of the MNIST data.\n",
    "image_size = 784\n",
    "\n",
    "# Reshaping the training_images and test_images to lists of vectors with length 784\n",
    "# instead of lists of 2D arrays. Same for the test_images\n",
    "training_data = training_images.reshape(training_images.shape[0], image_size) \n",
    "test_data = test_images.reshape(test_images.shape[0], image_size)\n",
    "\n",
    "# Create 1-hot encoded vectors using to_categorical\n",
    "num_classes = 10 # Because it's how many digits we have (0-9) \n",
    "\n",
    "# to_categorical takes a list of integers (our labels) and makes them into 1-hot vectors\n",
    "training_labels = to_categorical(training_labels, num_classes)\n",
    "test_labels = to_categorical(test_labels, num_classes)\n",
    "\n",
    "print(\"training data: \", training_images.shape, \" ==> \", training_data.shape)\n",
    "print(\"test data: \", test_images.shape, \" ==> \", test_data.shape)\n"
   ]
  },
  {
   "cell_type": "code",
   "execution_count": 28,
   "metadata": {},
   "outputs": [
    {
     "name": "stdout",
     "output_type": "stream",
     "text": [
      "Model: \"sequential_15\"\n",
      "_________________________________________________________________\n",
      "Layer (type)                 Output Shape              Param #   \n",
      "=================================================================\n",
      "dense_19 (Dense)             (None, 400)               314000    \n",
      "_________________________________________________________________\n",
      "dense_20 (Dense)             (None, 10)                4010      \n",
      "=================================================================\n",
      "Total params: 318,010\n",
      "Trainable params: 318,010\n",
      "Non-trainable params: 0\n",
      "_________________________________________________________________\n"
     ]
    }
   ],
   "source": [
    "#I need to be able to create the necessary Params using the code below\n",
    "\n",
    "from tensorflow.keras.models import Sequential\n",
    "from tensorflow.keras.layers import Dense\n",
    "\n",
    "# Sequential models are a series of layers applied linearly.\n",
    "model = Sequential()\n",
    "\n",
    "#This defines the layer itself. 400x784 (size of data)\n",
    "model.add(Dense(units=400, activation='sigmoid', input_shape=(image_size,)))\n",
    "\n",
    "# This is how the output layer gets added, the 'softmax' activation function ensures\n",
    "# that the sum of the values in the output nodes is 1. Softmax is very\n",
    "# common in classification networks. \n",
    "model.add(Dense(units=num_classes, activation='softmax', input_shape=(image_size,)))\n",
    "\n",
    "# This function provides useful text data for our network\n",
    "model.summary()"
   ]
  },
  {
   "cell_type": "code",
   "execution_count": 29,
   "metadata": {},
   "outputs": [
    {
     "name": "stdout",
     "output_type": "stream",
     "text": [
      "Train on 54000 samples, validate on 6000 samples\n",
      "Epoch 1/10\n",
      "54000/54000 [==============================] - 11s 211us/sample - loss: 0.7791 - accuracy: 0.7956 - val_loss: 0.3974 - val_accuracy: 0.9078\n",
      "Epoch 2/10\n",
      "54000/54000 [==============================] - 10s 182us/sample - loss: 0.3996 - accuracy: 0.8978 - val_loss: 0.3007 - val_accuracy: 0.9253\n",
      "Epoch 3/10\n",
      "54000/54000 [==============================] - 10s 183us/sample - loss: 0.3272 - accuracy: 0.9127 - val_loss: 0.2566 - val_accuracy: 0.9367\n",
      "Epoch 4/10\n",
      "54000/54000 [==============================] - 10s 186us/sample - loss: 0.2861 - accuracy: 0.9236 - val_loss: 0.2324 - val_accuracy: 0.9410\n",
      "Epoch 5/10\n",
      "54000/54000 [==============================] - 10s 181us/sample - loss: 0.2598 - accuracy: 0.9307 - val_loss: 0.2137 - val_accuracy: 0.9445\n",
      "Epoch 6/10\n",
      "54000/54000 [==============================] - 10s 187us/sample - loss: 0.2374 - accuracy: 0.9365 - val_loss: 0.2006 - val_accuracy: 0.94782378 -  - ETA: 0s - loss: 0.2373 - accuracy:  - ETA: 0s - loss: 0.237\n",
      "Epoch 7/10\n",
      "54000/54000 [==============================] - 10s 190us/sample - loss: 0.2212 - accuracy: 0.9401 - val_loss: 0.1921 - val_accuracy: 0.9510\n",
      "Epoch 8/10\n",
      "54000/54000 [==============================] - 10s 191us/sample - loss: 0.2075 - accuracy: 0.9451 - val_loss: 0.1837 - val_accuracy: 0.9508\n",
      "Epoch 9/10\n",
      "54000/54000 [==============================] - 10s 191us/sample - loss: 0.1949 - accuracy: 0.9478 - val_loss: 0.1765 - val_accuracy: 0.9523\n",
      "Epoch 10/10\n",
      "54000/54000 [==============================] - 10s 191us/sample - loss: 0.1836 - accuracy: 0.9506 - val_loss: 0.1681 - val_accuracy: 0.9557\n"
     ]
    }
   ],
   "source": [
    "# sgd stands for stochastic gradient descent.\n",
    "# categorical_crossentropy is a common loss function used for categorical classification.\n",
    "# accuracy is the percent of predictions that were correct.\n",
    "model.compile(optimizer=\"sgd\", loss='categorical_crossentropy', metrics=['accuracy'])\n",
    "\n",
    "# The network will make predictions for 128 flattened images per correction.\n",
    "# It will make a prediction on each item in the training set 5 times (5 epochs)\n",
    "# And 10% of the data will be used as validation data.\n",
    "history = model.fit(training_data, training_labels, batch_size=128, epochs=10, verbose=True, validation_split=.1)\n",
    "\n"
   ]
  },
  {
   "cell_type": "code",
   "execution_count": 30,
   "metadata": {},
   "outputs": [
    {
     "name": "stdout",
     "output_type": "stream",
     "text": [
      "10000/10000 [==============================] - 2s 200us/sample - loss: 0.1970 - accuracy: 0.9436\n"
     ]
    },
    {
     "data": {
      "image/png": "[encoded data removed]",
      "text/plain": [
       "<Figure size 432x288 with 1 Axes>"
      ]
     },
     "metadata": {
      "needs_background": "light"
     },
     "output_type": "display_data"
    },
    {
     "data": {
      "image/png": "[encoded data removed]",
      "text/plain": [
       "<Figure size 432x288 with 1 Axes>"
      ]
     },
     "metadata": {
      "needs_background": "light"
     },
     "output_type": "display_data"
    },
    {
     "name": "stdout",
     "output_type": "stream",
     "text": [
      "Test loss: 0.197\n",
      "Test accuracy: 0.944\n"
     ]
    }
   ],
   "source": [
    "loss, accuracy  = model.evaluate(test_data, test_labels, verbose=True)\n",
    "\n",
    "plt.plot(history.history['accuracy'])\n",
    "plt.plot(history.history['val_accuracy'])\n",
    "plt.title('model accuracy')\n",
    "plt.ylabel('accuracy')\n",
    "plt.xlabel('epoch')\n",
    "plt.legend(['training', 'validation'], loc='best')\n",
    "\n",
    "plt.show()\n",
    "\n",
    "plt.plot(history.history['loss'])\n",
    "plt.plot(history.history['val_loss'])\n",
    "plt.title('model loss')\n",
    "plt.ylabel('loss')\n",
    "plt.xlabel('epoch')\n",
    "plt.legend(['training', 'validation'], loc='best')\n",
    "\n",
    "plt.show()\n",
    "\n",
    "print(f'Test loss: {loss:.3}')\n",
    "print(f'Test accuracy: {accuracy:.3}')"
   ]
  },
  {
   "cell_type": "markdown",
   "metadata": {},
   "source": [
    "* How many total trainable parameters does this model have?\n",
    "Total params: 318,010\n",
    "Trainable params: 318,010\n",
    "\n",
    "  * How many weights?\n",
    "   What are weights?\n",
    "  The idea of weight is a foundational concept in artificial neural networks. A set of weighted inputs allows each artificial neuron or node in the system to produce related outputs. \n",
    "  \n",
    "  Since there were two layers, I am going to assume there are two weights\n",
    "  There is one that is \n",
    "  \n",
    "  * How many biases?\n",
    "  6000 samples per epoch \n",
    "  \n",
    "  \n",
    "* How accurate was this model on the validation data after 10 epochs?\n",
    "Extremely accurate\n",
    "  * How different was the model's performance on the training data?\n",
    "  Nearly identical, with Validation being highest, but training\n",
    "  caught up to a near .10 offset\n",
    "  * How different was the model's performance on the test data?\n",
    "  \n",
    "* About how long did each epoch take?\n",
    "around 10s"
   ]
  },
  {
   "cell_type": "code",
   "execution_count": 32,
   "metadata": {},
   "outputs": [
    {
     "name": "stdout",
     "output_type": "stream",
     "text": [
      "Model: \"sequential_17\"\n",
      "_________________________________________________________________\n",
      "Layer (type)                 Output Shape              Param #   \n",
      "=================================================================\n",
      "dense_23 (Dense)             (None, 64)                50240     \n",
      "_________________________________________________________________\n",
      "dense_24 (Dense)             (None, 10)                650       \n",
      "=================================================================\n",
      "Total params: 50,890\n",
      "Trainable params: 50,890\n",
      "Non-trainable params: 0\n",
      "_________________________________________________________________\n"
     ]
    }
   ],
   "source": [
    "#I need to be able to create the necessary Params using the code below\n",
    "\n",
    "from tensorflow.keras.models import Sequential\n",
    "from tensorflow.keras.layers import Dense\n",
    "\n",
    "# Sequential models are a series of layers applied linearly.\n",
    "model = Sequential()\n",
    "\n",
    "#This defines the layer itself. 400x784 (size of data)\n",
    "model.add(Dense(units=64, activation='sigmoid', input_shape=(image_size,)))\n",
    "\n",
    "# This is how the output layer gets added, the 'softmax' activation function ensures\n",
    "# that the sum of the values in the output nodes is 1. Softmax is very\n",
    "# common in classification networks. \n",
    "model.add(Dense(units=num_classes, activation='softmax', input_shape=(image_size,)))\n",
    "\n",
    "# This function provides useful text data for our network\n",
    "model.summary()"
   ]
  },
  {
   "cell_type": "code",
   "execution_count": 33,
   "metadata": {},
   "outputs": [
    {
     "name": "stdout",
     "output_type": "stream",
     "text": [
      "Train on 54000 samples, validate on 6000 samples\n",
      "Epoch 1/10\n",
      "54000/54000 [==============================] - 5s 95us/sample - loss: 1.2217 - accuracy: 0.6878 - val_loss: 0.7308 - val_accuracy: 0.8617\n",
      "Epoch 2/10\n",
      "54000/54000 [==============================] - 4s 76us/sample - loss: 0.6680 - accuracy: 0.8531 - val_loss: 0.5128 - val_accuracy: 0.8963\n",
      "Epoch 3/10\n",
      "54000/54000 [==============================] - 4s 81us/sample - loss: 0.5218 - accuracy: 0.8794 - val_loss: 0.4204 - val_accuracy: 0.9063\n",
      "Epoch 4/10\n",
      "54000/54000 [==============================] - 4s 68us/sample - loss: 0.4502 - accuracy: 0.8926 - val_loss: 0.3763 - val_accuracy: 0.9127\n",
      "Epoch 5/10\n",
      "54000/54000 [==============================] - 4s 68us/sample - loss: 0.4065 - accuracy: 0.8985 - val_loss: 0.3374 - val_accuracy: 0.9158\n",
      "Epoch 6/10\n",
      "54000/54000 [==============================] - 4s 79us/sample - loss: 0.3760 - accuracy: 0.9022 - val_loss: 0.3100 - val_accuracy: 0.9213\n",
      "Epoch 7/10\n",
      "54000/54000 [==============================] - 4s 80us/sample - loss: 0.3535 - accuracy: 0.9085 - val_loss: 0.2901 - val_accuracy: 0.9282\n",
      "Epoch 8/10\n",
      "54000/54000 [==============================] - 4s 83us/sample - loss: 0.3340 - accuracy: 0.9124 - val_loss: 0.2775 - val_accuracy: 0.9310\n",
      "Epoch 9/10\n",
      "54000/54000 [==============================] - 4s 70us/sample - loss: 0.3218 - accuracy: 0.9150 - val_loss: 0.2731 - val_accuracy: 0.9270\n",
      "Epoch 10/10\n",
      "54000/54000 [==============================] - 4s 67us/sample - loss: 0.3069 - accuracy: 0.9187 - val_loss: 0.2574 - val_accuracy: 0.9323\n"
     ]
    }
   ],
   "source": [
    "# sgd stands for stochastic gradient descent.\n",
    "# categorical_crossentropy is a common loss function used for categorical classification.\n",
    "# accuracy is the percent of predictions that were correct.\n",
    "model.compile(optimizer=\"sgd\", loss='categorical_crossentropy', metrics=['accuracy'])\n",
    "\n",
    "# The network will make predictions for 128 flattened images per correction.\n",
    "# It will make a prediction on each item in the training set 5 times (5 epochs)\n",
    "# And 10% of the data will be used as validation data.\n",
    "history = model.fit(training_data, training_labels, batch_size=128, epochs=10, verbose=True, validation_split=.1)\n",
    "\n"
   ]
  },
  {
   "cell_type": "code",
   "execution_count": 34,
   "metadata": {},
   "outputs": [
    {
     "name": "stdout",
     "output_type": "stream",
     "text": [
      "10000/10000 [==============================] - 1s 144us/sample - loss: 0.2947 - accuracy: 0.9217\n"
     ]
    },
    {
     "data": {
      "image/png": "[encoded data removed]",
      "text/plain": [
       "<Figure size 432x288 with 1 Axes>"
      ]
     },
     "metadata": {
      "needs_background": "light"
     },
     "output_type": "display_data"
    },
    {
     "data": {
      "image/png": "[encoded data removed]",
      "text/plain": [
       "<Figure size 432x288 with 1 Axes>"
      ]
     },
     "metadata": {
      "needs_background": "light"
     },
     "output_type": "display_data"
    },
    {
     "name": "stdout",
     "output_type": "stream",
     "text": [
      "Test loss: 0.295\n",
      "Test accuracy: 0.922\n"
     ]
    }
   ],
   "source": [
    "loss, accuracy  = model.evaluate(test_data, test_labels, verbose=True)\n",
    "\n",
    "plt.plot(history.history['accuracy'])\n",
    "plt.plot(history.history['val_accuracy'])\n",
    "plt.title('model accuracy')\n",
    "plt.ylabel('accuracy')\n",
    "plt.xlabel('epoch')\n",
    "plt.legend(['training', 'validation'], loc='best')\n",
    "\n",
    "plt.show()\n",
    "\n",
    "plt.plot(history.history['loss'])\n",
    "plt.plot(history.history['val_loss'])\n",
    "plt.title('model loss')\n",
    "plt.ylabel('loss')\n",
    "plt.xlabel('epoch')\n",
    "plt.legend(['training', 'validation'], loc='best')\n",
    "\n",
    "plt.show()\n",
    "\n",
    "print(f'Test loss: {loss:.3}')\n",
    "print(f'Test accuracy: {accuracy:.3}')"
   ]
  },
  {
   "cell_type": "markdown",
   "metadata": {},
   "source": [
    "* How many total trainable parameters does this model have?\n",
    "Trainable params: 50,890\n",
    "  * How many weights?\n",
    "  2 weights\n",
    "  * How many biases?\n",
    "  6000 Validation samples\n",
    "* How accurate was this model on the validation data after 10 epochs?\n",
    "\n",
    "  * How different was the model's performance on the training data?\n",
    "  Training data started off at 70% (lower) with fewer Params\n",
    "  but after that the offset was nearly identical to the previous test\n",
    "  \n",
    "  * How different was the model's performance on the test data?\n",
    "  Test Data seemed the same\n",
    "  \n",
    "* About how long did each epoch take? 5s"
   ]
  }
 ],
 "metadata": {
  "kernelspec": {
   "display_name": "Python 3",
   "language": "python",
   "name": "python3"
  },
  "language_info": {
   "codemirror_mode": {
    "name": "ipython",
    "version": 3
   },
   "file_extension": ".py",
   "mimetype": "text/x-python",
   "name": "python",
   "nbconvert_exporter": "python",
   "pygments_lexer": "ipython3",
   "version": "3.7.5"
  }
 },
 "nbformat": 4,
 "nbformat_minor": 4
}
