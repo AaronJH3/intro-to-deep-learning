{
 "cells": [
  {
   "cell_type": "markdown",
   "metadata": {},
   "source": [
    "Build a network with at least 3 hidden layers that achieves better than 92% accuracy on validation and test data. You may need to train for more than 10 epochs to achieve this result.\n",
    "\n",
    "* Compare your best results to the result you got in part one:\n",
    "  * Which network achieved the best accuracy on test data after training?\n",
    "  * Did the networks train for a similar number of epochs?"
   ]
  },
  {
   "cell_type": "code",
   "execution_count": 1,
   "metadata": {},
   "outputs": [
    {
     "name": "stdout",
     "output_type": "stream",
     "text": [
      "training data:  (60000, 28, 28)  ==>  (60000, 784)\n",
      "test data:  (10000, 28, 28)  ==>  (10000, 784)\n"
     ]
    }
   ],
   "source": [
    "# For drawing the MNIST digits as well as plots to help us evaluate performance we\n",
    "# will make extensive use of matplotlib\n",
    "from matplotlib import pyplot as plt\n",
    "\n",
    "# All of the Keras datasets are in keras.datasets\n",
    "from tensorflow.keras.datasets import mnist\n",
    "\n",
    "#Allows us to flatten 2d given data\n",
    "from tensorflow.keras.utils import to_categorical\n",
    "\n",
    "# Keras has already split the data into training and test data\n",
    "(training_images, training_labels), (test_images, test_labels) = mnist.load_data()\n",
    "\n",
    "# 28 x 28 = 784, because that's the dimensions of the MNIST data.\n",
    "image_size = 784\n",
    "\n",
    "# Reshaping the training_images and test_images to lists of vectors with length 784\n",
    "# instead of lists of 2D arrays. Same for the test_images\n",
    "training_data = training_images.reshape(training_images.shape[0], image_size) \n",
    "test_data = test_images.reshape(test_images.shape[0], image_size)\n",
    "\n",
    "# Create 1-hot encoded vectors using to_categorical\n",
    "num_classes = 10 # Because it's how many digits we have (0-9) \n",
    "\n",
    "# to_categorical takes a list of integers (our labels) and makes them into 1-hot vectors\n",
    "training_labels = to_categorical(training_labels, num_classes)\n",
    "test_labels = to_categorical(test_labels, num_classes)\n",
    "\n",
    "print(\"training data: \", training_images.shape, \" ==> \", training_data.shape)\n",
    "print(\"test data: \", test_images.shape, \" ==> \", test_data.shape)"
   ]
  },
  {
   "cell_type": "code",
   "execution_count": 8,
   "metadata": {},
   "outputs": [
    {
     "name": "stdout",
     "output_type": "stream",
     "text": [
      "Model: \"sequential_2\"\n",
      "_________________________________________________________________\n",
      "Layer (type)                 Output Shape              Param #   \n",
      "=================================================================\n",
      "dense_8 (Dense)              (None, 800)               628000    \n",
      "_________________________________________________________________\n",
      "dense_9 (Dense)              (None, 600)               480600    \n",
      "_________________________________________________________________\n",
      "dense_10 (Dense)             (None, 400)               240400    \n",
      "_________________________________________________________________\n",
      "dense_11 (Dense)             (None, 10)                4010      \n",
      "=================================================================\n",
      "Total params: 1,353,010\n",
      "Trainable params: 1,353,010\n",
      "Non-trainable params: 0\n",
      "_________________________________________________________________\n"
     ]
    }
   ],
   "source": [
    "#I need to be able to create the necessary Params using the code below\n",
    "\n",
    "from tensorflow.keras.models import Sequential\n",
    "from tensorflow.keras.layers import Dense\n",
    "\n",
    "# Sequential models are a series of layers applied linearly.\n",
    "model = Sequential()\n",
    "\n",
    "#This defines the layer itself. 400x784 (size of data)\n",
    "model.add(Dense(units=800, activation='sigmoid', input_shape=(image_size,)))\n",
    "\n",
    "model.add(Dense(units=600, activation='sigmoid', input_shape=(image_size,)))\n",
    "\n",
    "\n",
    "model.add(Dense(units=400, activation='sigmoid', input_shape=(image_size,)))\n",
    "\n",
    "\n",
    "\n",
    "# This is how the output layer gets added, the 'softmax' activation function ensures\n",
    "# that the sum of the values in the output nodes is 1. Softmax is very\n",
    "# common in classification networks. \n",
    "model.add(Dense(units=num_classes, activation='softmax', input_shape=(image_size,)))\n",
    "\n",
    "# This function provides useful text data for our network\n",
    "model.summary()"
   ]
  },
  {
   "cell_type": "code",
   "execution_count": 9,
   "metadata": {},
   "outputs": [
    {
     "name": "stdout",
     "output_type": "stream",
     "text": [
      "Train on 54000 samples, validate on 6000 samples\n",
      "Epoch 1/20\n",
      "54000/54000 [==============================] - 49s 904us/sample - loss: 2.2006 - accuracy: 0.3451 - val_loss: 2.0724 - val_accuracy: 0.6322\n",
      "Epoch 2/20\n",
      "54000/54000 [==============================] - 47s 871us/sample - loss: 1.9118 - accuracy: 0.6276 - val_loss: 1.6886 - val_accuracy: 0.7170\n",
      "Epoch 3/20\n",
      "54000/54000 [==============================] - 47s 869us/sample - loss: 1.4764 - accuracy: 0.7240 - val_loss: 1.2186 - val_accuracy: 0.7765\n",
      "Epoch 4/20\n",
      "54000/54000 [==============================] - 48s 883us/sample - loss: 1.0830 - accuracy: 0.7881 - val_loss: 0.8841 - val_accuracy: 0.8240\n",
      "Epoch 5/20\n",
      "54000/54000 [==============================] - 47s 871us/sample - loss: 0.8248 - accuracy: 0.8281 - val_loss: 0.6748 - val_accuracy: 0.8740\n",
      "Epoch 6/20\n",
      "54000/54000 [==============================] - 47s 876us/sample - loss: 0.6626 - accuracy: 0.8552 - val_loss: 0.5434 - val_accuracy: 0.8962\n",
      "Epoch 7/20\n",
      "54000/54000 [==============================] - 47s 874us/sample - loss: 0.5565 - accuracy: 0.8720 - val_loss: 0.4589 - val_accuracy: 0.9042\n",
      "Epoch 8/20\n",
      "54000/54000 [==============================] - 47s 871us/sample - loss: 0.4834 - accuracy: 0.8836 - val_loss: 0.4004 - val_accuracy: 0.9113\n",
      "Epoch 9/20\n",
      "54000/54000 [==============================] - 48s 886us/sample - loss: 0.4314 - accuracy: 0.8920 - val_loss: 0.3594 - val_accuracy: 0.9167\n",
      "Epoch 10/20\n",
      "54000/54000 [==============================] - 47s 875us/sample - loss: 0.3921 - accuracy: 0.9000 - val_loss: 0.3293 - val_accuracy: 0.9218\n",
      "Epoch 11/20\n",
      "54000/54000 [==============================] - 47s 875us/sample - loss: 0.3616 - accuracy: 0.9059 - val_loss: 0.3073 - val_accuracy: 0.9238\n",
      "Epoch 12/20\n",
      "54000/54000 [==============================] - 50s 920us/sample - loss: 0.3375 - accuracy: 0.9107 - val_loss: 0.2888 - val_accuracy: 0.9287\n",
      "Epoch 13/20\n",
      "54000/54000 [==============================] - 48s 886us/sample - loss: 0.3172 - accuracy: 0.9152 - val_loss: 0.2746 - val_accuracy: 0.9312\n",
      "Epoch 14/20\n",
      "54000/54000 [==============================] - 49s 898us/sample - loss: 0.3000 - accuracy: 0.9191 - val_loss: 0.2621 - val_accuracy: 0.9318\n",
      "Epoch 15/20\n",
      "54000/54000 [==============================] - 48s 887us/sample - loss: 0.2848 - accuracy: 0.9228 - val_loss: 0.2512 - val_accuracy: 0.9363\n",
      "Epoch 16/20\n",
      "54000/54000 [==============================] - 48s 882us/sample - loss: 0.2712 - accuracy: 0.9259 - val_loss: 0.2424 - val_accuracy: 0.9365\n",
      "Epoch 17/20\n",
      "54000/54000 [==============================] - 48s 895us/sample - loss: 0.2593 - accuracy: 0.9291 - val_loss: 0.2344 - val_accuracy: 0.9382\n",
      "Epoch 18/20\n",
      "54000/54000 [==============================] - 48s 893us/sample - loss: 0.2482 - accuracy: 0.9323 - val_loss: 0.2267 - val_accuracy: 0.9397\n",
      "Epoch 19/20\n",
      "54000/54000 [==============================] - 48s 887us/sample - loss: 0.2383 - accuracy: 0.9349 - val_loss: 0.2214 - val_accuracy: 0.9417\n",
      "Epoch 20/20\n",
      "54000/54000 [==============================] - 48s 880us/sample - loss: 0.2291 - accuracy: 0.9373 - val_loss: 0.2143 - val_accuracy: 0.9430\n"
     ]
    }
   ],
   "source": [
    "# sgd stands for stochastic gradient descent.\n",
    "# categorical_crossentropy is a common loss function used for categorical classification.\n",
    "# accuracy is the percent of predictions that were correct.\n",
    "model.compile(optimizer=\"sgd\", loss='categorical_crossentropy', metrics=['accuracy'])\n",
    "\n",
    "# The network will make predictions for 128 flattened images per correction.\n",
    "# It will make a prediction on each item in the training set 5 times (5 epochs)\n",
    "# And 10% of the data will be used as validation data.\n",
    "history = model.fit(training_data, training_labels, batch_size=128, epochs=20, verbose=True, validation_split=.1)\n",
    "\n"
   ]
  },
  {
   "cell_type": "code",
   "execution_count": 10,
   "metadata": {},
   "outputs": [
    {
     "name": "stdout",
     "output_type": "stream",
     "text": [
      "10000/10000 [==============================] - 7s 677us/sample - loss: 0.2498 - accuracy: 0.9296\n"
     ]
    },
    {
     "data": {
      "image/png": "[encoded data removed]",
      "text/plain": [
       "<Figure size 432x288 with 1 Axes>"
      ]
     },
     "metadata": {
      "needs_background": "light"
     },
     "output_type": "display_data"
    },
    {
     "data": {
      "image/png": "[encoded data removed]",
      "text/plain": [
       "<Figure size 432x288 with 1 Axes>"
      ]
     },
     "metadata": {
      "needs_background": "light"
     },
     "output_type": "display_data"
    },
    {
     "name": "stdout",
     "output_type": "stream",
     "text": [
      "Test loss: 0.25\n",
      "Test accuracy: 0.93\n"
     ]
    }
   ],
   "source": [
    "loss, accuracy  = model.evaluate(test_data, test_labels, verbose=True)\n",
    "\n",
    "plt.plot(history.history['accuracy'])\n",
    "plt.plot(history.history['val_accuracy'])\n",
    "plt.title('model accuracy')\n",
    "plt.ylabel('accuracy')\n",
    "plt.xlabel('epoch')\n",
    "plt.legend(['training', 'validation'], loc='best')\n",
    "\n",
    "plt.show()\n",
    "\n",
    "plt.plot(history.history['loss'])\n",
    "plt.plot(history.history['val_loss'])\n",
    "plt.title('model loss')\n",
    "plt.ylabel('loss')\n",
    "plt.xlabel('epoch')\n",
    "plt.legend(['training', 'validation'], loc='best')\n",
    "\n",
    "plt.show()\n",
    "\n",
    "print(f'Test loss: {loss:.3}')\n",
    "print(f'Test accuracy: {accuracy:.3}')"
   ]
  },
  {
   "cell_type": "markdown",
   "metadata": {},
   "source": [
    "* Compare your best results to the result you got in part one:\n",
    "\n",
    "\n",
    "  * Which network achieved the best accuracy on test data after training?\n",
    "  \n",
    " \n",
    "model = Sequential()\n",
    "\n",
    "#This defines the layer itself. 400x784 (size of data)\n",
    "model.add(Dense(units=800, activation='sigmoid', input_shape=(image_size,)))\n",
    "\n",
    "model.add(Dense(units=600, activation='sigmoid', input_shape=(image_size,)))\n",
    "\n",
    "\n",
    "model.add(Dense(units=400, activation='sigmoid', input_shape=(image_size,)))\n",
    "\n",
    "With 20 Epochs\n",
    "  \n",
    "  * Did the networks train for a similar number of epochs?\n",
    "  \n",
    "  No I had to double it\n"
   ]
  }
 ],
 "metadata": {
  "kernelspec": {
   "display_name": "Python 3",
   "language": "python",
   "name": "python3"
  },
  "language_info": {
   "codemirror_mode": {
    "name": "ipython",
    "version": 3
   },
   "file_extension": ".py",
   "mimetype": "text/x-python",
   "name": "python",
   "nbconvert_exporter": "python",
   "pygments_lexer": "ipython3",
   "version": "3.8.3"
  }
 },
 "nbformat": 4,
 "nbformat_minor": 4
}
