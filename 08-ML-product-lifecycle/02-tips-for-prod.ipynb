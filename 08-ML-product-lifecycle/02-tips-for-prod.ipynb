{
 "cells": [
  {
   "cell_type": "markdown",
   "metadata": {},
   "source": [
    "# Tips and Tactics for Production\n",
    "\n",
    "This notebook is more or less a collection of tricks and ideas that can help you build deep learning software for production systems. It is not an exhaustive collection of such tips by any stretch. \n",
    "\n",
    "## Sections:\n",
    "\n",
    "* Saving models.\n",
    "* Training with checkpoints.\n",
    "* Persisting metrics for dashboards and reports.\n",
    "* Collect incoming data as potential future training data and to reproduce failures."
   ]
  },
  {
   "cell_type": "markdown",
   "metadata": {},
   "source": [
    "### Saving Models\n",
    "\n",
    "We don't want to retrain a neural network every time we spin up a new server. Instead, we want to load a pretrained model from a file (which could live in Amazon's S3, another cloud storage service, or as a blob in a database). The following code would be written in standard python files, versioned with `git` or some other version control system, and deployed to a powerful machine with a good GPU or cluster. "
   ]
  },
  {
   "cell_type": "code",
   "execution_count": 1,
   "metadata": {},
   "outputs": [
    {
     "name": "stderr",
     "output_type": "stream",
     "text": [
      "Using TensorFlow backend.\n"
     ]
    },
    {
     "name": "stdout",
     "output_type": "stream",
     "text": [
      "Train on 54000 samples, validate on 6000 samples\n",
      "Epoch 1/2\n",
      "54000/54000 [==============================] - 2s 46us/step - loss: 2.0441 - accuracy: 0.8653 - val_loss: 0.3362 - val_accuracy: 0.9318\n",
      "Epoch 2/2\n",
      "54000/54000 [==============================] - 2s 39us/step - loss: 0.2942 - accuracy: 0.9366 - val_loss: 0.2434 - val_accuracy: 0.9460\n",
      "Train on 54000 samples, validate on 6000 samples\n",
      "Epoch 1/2\n",
      "54000/54000 [==============================] - 2s 44us/sample - loss: 1.4234 - accuracy: 0.8722 - val_loss: 0.3784 - val_accuracy: 0.9297\n",
      "Epoch 2/2\n",
      "54000/54000 [==============================] - 2s 30us/sample - loss: 0.2551 - accuracy: 0.9418 - val_loss: 0.2400 - val_accuracy: 0.9488\n",
      "WARNING:tensorflow:From /Users/tylerbettilyon/.local/share/virtualenvs/deep-learning-intro-1Adgpw9A/lib/python3.7/site-packages/tensorflow_core/python/ops/resource_variable_ops.py:1781: calling BaseResourceVariable.__init__ (from tensorflow.python.ops.resource_variable_ops) with constraint is deprecated and will be removed in a future version.\n",
      "Instructions for updating:\n",
      "If using Keras pass *_constraint arguments to layers.\n",
      "INFO:tensorflow:Assets written to: save_files/trained-model-tensorflow-generic/assets\n"
     ]
    }
   ],
   "source": [
    "## Simple neural network example.\n",
    "## So far this should all look very familiar.\n",
    "from keras.datasets import mnist\n",
    "from keras.models import Sequential\n",
    "from keras.layers import Dense\n",
    "from keras.utils import to_categorical\n",
    "\n",
    "num_classes = 10 \n",
    "image_size = 784\n",
    "\n",
    "(training_images, training_labels), (test_images, test_labels) = mnist.load_data()\n",
    "training_data = training_images.reshape(training_images.shape[0], image_size) \n",
    "test_data = test_images.reshape(test_images.shape[0], image_size)\n",
    "\n",
    "training_labels = to_categorical(training_labels, num_classes)\n",
    "test_labels = to_categorical(test_labels, num_classes)\n",
    "\n",
    "model = Sequential()\n",
    "model.add(Dense(units=256, activation='relu', input_shape=(image_size,)))\n",
    "model.add(Dense(units=128, activation='relu'))\n",
    "model.add(Dense(units=64, activation='relu'))\n",
    "model.add(Dense(units=num_classes, activation='softmax'))\n",
    "\n",
    "model.compile(optimizer=\"adam\", loss='categorical_crossentropy', metrics=['accuracy'])\n",
    "model.fit(training_data, training_labels, batch_size=128, epochs=2, verbose=True, validation_split=.1)\n",
    "\n",
    "model.save('save_files/trained-model-filename-keras-only')\n",
    "\n",
    "# If you use Keras via tensorflow can also save in a more generic tensorflow format\n",
    "# That works in all tensorflow implementations, which can give you some nice flexibility\n",
    "# if you're already invested in a language other than Python.\n",
    "# See: https://www.tensorflow.org/guide/keras/save_and_serialize\n",
    "from tensorflow import keras as tf_keras\n",
    "\n",
    "model_2 = tf_keras.models.Sequential()\n",
    "model_2.add(tf_keras.layers.Dense(units=256, activation='relu', input_shape=(image_size,)))\n",
    "model_2.add(tf_keras.layers.Dense(units=128, activation='relu'))\n",
    "model_2.add(tf_keras.layers.Dense(units=64, activation='relu'))\n",
    "model_2.add(tf_keras.layers.Dense(units=num_classes, activation='softmax'))\n",
    "\n",
    "model_2.compile(optimizer=\"adam\", loss='categorical_crossentropy', metrics=['accuracy'])\n",
    "model_2.fit(training_data, training_labels, batch_size=128, epochs=2, verbose=True, validation_split=.1)\n",
    "\n",
    "model_2.save('save_files/trained-model-tensorflow-generic', save_format='tf')"
   ]
  },
  {
   "cell_type": "code",
   "execution_count": 2,
   "metadata": {},
   "outputs": [
    {
     "name": "stdout",
     "output_type": "stream",
     "text": [
      "{'layers': [{'class_name': 'Dense',\n",
      "             'config': {'activation': 'relu',\n",
      "                        'activity_regularizer': None,\n",
      "                        'batch_input_shape': (None, 784),\n",
      "                        'bias_constraint': None,\n",
      "                        'bias_initializer': {'class_name': 'Zeros',\n",
      "                                             'config': {}},\n",
      "                        'bias_regularizer': None,\n",
      "                        'dtype': 'float32',\n",
      "                        'kernel_constraint': None,\n",
      "                        'kernel_initializer': {'class_name': 'VarianceScaling',\n",
      "                                               'config': {'distribution': 'uniform',\n",
      "                                                          'mode': 'fan_avg',\n",
      "                                                          'scale': 1.0,\n",
      "                                                          'seed': None}},\n",
      "                        'kernel_regularizer': None,\n",
      "                        'name': 'dense_1',\n",
      "                        'trainable': True,\n",
      "                        'units': 256,\n",
      "                        'use_bias': True}},\n",
      "            {'class_name': 'Dense',\n",
      "             'config': {'activation': 'relu',\n",
      "                        'activity_regularizer': None,\n",
      "                        'bias_constraint': None,\n",
      "                        'bias_initializer': {'class_name': 'Zeros',\n",
      "                                             'config': {}},\n",
      "                        'bias_regularizer': None,\n",
      "                        'dtype': 'float32',\n",
      "                        'kernel_constraint': None,\n",
      "                        'kernel_initializer': {'class_name': 'VarianceScaling',\n",
      "                                               'config': {'distribution': 'uniform',\n",
      "                                                          'mode': 'fan_avg',\n",
      "                                                          'scale': 1.0,\n",
      "                                                          'seed': None}},\n",
      "                        'kernel_regularizer': None,\n",
      "                        'name': 'dense_2',\n",
      "                        'trainable': True,\n",
      "                        'units': 128,\n",
      "                        'use_bias': True}},\n",
      "            {'class_name': 'Dense',\n",
      "             'config': {'activation': 'relu',\n",
      "                        'activity_regularizer': None,\n",
      "                        'bias_constraint': None,\n",
      "                        'bias_initializer': {'class_name': 'Zeros',\n",
      "                                             'config': {}},\n",
      "                        'bias_regularizer': None,\n",
      "                        'dtype': 'float32',\n",
      "                        'kernel_constraint': None,\n",
      "                        'kernel_initializer': {'class_name': 'VarianceScaling',\n",
      "                                               'config': {'distribution': 'uniform',\n",
      "                                                          'mode': 'fan_avg',\n",
      "                                                          'scale': 1.0,\n",
      "                                                          'seed': None}},\n",
      "                        'kernel_regularizer': None,\n",
      "                        'name': 'dense_3',\n",
      "                        'trainable': True,\n",
      "                        'units': 64,\n",
      "                        'use_bias': True}},\n",
      "            {'class_name': 'Dense',\n",
      "             'config': {'activation': 'softmax',\n",
      "                        'activity_regularizer': None,\n",
      "                        'bias_constraint': None,\n",
      "                        'bias_initializer': {'class_name': 'Zeros',\n",
      "                                             'config': {}},\n",
      "                        'bias_regularizer': None,\n",
      "                        'dtype': 'float32',\n",
      "                        'kernel_constraint': None,\n",
      "                        'kernel_initializer': {'class_name': 'VarianceScaling',\n",
      "                                               'config': {'distribution': 'uniform',\n",
      "                                                          'mode': 'fan_avg',\n",
      "                                                          'scale': 1.0,\n",
      "                                                          'seed': None}},\n",
      "                        'kernel_regularizer': None,\n",
      "                        'name': 'dense_4',\n",
      "                        'trainable': True,\n",
      "                        'units': 10,\n",
      "                        'use_bias': True}}],\n",
      " 'name': 'sequential_1'}\n",
      "{\"class_name\": \"Sequential\", \"config\": {\"name\": \"sequential_1\", \"layers\": [{\"class_name\": \"Dense\", \"config\": {\"name\": \"dense_1\", \"trainable\": true, \"batch_input_shape\": [null, 784], \"dtype\": \"float32\", \"units\": 256, \"activation\": \"relu\", \"use_bias\": true, \"kernel_initializer\": {\"class_name\": \"VarianceScaling\", \"config\": {\"scale\": 1.0, \"mode\": \"fan_avg\", \"distribution\": \"uniform\", \"seed\": null}}, \"bias_initializer\": {\"class_name\": \"Zeros\", \"config\": {}}, \"kernel_regularizer\": null, \"bias_regularizer\": null, \"activity_regularizer\": null, \"kernel_constraint\": null, \"bias_constraint\": null}}, {\"class_name\": \"Dense\", \"config\": {\"name\": \"dense_2\", \"trainable\": true, \"dtype\": \"float32\", \"units\": 128, \"activation\": \"relu\", \"use_bias\": true, \"kernel_initializer\": {\"class_name\": \"VarianceScaling\", \"config\": {\"scale\": 1.0, \"mode\": \"fan_avg\", \"distribution\": \"uniform\", \"seed\": null}}, \"bias_initializer\": {\"class_name\": \"Zeros\", \"config\": {}}, \"kernel_regularizer\": null, \"bias_regularizer\": null, \"activity_regularizer\": null, \"kernel_constraint\": null, \"bias_constraint\": null}}, {\"class_name\": \"Dense\", \"config\": {\"name\": \"dense_3\", \"trainable\": true, \"dtype\": \"float32\", \"units\": 64, \"activation\": \"relu\", \"use_bias\": true, \"kernel_initializer\": {\"class_name\": \"VarianceScaling\", \"config\": {\"scale\": 1.0, \"mode\": \"fan_avg\", \"distribution\": \"uniform\", \"seed\": null}}, \"bias_initializer\": {\"class_name\": \"Zeros\", \"config\": {}}, \"kernel_regularizer\": null, \"bias_regularizer\": null, \"activity_regularizer\": null, \"kernel_constraint\": null, \"bias_constraint\": null}}, {\"class_name\": \"Dense\", \"config\": {\"name\": \"dense_4\", \"trainable\": true, \"dtype\": \"float32\", \"units\": 10, \"activation\": \"softmax\", \"use_bias\": true, \"kernel_initializer\": {\"class_name\": \"VarianceScaling\", \"config\": {\"scale\": 1.0, \"mode\": \"fan_avg\", \"distribution\": \"uniform\", \"seed\": null}}, \"bias_initializer\": {\"class_name\": \"Zeros\", \"config\": {}}, \"kernel_regularizer\": null, \"bias_regularizer\": null, \"activity_regularizer\": null, \"kernel_constraint\": null, \"bias_constraint\": null}}]}, \"keras_version\": \"2.3.1\", \"backend\": \"tensorflow\"}\n"
     ]
    }
   ],
   "source": [
    "from pprint import pprint\n",
    "import pickle\n",
    "import json\n",
    "\n",
    "# You can also save JUST the configuration / network architecture.\n",
    "# This will not persist the results of training — all your learned \n",
    "# parameters will be randomly reinitialized. The config is a plain\n",
    "# old Python dictionary, so it can be saved with something like Pickle \n",
    "# or serialized to JSON. \n",
    "config = model.get_config()\n",
    "pprint(config)\n",
    "pickle.dump(config, open('save_files/pickled-config.p', \"wb\"))\n",
    "\n",
    "# You can use the json module to write the config dict to a json file\n",
    "json.dump(config, open('save_files/json-config.json', 'w')) \n",
    "\n",
    "# You can also get the config AS JSON FORMATTED TEXT from Keras.\n",
    "json_string_config = model.to_json()\n",
    "print(json_string_config)\n",
    "\n",
    "# And write it directly to a file\n",
    "with open('save_files/json-from-keras-config.json', 'w') as json_file:\n",
    "    json_file.write(json_string_config)"
   ]
  },
  {
   "cell_type": "markdown",
   "metadata": {},
   "source": [
    "### Loading Models\n",
    "\n",
    "The result of your training on the GPU is a file. Part of your service deployment is now fetching the latest version of that file and putting it in the right place. Part of your server or application code now has to load the saved model into it's memory and run it. \n",
    "\n",
    "This **does require** a significant degree of integration, specifically your server code now has to be in Python and must depend on Keras. In some cases this is not a problem, in some cases it might require standing up a standalone API server in Python and having your (say) Ruby on Rails webserver make web requests to the Python server, which runs the model and returns the predictions. "
   ]
  },
  {
   "cell_type": "code",
   "execution_count": 3,
   "metadata": {
    "scrolled": false
   },
   "outputs": [
    {
     "name": "stdout",
     "output_type": "stream",
     "text": [
      "[0.2927363724514842, 0.9362999796867371]\n",
      "[0.26335769826034083, 0.9407]\n"
     ]
    }
   ],
   "source": [
    "# Loading models from save files is pretty easy. \n",
    "from keras.models import load_model\n",
    "import numpy as np\n",
    "\n",
    "trained_loaded_model = load_model('save_files/trained-model-filename-keras-only')\n",
    "tf_trained_loaded_model = tf_keras.models.load_model('save_files/trained-model-tensorflow-generic')\n",
    "\n",
    "# Loss, Accuracy\n",
    "a = trained_loaded_model.evaluate(test_data, test_labels, verbose=False)\n",
    "print(a)\n",
    "\n",
    "b = tf_trained_loaded_model.evaluate(test_data, test_labels, verbose=False)\n",
    "print(b)"
   ]
  },
  {
   "cell_type": "code",
   "execution_count": 4,
   "metadata": {
    "scrolled": false
   },
   "outputs": [
    {
     "name": "stdout",
     "output_type": "stream",
     "text": [
      "Model: \"sequential_1\"\n",
      "_________________________________________________________________\n",
      "Layer (type)                 Output Shape              Param #   \n",
      "=================================================================\n",
      "dense_1 (Dense)              (None, 256)               200960    \n",
      "_________________________________________________________________\n",
      "dense_2 (Dense)              (None, 128)               32896     \n",
      "_________________________________________________________________\n",
      "dense_3 (Dense)              (None, 64)                8256      \n",
      "_________________________________________________________________\n",
      "dense_4 (Dense)              (None, 10)                650       \n",
      "=================================================================\n",
      "Total params: 242,762\n",
      "Trainable params: 242,762\n",
      "Non-trainable params: 0\n",
      "_________________________________________________________________\n",
      "Model: \"sequential_1\"\n",
      "_________________________________________________________________\n",
      "Layer (type)                 Output Shape              Param #   \n",
      "=================================================================\n",
      "dense_1 (Dense)              (None, 256)               200960    \n",
      "_________________________________________________________________\n",
      "dense_2 (Dense)              (None, 128)               32896     \n",
      "_________________________________________________________________\n",
      "dense_3 (Dense)              (None, 64)                8256      \n",
      "_________________________________________________________________\n",
      "dense_4 (Dense)              (None, 10)                650       \n",
      "=================================================================\n",
      "Total params: 242,762\n",
      "Trainable params: 242,762\n",
      "Non-trainable params: 0\n",
      "_________________________________________________________________\n",
      "Model: \"sequential_1\"\n",
      "_________________________________________________________________\n",
      "Layer (type)                 Output Shape              Param #   \n",
      "=================================================================\n",
      "dense_1 (Dense)              (None, 256)               200960    \n",
      "_________________________________________________________________\n",
      "dense_2 (Dense)              (None, 128)               32896     \n",
      "_________________________________________________________________\n",
      "dense_3 (Dense)              (None, 64)                8256      \n",
      "_________________________________________________________________\n",
      "dense_4 (Dense)              (None, 10)                650       \n",
      "=================================================================\n",
      "Total params: 242,762\n",
      "Trainable params: 242,762\n",
      "Non-trainable params: 0\n",
      "_________________________________________________________________\n",
      "\n",
      " Bad Results (loss, accuracy):  [138.51728056640624, 0.04729999974370003]\n"
     ]
    }
   ],
   "source": [
    "# Loading a fresh (untrained) version of the model from configuration files\n",
    "# is straight forward:\n",
    "config_from_pickle = pickle.load(open('save_files/pickled-config.p', \"rb\"))\n",
    "config_from_json = json.load(open('save_files/json-config.json', 'r'))\n",
    "alternate_json_config = json.load(open('save_files/json-from-keras-config.json', 'r'))\n",
    "\n",
    "untrained_model_from_pickle = Sequential.from_config(config_from_pickle)\n",
    "untrained_model_from_json = Sequential.from_config(config_from_json)\n",
    "alt_untrained_from_json = Sequential.from_config(alternate_json_config['config']) # NOTE THIS SUBTLE DIFFERENCE!\n",
    "\n",
    "# Note, if you used Model rather than Sequental to create the model\n",
    "# you should use this instead: Model.from_config(config)\n",
    "\n",
    "# Lets see that these have the same config:\n",
    "# Note that even the names of the layers are the same.\n",
    "untrained_model_from_pickle.summary()\n",
    "untrained_model_from_json.summary()\n",
    "alt_untrained_from_json.summary()\n",
    "\n",
    "# But note, all of these will still be untrained and uncompiled!\n",
    "untrained_model_from_json.compile(optimizer=\"adam\", loss='categorical_crossentropy', metrics=['accuracy'])\n",
    "results = untrained_model_from_json.evaluate(test_data, test_labels, verbose=False)\n",
    "print(\"\\n Bad Results (loss, accuracy): \", results)"
   ]
  },
  {
   "cell_type": "markdown",
   "metadata": {},
   "source": [
    "### Weights Only\n",
    "\n",
    "There are also ways to save and restore the weights of a model separately. For example, you could save the config file exactly once and then save the weights for different versions of the same model over time (e.g. as training goes on), or with different subsets of the training data. This can reduce storage costs at some cost to configuration. See the examples here: https://www.tensorflow.org/guide/keras/save_and_serialize\n",
    "\n",
    "For this to be useful you'll either need code that can recreate a matching architecuture, or a config file. "
   ]
  },
  {
   "cell_type": "code",
   "execution_count": 5,
   "metadata": {},
   "outputs": [
    {
     "name": "stdout",
     "output_type": "stream",
     "text": [
      "10000/10000 [==============================] - 0s 35us/step\n",
      "[0.2927363724514842, 0.9362999796867371]\n",
      "10000/10000 [==============================] - 0s 34us/step\n",
      "[0.2927363724514842, 0.9362999796867371]\n"
     ]
    }
   ],
   "source": [
    "# Fetching weights within python\n",
    "weights = trained_loaded_model.get_weights()  # Retrieves the state of the model.\n",
    "untrained_model_from_pickle.set_weights(weights)  # Sets the state of the model.\n",
    "untrained_model_from_pickle.compile(optimizer=\"adam\", loss='categorical_crossentropy', metrics=['accuracy'])\n",
    "print(untrained_model_from_pickle.evaluate(test_data, test_labels))\n",
    "\n",
    "# persisting/restoring weights\n",
    "trained_loaded_model.save_weights('save_files/trained_weights')\n",
    "untrained_model_from_json.load_weights('save_files/trained_weights')\n",
    "untrained_model_from_json.compile(optimizer=\"adam\", loss='categorical_crossentropy', metrics=['accuracy'])\n",
    "print(untrained_model_from_json.evaluate(test_data, test_labels))"
   ]
  },
  {
   "cell_type": "markdown",
   "metadata": {},
   "source": [
    "### Where Should We Load The Model?\n",
    "\n",
    "With the ability to save and restore models (even restoring them to other languages using the Tensorflow format!) the question is... where **SHOULD** we have the model live? While it's not completely exhaustive, one of these three options will cover most use cases:\n",
    "\n",
    "* In the existing webserver that supports the application.\n",
    "* In a standalone webserver that exposes an API for using the model.\n",
    "* In the application itself. \n",
    "\n",
    "All of these options have strengths and weaknesses. Here are some advantages to keeping the model on one of your servers (standalone or an existing server):\n",
    "\n",
    "* You don't have to configure and deploy a new set of servers.\n",
    "* You might consider the trained model to be an important piece of intellectual property, so you wouldn't want to just ship that critical secret to all your customers application.\n",
    "* Your model might be computationally expensive to run and your app might be running on phones or other not-so-powerful computers.\n",
    "* It's much easier for you to collect a lot of metrics about how the code is being used, if it's running fast enough,  what data is being sent to it, and so on. \n",
    "    * But remember to get your customers consent before collecting that data!\n",
    "\n",
    "Some advantages to shipping the model in the application:\n",
    "\n",
    "* You don't have to configure and deploy a new set of servers.\n",
    "* Your customers hardware executes the model, saving you from the cost of computation.\n",
    "* Your customers data can stay on their device, so you use this strategy to protect consumer privacy.\n",
    "    * But you'll likely lose a lot of data if you do in fact respect their privacy. Potential future training data as well as performance metrics.\n",
    "* The application can still work without network connectivity. \n",
    "\n",
    "There are some reasons to consider a standalone API even when the application code is also in Python, for example:\n",
    "\n",
    "* You might not want to pay for beefy webservers when most of the time they won't be using their full power just serving standard HTTPS requests. \n",
    "* It will probably be easier to administer the standalone web service than integrate the model into your existing web app.\n",
    "* You can more easily deploy new versions of the model independently from new versions of the app"
   ]
  },
  {
   "cell_type": "markdown",
   "metadata": {},
   "source": [
    "## Create Checkpoints While Training\n",
    "\n",
    "Your code or computer could crash for any number of reasons at any time. If you've been training for 10 hours and the server running that training goes down but you haven't persisted the results of your training to the hard drive, then you're going to be very sad. Instead of training with `.fit` and `epochs=999999` consider building some custom code that wraps calls to `fit` to ensure that you're periodically saving the model."
   ]
  },
  {
   "cell_type": "code",
   "execution_count": 6,
   "metadata": {},
   "outputs": [
    {
     "name": "stdout",
     "output_type": "stream",
     "text": [
      "Persisting checkpoint:  save_files/descriptive-model-name-e5\n",
      "Persisting checkpoint:  save_files/descriptive-model-name-e10\n",
      "Persisting checkpoint:  save_files/descriptive-model-name-e15\n",
      "Persisting checkpoint:  save_files/descriptive-model-name-e20\n",
      "Persisting checkpoint:  save_files/descriptive-model-name-e25\n",
      "Persisting checkpoint:  save_files/descriptive-model-name-e30\n",
      "Persisting checkpoint:  save_files/descriptive-model-name-e35\n",
      "Persisting checkpoint:  save_files/descriptive-model-name-e40\n",
      "Persisting checkpoint:  save_files/descriptive-model-name-e45\n",
      "Persisting checkpoint:  save_files/descriptive-model-name-e50\n"
     ]
    }
   ],
   "source": [
    "# This is the simplest version of the idea. Again, you may wish to save the configuration\n",
    "# once, and persist only the weights during the training process instead of saving the whole\n",
    "# model every checkpoint.\n",
    "\n",
    "EPOCHS_PER_CHECKPOINT = 5\n",
    "CHECKPOINTS = 10\n",
    "\n",
    "for i in range(CHECKPOINTS):\n",
    "    model.fit(training_data, training_labels, batch_size=128, epochs=EPOCHS_PER_CHECKPOINT, verbose=False, validation_split=.1)\n",
    "    cp_name = f'save_files/descriptive-model-name-e{(i+1)*EPOCHS_PER_CHECKPOINT}'\n",
    "    print(\"Persisting checkpoint: \", cp_name)\n",
    "    model.save(cp_name)"
   ]
  },
  {
   "cell_type": "markdown",
   "metadata": {},
   "source": [
    "### The Checkpoint Callback\n",
    "\n",
    "Keras also has a helpful callback class that can automatically persist the model during the training process based on the results. For example, this callback makes it easy to make a checkpoint of the model every time validation accuracy improves, instead of over a fixed number of epochs. This callback can also be configured to only save the weights, see  the [ModelCheckpoint Documentation](https://keras.io/callbacks/#modelcheckpoint)."
   ]
  },
  {
   "cell_type": "code",
   "execution_count": 7,
   "metadata": {
    "scrolled": false
   },
   "outputs": [
    {
     "name": "stdout",
     "output_type": "stream",
     "text": [
      "\n",
      "Epoch 00001: val_accuracy improved from -inf to 0.92550, saving model to save_files/model-checkpoint.01-0.34\n",
      "\n",
      "Epoch 00002: val_accuracy improved from 0.92550 to 0.93917, saving model to save_files/model-checkpoint.02-0.26\n",
      "\n",
      "Epoch 00003: val_accuracy improved from 0.93917 to 0.95267, saving model to save_files/model-checkpoint.03-0.19\n",
      "\n",
      "Epoch 00004: val_accuracy improved from 0.95267 to 0.95733, saving model to save_files/model-checkpoint.04-0.18\n",
      "\n",
      "Epoch 00005: val_accuracy improved from 0.95733 to 0.95883, saving model to save_files/model-checkpoint.05-0.18\n",
      "\n",
      "Epoch 00006: val_accuracy improved from 0.95883 to 0.96383, saving model to save_files/model-checkpoint.06-0.17\n",
      "\n",
      "Epoch 00007: val_accuracy improved from 0.96383 to 0.96617, saving model to save_files/model-checkpoint.07-0.16\n",
      "\n",
      "Epoch 00008: val_accuracy did not improve from 0.96617\n",
      "\n",
      "Epoch 00009: val_accuracy did not improve from 0.96617\n",
      "\n",
      "Epoch 00010: val_accuracy improved from 0.96617 to 0.96767, saving model to save_files/model-checkpoint.10-0.16\n",
      "\n",
      "Epoch 00011: val_accuracy improved from 0.96767 to 0.96817, saving model to save_files/model-checkpoint.11-0.15\n",
      "\n",
      "Epoch 00012: val_accuracy did not improve from 0.96817\n",
      "\n",
      "Epoch 00013: val_accuracy improved from 0.96817 to 0.96933, saving model to save_files/model-checkpoint.13-0.17\n",
      "\n",
      "Epoch 00014: val_accuracy did not improve from 0.96933\n",
      "\n",
      "Epoch 00015: val_accuracy improved from 0.96933 to 0.97217, saving model to save_files/model-checkpoint.15-0.14\n",
      "\n",
      "Epoch 00016: val_accuracy did not improve from 0.97217\n",
      "\n",
      "Epoch 00017: val_accuracy did not improve from 0.97217\n",
      "\n",
      "Epoch 00018: val_accuracy improved from 0.97217 to 0.97383, saving model to save_files/model-checkpoint.18-0.16\n",
      "\n",
      "Epoch 00019: val_accuracy improved from 0.97383 to 0.97650, saving model to save_files/model-checkpoint.19-0.13\n",
      "\n",
      "Epoch 00020: val_accuracy did not improve from 0.97650\n",
      "\n",
      "Epoch 00021: val_accuracy did not improve from 0.97650\n",
      "\n",
      "Epoch 00022: val_accuracy improved from 0.97650 to 0.97717, saving model to save_files/model-checkpoint.22-0.14\n",
      "\n",
      "Epoch 00023: val_accuracy did not improve from 0.97717\n",
      "\n",
      "Epoch 00024: val_accuracy did not improve from 0.97717\n",
      "\n",
      "Epoch 00025: val_accuracy improved from 0.97717 to 0.97883, saving model to save_files/model-checkpoint.25-0.12\n",
      "\n",
      "Epoch 00026: val_accuracy did not improve from 0.97883\n",
      "\n",
      "Epoch 00027: val_accuracy did not improve from 0.97883\n",
      "\n",
      "Epoch 00028: val_accuracy did not improve from 0.97883\n",
      "\n",
      "Epoch 00029: val_accuracy improved from 0.97883 to 0.97900, saving model to save_files/model-checkpoint.29-0.12\n",
      "\n",
      "Epoch 00030: val_accuracy did not improve from 0.97900\n"
     ]
    },
    {
     "data": {
      "text/plain": [
       "<keras.callbacks.callbacks.History at 0x1413d3a50>"
      ]
     },
     "execution_count": 7,
     "metadata": {},
     "output_type": "execute_result"
    }
   ],
   "source": [
    "from keras.callbacks import ModelCheckpoint\n",
    "\n",
    "filename_format = 'save_files/model-checkpoint.{epoch:02d}-{val_loss:.2f}'\n",
    "\n",
    "model_checkpointer = ModelCheckpoint(\n",
    "    filename_format,\n",
    "    monitor='val_accuracy', \n",
    "    verbose=1, \n",
    "    save_best_only=True, # If False, the checkpoint will be replaced every time the model improves on val_accuracy.\n",
    "    save_weights_only=False, # If True the saved files will be the weights only, not the whole model.\n",
    "    mode='auto', \n",
    "    period=1 # If larger, the checkpointer will only run every n epochs.\n",
    ")\n",
    "\n",
    "fresh_model = Sequential()\n",
    "fresh_model.add(Dense(units=256, activation='relu', input_shape=(image_size,)))\n",
    "fresh_model.add(Dense(units=128, activation='relu'))\n",
    "fresh_model.add(Dense(units=64, activation='relu'))\n",
    "fresh_model.add(Dense(units=num_classes, activation='softmax'))\n",
    "\n",
    "fresh_model.compile(optimizer=\"adam\", loss='categorical_crossentropy', metrics=['accuracy'])\n",
    "fresh_model.fit(\n",
    "    training_data, \n",
    "    training_labels, \n",
    "    batch_size=128, \n",
    "    epochs=30, \n",
    "    verbose=False, \n",
    "    validation_split=.1,\n",
    "    callbacks=[model_checkpointer]\n",
    ")"
   ]
  },
  {
   "cell_type": "markdown",
   "metadata": {},
   "source": [
    "## Persisting Metrics For Dashboards\n",
    "\n",
    "You should save important success metrics both the training process AND when your model is being used to make predictions in the wild. In addition to the metrics that Keras provides, you might consider adding some timing code or performance tracking code and persist that information as well. Saving this data into a standard database (e.g. some kind of SQL) can make it much easier to share this information with other teams, make it available to other programs, and make it much easier to compare model performance over time. \n",
    "\n",
    "Consider establishing a set of metrics you'll collect early on and add code that persists that data into a database. \n",
    "\n",
    "Also consider creating custom metrics if they make sense for your use case. Examples: \n",
    "\n",
    "* Union over Intersection for segmentation and object localization.\n",
    "* Precision, Recall, F1 score.\n",
    "* ..."
   ]
  },
  {
   "cell_type": "code",
   "execution_count": 8,
   "metadata": {},
   "outputs": [
    {
     "name": "stdout",
     "output_type": "stream",
     "text": [
      "Train on 54000 samples, validate on 6000 samples\n",
      "Epoch 1/5\n",
      "54000/54000 [==============================] - 2s 43us/step - loss: 0.0346 - accuracy: 0.9916 - recall_m: 0.9914 - precision_m: 0.9920 - f1_m: 0.9917 - val_loss: 0.1207 - val_accuracy: 0.9787 - val_recall_m: 0.9783 - val_precision_m: 0.9793 - val_f1_m: 0.9788\n",
      "Epoch 2/5\n",
      "54000/54000 [==============================] - 2s 40us/step - loss: 0.0213 - accuracy: 0.9944 - recall_m: 0.9941 - precision_m: 0.9948 - f1_m: 0.9944 - val_loss: 0.1551 - val_accuracy: 0.9768 - val_recall_m: 0.9768 - val_precision_m: 0.9770 - val_f1_m: 0.9769\n",
      "Epoch 3/5\n",
      "54000/54000 [==============================] - 2s 39us/step - loss: 0.0218 - accuracy: 0.9940 - recall_m: 0.9937 - precision_m: 0.9942 - f1_m: 0.9940 - val_loss: 0.1359 - val_accuracy: 0.9770 - val_recall_m: 0.9760 - val_precision_m: 0.9780 - val_f1_m: 0.9770\n",
      "Epoch 4/5\n",
      "54000/54000 [==============================] - 2s 39us/step - loss: 0.0201 - accuracy: 0.9950 - recall_m: 0.9948 - precision_m: 0.9952 - f1_m: 0.9950 - val_loss: 0.1254 - val_accuracy: 0.9805 - val_recall_m: 0.9800 - val_precision_m: 0.9820 - val_f1_m: 0.9810\n",
      "Epoch 5/5\n",
      "54000/54000 [==============================] - 2s 39us/step - loss: 0.0144 - accuracy: 0.9960 - recall_m: 0.9958 - precision_m: 0.9962 - f1_m: 0.9960 - val_loss: 0.1600 - val_accuracy: 0.9737 - val_recall_m: 0.9730 - val_precision_m: 0.9747 - val_f1_m: 0.9739\n"
     ]
    }
   ],
   "source": [
    "from keras import backend as K\n",
    "\n",
    "def recall_m(y_true, y_pred):\n",
    "        true_positives = K.sum(K.round(K.clip(y_true * y_pred, 0, 1)))\n",
    "        possible_positives = K.sum(K.round(K.clip(y_true, 0, 1)))\n",
    "        recall = true_positives / (possible_positives + K.epsilon())\n",
    "        return recall\n",
    "\n",
    "def precision_m(y_true, y_pred):\n",
    "        true_positives = K.sum(K.round(K.clip(y_true * y_pred, 0, 1)))\n",
    "        predicted_positives = K.sum(K.round(K.clip(y_pred, 0, 1)))\n",
    "        precision = true_positives / (predicted_positives + K.epsilon())\n",
    "        return precision\n",
    "\n",
    "def f1_m(y_true, y_pred):\n",
    "    precision = precision_m(y_true, y_pred)\n",
    "    recall = recall_m(y_true, y_pred)\n",
    "    return 2*((precision*recall)/(precision+recall+K.epsilon()))\n",
    "\n",
    "fresh_model.compile(\n",
    "    optimizer=\"adam\", \n",
    "    loss='categorical_crossentropy', \n",
    "    metrics=['accuracy', recall_m, precision_m, f1_m]\n",
    ")\n",
    "\n",
    "history = fresh_model.fit(\n",
    "    training_data, \n",
    "    training_labels, \n",
    "    batch_size=128, \n",
    "    epochs=5, \n",
    "    verbose=True, \n",
    "    validation_split=.1,\n",
    ")"
   ]
  },
  {
   "cell_type": "code",
   "execution_count": 9,
   "metadata": {},
   "outputs": [
    {
     "name": "stdout",
     "output_type": "stream",
     "text": [
      "{'accuracy': [0.9916111, 0.9943889, 0.99396294, 0.994963, 0.995963],\n",
      " 'f1_m': [0.99166477, 0.9944057, 0.9939538, 0.9949965, 0.99599653],\n",
      " 'loss': [0.03455852446723212,\n",
      "          0.02127933946741676,\n",
      "          0.021775037777036668,\n",
      "          0.020075893718240506,\n",
      "          0.014413702354662949],\n",
      " 'precision_m': [0.9919601, 0.99475765, 0.9942128, 0.9952376, 0.9962191],\n",
      " 'recall_m': [0.99137294, 0.9940573, 0.99369764, 0.9947581, 0.99577636],\n",
      " 'val_accuracy': [0.9786666631698608,\n",
      "                  0.9768333435058594,\n",
      "                  0.9769999980926514,\n",
      "                  0.9804999828338623,\n",
      "                  0.9736666679382324],\n",
      " 'val_f1_m': [0.9788271188735962,\n",
      "              0.9769275784492493,\n",
      "              0.9769816398620605,\n",
      "              0.9809890985488892,\n",
      "              0.973850429058075],\n",
      " 'val_loss': [0.12071626306177738,\n",
      "              0.15505853921939464,\n",
      "              0.13586269912713517,\n",
      "              0.12544911693641916,\n",
      "              0.15997129904851318],\n",
      " 'val_precision_m': [0.9793146252632141,\n",
      "                     0.9770085215568542,\n",
      "                     0.9779583811759949,\n",
      "                     0.9819842576980591,\n",
      "                     0.9746617078781128],\n",
      " 'val_recall_m': [0.9783434867858887,\n",
      "                  0.9768474698066711,\n",
      "                  0.9760163426399231,\n",
      "                  0.98000568151474,\n",
      "                  0.9730480313301086]}\n"
     ]
    }
   ],
   "source": [
    "# The history object will have entries for every metric you provided in the compile function.\n",
    "pprint(history.history)"
   ]
  },
  {
   "cell_type": "code",
   "execution_count": 13,
   "metadata": {
    "scrolled": false
   },
   "outputs": [
    {
     "name": "stdout",
     "output_type": "stream",
     "text": [
      "[142.1795, 115.70159, 92.1204, 82.92946, 66.5425, 58.503777, 51.266685, 56.565945, 46.118736, 44.21524, 50.693066, 46.081512, 40.343998, 40.58465, 24.94538, 39.200996, 31.743439, 23.6751, 34.262962, 35.144646, 36.825485, 25.225515, 22.48105, 28.394384, 22.962254, 20.132618, 22.227703, 31.509014, 16.41335, 21.064163, 19.427507, 17.631878, 29.419853, 16.215927, 15.588277, 22.817015, 24.592587, 16.08543, 19.235695, 11.553993, 22.20845, 15.785807, 19.677525, 14.504782, 17.8026, 15.21704, 13.882668, 16.392212, 17.514257, 16.745836, 19.624828, 11.572775, 13.270922, 14.402919, 15.009056, 14.634556, 14.827072, 9.705016, 9.910385, 10.979059, 16.233736, 10.713152, 9.9762335, 22.129005, 11.890745, 10.002054, 10.775658, 9.599399, 10.232582, 9.794015, 12.04129, 12.917618, 12.874306, 13.423887, 15.179541, 12.940324, 11.736316, 12.93679, 11.604146, 8.624943, 16.699097, 10.896014, 6.6293316, 16.802757, 13.153246, 8.729552, 9.673182, 15.842663, 14.25568, 9.174779, 5.44532, 17.645987, 8.809696, 12.758934, 14.073544, 10.500483, 7.3309536, 7.0973606, 16.153946, 7.5398207, 13.986285, 10.345782, 10.008433, 9.730439, 9.957062, 8.502459, 12.368435, 13.039225, 10.781574, 8.323606, 11.268488, 4.266859, 6.589842, 9.477876, 12.293301, 6.674659, 8.4528885, 10.472266, 12.219427, 9.06074, 8.060352, 8.343306, 8.098045, 14.351038, 6.341962, 7.113119, 8.809814, 8.229454, 8.410151, 12.277285, 11.089447, 12.883736, 7.3206215, 9.739506, 5.1819153, 8.901056, 9.991974, 5.8421054, 9.347577, 11.371873, 5.511367, 6.845751, 8.851377, 6.3337936, 6.601095, 7.619604, 8.096902, 6.2975655, 13.700954, 4.835174, 8.843155, 6.9324665, 16.187395, 6.228742, 7.384207, 8.544504, 13.368965, 4.2731524, 8.472306, 10.779295, 10.849109, 12.450162, 7.563426, 12.4205885, 7.2378497, 10.993731, 11.8544445, 7.6214647, 4.98493, 10.530346, 6.7937927, 8.991659, 11.035469, 8.355688, 10.1710205, 9.031758, 10.238703, 5.7098713, 8.081001, 8.768176, 11.895914, 6.944801, 3.8599374, 11.05495, 10.32375, 6.579399, 7.786353, 10.22995, 3.9329734, 5.8061295, 7.884478, 5.8144083, 6.9776535, 8.390445, 8.507023, 9.61369, 12.809837, 10.690265, 6.9474907, 8.867004, 5.983999, 9.314659, 6.534521, 9.455555, 11.24332, 15.2853155, 10.886672, 5.9403453, 3.5387034, 8.07317, 7.7465286, 7.7866526, 7.8023324, 9.975801, 5.030157, 7.043272, 8.237649, 8.216248, 9.538008, 9.604244, 7.9822807, 5.0449944, 9.516842, 6.4090204, 2.7255442, 4.122614, 9.847708, 8.218555, 10.694065, 7.833472, 2.5473733, 10.745003, 8.578417, 3.5201335, 7.124652, 7.242358, 4.759921, 6.9326563, 6.851582, 9.183911, 8.498528, 7.018798, 5.408063, 5.2816105, 5.015399, 5.829603, 9.34132, 11.075771, 7.0856204, 6.661656, 6.186428, 8.967054, 9.804388, 12.292521, 10.354015, 8.13234, 8.43621, 12.530895, 7.5074625, 8.789855, 3.9109583, 5.7372766, 8.490894, 7.582961, 8.02591, 11.703901, 12.183884, 8.470252, 9.791982, 4.094902, 10.037443, 10.964304, 5.222263, 9.013727, 11.275982, 6.310854, 8.317009, 4.486777, 7.347923, 9.595547, 5.9909267, 5.4872055, 6.287108, 9.569654, 6.029999, 6.743793, 4.240049, 8.315601, 3.5810826, 6.3158855, 11.214121, 7.908994, 9.511467, 3.6734653, 4.040277, 4.0596523, 5.541233, 6.0372, 3.7064042, 9.019642, 8.721053, 11.391087, 11.643709, 7.6552105, 10.799332, 10.556829, 3.646826, 3.4621716, 8.002674, 7.0571117, 6.378572, 8.344191, 9.854666, 5.8449054, 1.9415456, 6.260051, 5.980712, 5.6580324, 3.070452, 8.504619, 4.209732, 8.222849, 9.941261, 6.661129, 10.168663, 8.106531, 4.940172, 8.109422, 8.849588, 5.605659, 8.541688, 4.2795897, 9.157506, 4.16769, 8.0904045, 5.7089133, 10.929038, 6.0246367, 6.533802, 2.9440746, 5.765585, 6.54643, 9.068138, 4.142666, 4.4773526, 2.328089, 6.5497108, 7.02192, 6.7515507, 6.290008, 3.7208447, 6.5286393, 4.2144766, 5.2540226, 7.4820986, 7.208009, 9.452126, 9.578306, 8.570604, 13.611272, 5.9849133, 11.177702, 3.7950654, 5.003403, 5.39485, 5.014926, 5.2292376, 3.69835, 8.275887, 6.724036, 11.292885, 4.4872127, 5.340104, 6.0249734, 6.099886, 6.635488, 5.793968, 7.340349, 1.3989344, 7.7304525, 9.947447, 7.50294, 8.437448, 5.3814764, 5.800886, 6.9112744, 5.8784738, 6.079015, 9.543243, 6.3104153, 12.202118, 5.536419, 6.6241517, 4.95042, 3.83565, 6.5952725, 6.364703, 5.065096, 4.969891, 6.2703924, 7.841504, 11.083895, 6.4766917, 3.6393795, 9.552674, 7.9696274, 7.661698, 5.2888236, 3.1270888, 4.4258, 3.3696876, 5.452997, 9.209032, 5.5579, 11.492756, 8.533282, 5.7650433, 5.1160383, 6.029983, 6.1250515, 7.044678, 7.1054945, 6.156269, 4.276821, 5.7202616, 8.533543, 6.0872154, 4.899004, 9.786393, 9.074734, 8.785375, 5.7909365, 8.524777, 4.5217, 4.175517, 1.7493895, 6.515526, 5.9135113, 8.3028555, 7.004384, 10.401482, 5.1675906, 7.2622, 6.1940546, 2.2371776, 5.7774587, 8.631033, 7.864951, 3.8581243, 5.707658, 7.333387, 9.573345, 5.068525, 7.3894086, 5.12167, 5.342408, 5.1298833, 5.691026, 6.5466256, 3.6652815, 5.618971, 5.761816, 4.310021, 3.8283248, 3.9105155, 4.9709606, 4.3231754, 9.666279, 3.7212498, 4.970537, 6.6010146, 9.280579, 7.0100193, 4.1331944, 4.831447, 2.3656988, 7.7284393, 3.51404, 8.356122, 7.00075, 3.9034133, 8.141006, 5.9377823, 8.455811, 5.8942976, 6.9512687, 9.351563, 2.0816395, 4.453264, 4.1174817, 5.4237933, 2.9243045, 6.5347557, 4.892666, 4.015184, 4.07151, 4.642186, 8.075173, 5.8736324, 3.7954366, 5.9757943, 1.3304343, 2.6975243, 6.794621, 5.1182995, 4.410487, 8.647056, 3.0916858, 7.737168, 3.6364224, 3.6163974, 8.23107, 4.129492, 6.8776207, 2.6539876, 4.905659, 6.4381065, 7.277526, 2.8051665, 11.696388, 3.1974778, 3.9802613, 6.7722735, 7.2184362, 5.860265, 6.4597735, 3.5260615, 5.404188, 6.186425, 8.321639, 5.4145107, 9.697414, 4.026616, 5.6309633, 4.0369864, 3.2165847, 2.842523, 4.3807406, 5.0420914, 3.137416, 9.623102, 5.9006424, 9.595835, 2.83072, 6.248387, 6.292392, 3.141815, 4.267852, 6.6485896, 5.4962473, 4.0806932, 3.7886662, 6.5706987, 4.1648664, 4.997677, 9.114757, 4.851192, 6.0831394, 7.5413427, 5.09997, 6.1273966, 5.389112, 7.1565037, 5.1343975, 5.0035024, 3.1113327, 5.2036953, 2.0119474, 8.121896, 4.1615057, 4.8031354, 7.0356865, 6.7968044, 4.834073, 9.295251, 4.894104, 6.9856596, 7.896677, 6.8117237, 8.225395, 7.083902, 4.062899, 6.7965326, 2.6704526, 3.4610252, 4.792038, 7.691891, 4.9286194, 3.3364213, 2.867346, 5.0933623, 4.811019, 9.097822, 3.5234232, 2.5999742, 5.8391848, 5.616647, 6.3891306, 3.4357505, 6.60371, 5.9164095, 10.369018, 5.0292873, 8.46628, 2.0482497, 2.6616101, 5.8252378, 9.132348, 4.527081, 5.6045675, 5.9753194, 5.4802656, 3.6332695, 6.7334757, 4.838631, 4.2431736, 4.9989333, 6.098896, 5.0948358, 4.9286036, 4.1939435, 7.615693, 4.972857, 10.45463, 2.667585, 6.2654886, 4.554291, 5.1838527, 4.8776417, 5.277376, 3.139359, 5.1944485, 7.87285, 6.6546783, 4.5032744, 3.0658684, 7.1081705, 8.690144, 7.1539965, 6.0305986, 2.5472896, 8.2658615, 8.64878, 3.0854323, 8.491045, 3.1456752, 6.6362247, 7.5582943, 5.5743747, 8.659269, 6.724873, 3.646832, 7.8957047, 5.7468143, 5.669411, 2.8002224, 4.530468, 5.848549, 5.5477085, 5.6682606, 5.079631, 8.757294, 11.82469, 8.682088, 3.5040474, 2.941726, 3.5927055, 4.012885, 3.172832, 6.4946547, 4.39921, 8.060471, 6.1075673, 4.4088593, 3.1940117, 1.8579876, 6.058094, 2.8421717, 6.887924, 5.652708, 8.421161, 4.3661895, 3.616872, 3.9286904, 3.3842797, 6.422229, 4.5667024, 6.6273866, 3.3403373, 4.4170895, 4.647838, 6.3937483, 6.380232, 3.5725594, 6.7302146, 6.729343, 4.323453, 4.107944, 7.833744, 7.3003936, 5.8703346, 3.971493, 5.460671, 3.9868312, 6.048936, 3.326057, 8.499369, 3.8658535, 5.0327835, 4.965442, 6.7022934, 4.704813, 7.400852, 1.9214045, 7.6598644, 3.2019076, 2.294422, 6.771881, 5.6123962, 5.7400537, 6.4680405, 9.948074, 3.420212, 1.7275062, 5.124559, 4.839363, 5.232464, 2.3876667, 3.5250897, 6.5861216, 9.261246, 6.3550696, 6.6404266, 3.3073192, 4.834755, 4.8318195, 8.000523, 5.724882, 2.524456, 3.4445105, 5.368945, 3.0454783, 3.7605193, 5.2826905, 6.379252, 7.468442, 5.788042, 5.9434414, 4.2024775, 4.7230077, 5.497683, 3.7657902, 3.7672393, 8.489145, 7.1567464, 8.301022, 7.6366105, 6.0182276, 3.584586, 3.9163332, 2.5104845, 5.9077864, 5.4468646, 2.1624537, 6.607996, 4.953591, 0.89355385, 3.2799604, 5.234972, 7.1293774, 5.3681993, 3.063653, 7.9379797, 2.8147354, 3.6530623, 6.250573, 5.711891, 1.9864587, 4.773493, 4.43762, 9.131823, 9.645568, 3.884759, 4.414382, 6.8765907, 1.8865573, 4.4519434, 4.79277, 8.752047, 11.13087, 6.710455, 6.760311, 2.8097649, 4.247836, 3.3325715, 5.6176624, 2.633625, 6.089426, 5.3474517, 4.2335815, 4.687501, 3.7957635, 4.476094, 5.019966, 4.4363556, 4.7307673, 9.516153, 6.3677063, 3.231524, 4.3195477, 6.508073, 7.20592, 4.8192163, 5.5560513, 5.21385, 5.45135, 8.100791, 8.904276, 4.510853, 6.138517, 5.4672294, 5.180562, 3.7614398, 4.9642973, 5.18307, 5.241606, 10.080992, 5.1114435, 6.7399273, 3.44902, 3.0382688, 5.237812, 5.7888627, 4.901154, 5.87407, 8.074139, 8.607169, 3.084593, 2.3163886, 2.939415, 3.1563363, 3.3583596, 1.9514827, 8.318569, 3.8939726, 7.8780403, 4.5707464, 6.1883507, 5.3069615, 8.968017, 5.2102785, 3.2289433, 5.202006, 9.011536, 3.8023334, 2.7483797, 3.7339056, 5.497858, 3.7028065, 5.458444, 2.780643, 4.3751407, 2.9775496, 3.389532, 3.2007687, 4.54616, 8.609439, 5.6368055, 4.8070135, 7.8974385, 6.143153, 6.969651, 5.0246286, 2.9193325, 5.0988426, 9.842937, 6.312369, 3.6047359, 7.4524927, 7.183711, 2.2435358, 6.736188, 4.7544537, 7.6563973, 5.4861364, 7.842918, 3.4131432, 6.728133, 5.6151104, 4.833186, 2.6630385, 4.370938, 5.2286487, 5.8989115, 1.7435194, 4.529688, 4.13853, 4.1960554, 4.241352, 6.847091, 5.756444, 5.88836, 2.370539, 4.913905, 2.7385345, 3.079233, 6.6379905, 6.775495, 4.6567326, 3.4357884, 5.4552717, 7.4831753, 3.2135553, 2.3481119, 2.4711597, 10.228832, 4.3937745, 7.991717, 4.715385, 4.245835, 3.4882202, 5.4521437, 5.234805, 3.8238828, 6.0339193, 2.6471853, 6.219057, 9.26926, 3.9223497, 1.9306742, 2.5896425, 6.150657, 7.123071, 2.2454162, 2.8760574, 5.8900146, 4.766262, 5.71987, 3.4501557, 4.6909, 4.0107694, 7.2964897, 6.8260527, 5.5033646, 4.002864, 5.3878527, 6.700142, 3.7703264, 5.073927, 3.7080727, 2.757943, 3.844133, 7.4233713, 2.8386743, 4.747558, 5.459861, 4.190385, 3.976841, 4.936041, 5.2606306, 5.286438, 3.677805, 6.000718, 5.6119914, 3.0711982, 4.3148437, 5.889513, 5.745145, 3.1815548, 4.8408093, 4.5370083, 6.4377546, 5.459256, 3.6935413, 4.6523957, 6.7610674, 8.180846, 3.0379243, 3.4247584, 4.2411327, 5.3759956, 4.92446, 6.1745644, 4.935339, 6.0248127, 4.771344, 3.6848512, 5.7537937, 3.9558053, 3.900543, 3.9738414, 5.2817965, 2.2004113, 3.344801, 4.8076906, 3.8686438, 3.0365047, 2.1593165, 0.6368513, 3.0230224, 4.4063416, 4.31612, 4.2923346, 2.9982865, 3.9882565, 3.9203746, 4.1340632, 6.1839666, 3.4830298, 5.041047, 5.321035, 4.780679, 6.9968395, 7.884121, 4.931919, 5.784412, 4.8335733, 4.671517, 3.1199012, 7.213788, 2.4366217, 8.749226, 3.669972, 5.210558, 3.689167, 5.5065145, 7.2577033, 5.8275967, 4.877584, 2.7834601, 4.3025255, 3.3641472, 4.660026, 5.571917, 4.8489122, 5.807582, 4.443323, 4.0289187, 4.294455, 6.6894326, 7.5625286, 4.8929787, 3.2372723, 3.6493456, 3.6614618, 2.9769926, 6.015413, 1.654415, 5.2549987, 2.8653836, 4.634079, 2.779515, 6.5524693, 6.44495, 6.907975, 2.5232995, 2.2753267, 1.6893121, 2.8594387, 5.430676, 4.098793, 3.8228774, 4.1608114, 3.0342197, 2.8896987, 2.5118084, 3.0977426, 2.6802044, 3.6606555, 4.321694, 4.3241467, 1.9650774, 6.5345206, 2.5878987, 4.150701, 4.5644207, 3.0443053, 5.070027, 0.8930694, 4.376035, 3.6316018, 4.702574, 2.6039023, 0.9011564, 4.3327084, 3.4843013, 5.104045, 8.073093, 4.090361, 5.936286, 3.027577, 7.631303, 2.7283037, 5.495149, 7.0760345, 7.3281765, 4.566267, 4.8405685, 5.3577623, 2.597052, 4.264864, 10.882851, 3.2020946, 3.48596, 7.4478064, 2.5747895, 6.621751, 6.1442714, 6.2031574, 4.5761447, 3.2713995, 2.5042806, 4.4268427, 6.4321733, 6.5325327, 6.8198, 7.1979475, 4.328284, 4.7555833, 8.543258, 4.3939238, 4.7633348, 5.4748755, 3.753581, 3.5755982, 1.0885272, 2.7134798, 5.4448996, 2.950635, 4.3841066, 5.692717, 2.7721548, 2.0518563, 4.992609, 6.236861, 6.228027, 5.2392416, 1.7199655, 7.463392, 4.234114, 3.7189174, 6.8501234, 2.7368233, 3.1804214, 7.0530834, 5.793751, 3.72264, 4.005905, 3.8469472, 6.589594, 4.149292, 6.011381, 4.0462656, 6.3243284, 1.7860382, 3.210305, 6.48879, 3.1186547, 8.681007, 5.5908346, 5.8322062, 6.0685897, 9.855343, 9.437498, 2.5635862, 4.468095, 2.9865148, 1.0372503, 3.5296764, 5.345569, 4.561452, 6.946521, 8.014395, 1.8827579, 6.507455, 3.2957563, 4.0700006, 1.5809796, 5.4773192, 6.7016077, 5.1185913, 4.3016386, 6.8122125, 3.112039, 2.7702422, 4.423376, 4.8992324, 5.2918253, 3.9813104, 7.2003436, 2.377942, 4.3249474, 4.7012987, 8.432589, 4.757222, 4.0622263, 4.657636, 4.524285, 3.1974845, 4.395048, 7.931288, 4.8821816, 2.466845, 2.049065, 4.6924276, 4.321318, 4.348297, 4.79852, 5.1360445, 5.7371244, 6.198255, 3.7306514, 5.442008, 5.1313376, 5.31016, 4.295869, 4.8771133, 5.0729227, 2.3957334, 4.3955355, 3.5152888, 4.122402, 5.9214797, 4.8358784, 3.9779937, 4.206563, 5.5364447, 4.8335023, 6.4039087, 3.918153, 3.6562293, 3.7632263, 3.77478, 3.731422, 3.007083, 3.193307, 2.764512, 5.1202006, 4.7754364, 3.7214088, 4.2319527, 9.305336, 4.584338, 9.57749, 4.742188, 2.741559, 5.5687237, 4.3407226, 3.2170234, 4.7729177, 2.7826345, 5.0568733, 5.438042, 5.6906967, 4.712673, 9.061122, 4.6482134, 4.102378, 4.664855, 6.2150536, 2.9380527, 6.7383723, 3.0718162, 1.9395483, 4.397043, 6.81915, 7.9601502, 5.0851665, 7.10822, 5.252782, 2.1666021, 5.4639688, 2.2911403, 3.888012, 4.7722464, 4.1261663, 5.5779405, 5.511753, 4.453162, 3.1333885, 4.3633504, 2.3465085, 4.6957083, 8.221752, 7.755231, 3.8499413, 2.0404034, 4.091706, 6.536847, 3.7325191, 7.163272, 3.4477339, 3.2614048, 5.488053, 3.0164776, 1.6792531, 3.6935282, 4.240997, 1.9199077, 6.5955143, 3.2277684, 3.9055097, 7.3701143, 2.9335103, 6.8109283, 3.861145, 2.476747, 2.279152, 3.2200425, 7.576039, 6.020611, 5.0703053, 3.8751345, 6.4439487, 2.779977, 4.3971543, 4.5858054, 3.6563396, 7.5869384, 5.175278, 7.3293653, 4.181074, 3.4911933, 6.217699, 1.9619993, 3.0594702, 6.279357, 6.5900145, 9.456581, 6.221195, 5.992632, 5.536541, 6.0647097, 3.3400092, 4.262213, 7.0547447, 5.7891307, 6.8793545, 9.148178, 7.1086493, 5.416622, 5.163297, 3.7955716, 3.4974875, 2.972578, 4.0218844, 4.7178297, 4.918831, 3.058771, 6.6492076, 3.6435707, 4.979034, 2.5717278, 3.638085, 9.744722, 7.443007, 5.3049283, 2.722968, 4.66549, 3.9713905, 1.4621296, 4.6462026, 2.848833, 8.413721, 5.5031843, 1.4161929, 8.292915, 1.135012, 5.4447002, 3.2591784, 4.9925046, 3.3949032, 2.42522, 4.0413895, 2.6131027, 5.4130487, 3.1990747, 5.3290005, 2.0131755, 3.6174502, 2.5554323, 1.9748007, 5.4797335, 5.7432528, 4.2656994, 5.1017313, 6.465983, 3.0857081, 6.72367, 7.6175184, 4.0378637, 2.735528, 5.7012343, 1.9764595, 6.042648, 2.6705759, 1.9302222, 5.688628, 5.3378615, 4.239727, 4.0274096, 2.4843938, 1.8324449, 5.5244236, 4.6115613, 2.7786946, 2.6920974, 2.178533, 5.784809, 4.3757625, 5.4460726, 2.8067894, 4.2031364, 1.8297927, 2.0016236, 3.2994356, 2.2863326, 5.186063, 5.285093, 6.8683734, 3.2486744, 5.348683, 4.721632, 2.8300319, 4.3155746, 3.7734108, 2.861253, 5.87879, 3.7043746, 1.6194804, 3.3458037, 6.6289754, 3.1939435, 5.392024, 5.4101706, 2.3519874, 3.4445438, 6.0048914, 4.6054697, 4.3085337, 3.7080953, 3.2285476, 4.4832, 2.5145998, 6.876776, 4.8941455, 1.5930405, 4.9315357, 8.797168, 5.117269, 2.1151667, 2.6690931, 7.1009316, 2.7501116, 4.7945814, 2.0572615, 3.2159429, 2.7463055, 2.304802, 6.637805, 1.1805736, 5.7512755, 2.3894477, 4.1977434, 4.618521, 2.2375245, 2.784043, 3.8308415, 3.1795907, 5.4386916, 3.5653162, 4.49478, 4.2207603, 3.9189243, 1.6325217, 3.0022082, 4.0926557, 2.1166558, 5.8845644, 2.837626, 2.5372117, 6.383521, 8.978274, 3.1750674, 4.853453, 4.365669, 3.0705044, 2.5329778, 8.1695595, 4.693185, 6.626375, 7.8008013, 2.7119298, 1.7267108, 2.131215, 1.3826423, 3.3632517, 3.6982763, 4.030755, 1.2196722, 5.148189, 4.8358045, 3.4147434, 3.3684845, 5.1419625, 3.3991618, 3.6995287, 9.173163, 4.636051, 2.2948174, 5.6543007, 4.820998, 4.6311827, 1.3003863, 2.9905164, 3.5945292, 3.9347878, 4.229854, 5.6665077, 4.6731644, 1.6711143, 3.6150618, 1.5845566, 4.6632266, 2.9286935, 4.799055, 3.392363, 5.393725, 2.932995, 2.701254, 3.1633224, 4.463957, 8.728559, 4.4558206, 10.021261, 4.458024, 5.43443, 6.975508, 4.5528774, 5.347618, 4.042761, 6.392122, 1.0208882, 4.6503296, 5.2484617, 4.681813, 6.0183406, 3.116777, 3.564921, 5.825656, 2.4902115, 10.313818, 3.4736185, 5.508773, 1.9318962, 5.131485, 4.2128654, 4.6812906, 2.7102184, 3.3802109, 7.6829853, 5.751764, 4.395505, 3.1911178, 2.3500957, 3.5949736, 5.4612904, 3.158967, 6.5180492, 5.8135443, 5.595256, 6.927335, 5.7347765, 5.287158, 5.169481, 5.7271442, 3.0942185, 3.488243, 2.9266863, 4.1951623, 1.8150251, 3.535703, 3.6953344, 4.204439, 3.6122909, 3.4569802, 2.0248537, 6.0305424, 6.4582186, 3.11268, 4.0601482, 4.875437, 3.0991802, 4.4093275, 3.5366826, 4.7542214, 5.936857, 6.085391, 6.4461365, 5.0944204, 7.0450325, 2.5839207, 5.1907682, 4.4181824, 3.347527, 3.1347096, 2.9510958, 1.9649081, 4.4690237, 4.796419, 6.165736, 4.6803217, 2.0731537, 5.9134912, 1.8329077, 2.5155058, 2.432283, 4.424148, 5.379248, 7.6478653, 3.7531524, 2.0191677, 3.3266344, 2.634047, 3.0359323, 2.816597, 4.5011997, 3.914497, 1.535018, 5.712558, 4.4835286, 5.6987514, 2.5093513, 3.6392455, 6.9572687, 3.9528697, 2.6590476, 5.230194, 4.9123344, 2.721182, 7.58258, 3.5034919, 7.913454, 2.4655402, 7.747328, 2.796201, 7.755341, 4.2735615, 5.069012, 4.533836, 2.5250034, 5.452966, 5.2921076, 2.6341848, 3.8884702, 5.6278276, 7.5988817, 2.1061811, 3.001378, 5.5762362, 3.3384378, 6.5183144, 5.146884, 5.259497, 8.465876, 6.1840277, 4.9353924, 2.0053244, 4.2424946, 3.6655416, 3.098391, 3.532952, 4.7230434, 6.255334, 6.5612392, 2.9045105, 4.0304317, 4.11134, 4.099416, 3.689119, 7.9060974, 6.4964767, 5.7532654, 4.8214693, 3.0506244, 2.4066982, 3.5461905, 2.4497654, 3.592349, 5.629107, 4.7276716, 3.99134, 3.9865031, 4.765422, 3.4392056, 5.857786, 3.8998947, 7.1766853, 5.557416, 5.6433372, 4.423536, 3.9814525, 4.9329934, 2.2282467, 4.3233576, 6.654813, 5.0015674, 5.302719, 3.2257433, 3.138266, 5.121176, 4.356274, 4.351947, 4.0338755, 6.331152, 3.2944767, 2.7180588, 2.7414966, 0.64246845, 3.1787128, 3.2403204, 2.1035697, 1.035045, 2.4515352, 4.47882, 1.7420828, 4.544195, 6.4985027, 3.118491, 3.9813857, 2.0738063, 3.9232187, 2.1176417, 2.088959, 5.9421854, 5.015284, 3.2047477, 3.307172, 6.2856307, 2.9745293, 3.3891308, 3.8056266, 6.8358006, 4.0951853, 3.1012359, 2.9763942, 5.6200633, 5.154835, 5.4560943, 3.676439, 4.580573, 7.662471, 4.095937, 3.5985394, 2.7682865, 5.886402, 2.870171, 3.2411084, 1.9178934, 7.118809, 3.4286482, 4.044386, 4.142791, 2.5242176, 5.7446985, 5.532753, 6.0104814, 2.825642, 5.6035223, 4.1751385, 6.0200386, 5.5043707, 2.3397746, 3.6179976, 5.6756687, 5.071322, 4.020076, 3.341839, 8.404779, 4.901638, 5.7912006, 6.6471705, 3.652771, 2.1643095, 3.5739536, 6.5631065, 8.924848, 5.6082764, 3.8400817, 2.973445, 5.136931, 2.1874385, 3.454657, 1.64413, 2.1200864, 4.288554, 5.803919, 6.2191153, 2.461097, 1.7254355, 8.57941, 5.433158, 7.4048066, 4.7345076, 5.4516706, 1.3372123, 3.2474263, 3.7290478, 5.236786, 3.5434914, 4.5551624, 4.1280665, 2.8722267, 5.9713125, 6.6721334, 1.6297861, 3.618967, 4.4534616, 3.204146, 2.0003223, 5.1112967, 3.9464622, 3.8413582, 5.9678783, 2.961166, 4.2744226, 3.403709, 6.248358, 4.9904947, 4.3958526, 4.3815947, 2.8520532, 1.8088896, 3.7750607, 2.9475317, 2.1616015, 4.746361, 8.68055, 3.2700531, 8.239929, 1.4447973, 3.8758702, 2.2249975, 3.7974696, 3.6583939, 3.2025692, 2.723283, 2.8088262, 4.113533, 2.4555662, 4.7360644, 4.621065, 3.5753336, 3.664999, 4.338732, 4.0913744, 1.5142738, 3.0187836, 3.2236595, 5.3791113, 3.3451874, 3.3682303, 4.067992, 4.039597, 1.4280156, 1.5656359, 7.110607, 5.011403, 6.8662624, 5.7256813, 3.3917089, 3.1431522, 8.329347, 3.1623492, 10.392868, 2.327878, 2.7531378, 4.7759643, 1.7818904, 4.7182255, 1.410673, 4.7472553, 2.6792188, 4.7897735, 1.6942706, 2.295321, 4.9741006, 5.3876276, 3.5009787, 3.7410846, 4.5609922, 3.6125412, 2.5620022, 7.0049357, 1.9452567, 2.8355262, 3.2358053, 5.471752, 3.1286578, 2.31602, 4.86953, 6.5006657, 1.610872, 5.165922, 1.7168745, 3.3219876, 2.1165414, 5.4707093, 1.4030248, 8.104395, 3.3753407, 3.6424031, 4.817074, 1.8873854, 3.435214, 1.5714582, 3.3793495, 4.032501, 4.467299, 2.4819388, 2.5755174, 3.5374625, 2.9768615, 2.0566332, 2.5244575, 2.9889152, 6.559435, 5.1325855, 3.7898512, 3.676258, 4.3722014, 4.031114, 5.181142, 1.5630066, 3.9169838, 3.5176587, 2.2127419, 4.008306, 4.4060426, 4.669997, 2.561546, 3.9078536, 4.367485, 6.401975, 2.5093348, 2.1829133, 5.4741774, 3.4845734, 4.7667446, 3.2091393, 6.3636065, 3.9372733, 4.7523227, 3.8912795, 5.1710463, 2.4394245, 2.3354163, 4.9814253, 4.737481, 4.69695, 4.1361256, 3.951237, 3.745168, 2.9961658, 2.011322, 4.2335014, 0.69637537, 4.0413494, 3.1475952, 5.9896135, 3.0819902, 6.2963643, 4.5871935, 4.014328, 2.0584292, 3.6895957, 3.7763205, 5.3982973, 3.4557223, 1.6860235, 3.6030164, 6.3181915, 3.7856877, 4.236685, 1.6071936, 3.680365, 2.701407, 5.4850364, 3.7718031, 3.9333227, 1.507268, 3.8802652, 3.1027842, 5.396697, 2.031787, 2.9465137, 3.1893985, 6.4891205, 1.6942099, 4.4762297, 3.661254, 4.955144, 2.7938554, 4.3353686, 2.740308, 5.5018625, 3.288786, 2.904049, 4.6980667, 3.617484, 5.6509733, 2.4004846, 2.7395713, 4.98155, 5.246865, 4.8499966, 5.950886, 1.3732467, 2.5489836, 5.1410656, 5.653399, 1.1727026, 4.245653, 4.3902197, 5.2314835, 5.641981, 3.5423334, 3.672608, 4.782552, 5.1641088, 2.1698966, 2.2321596, 4.954175, 3.8708627, 2.456719, 5.0347824, 4.114409, 2.8907657, 2.9581447, 5.324589, 6.6819596, 6.2404838, 2.5242805, 5.2017756, 2.6480083, 4.089007, 5.8607945, 3.6763778, 2.1098416, 2.60117, 2.9859548, 3.2492979, 4.232181, 2.8065, 1.7700135, 3.1044989, 5.2442183, 3.195113, 5.4859943, 2.0850873, 1.8591264, 4.569005, 6.7516117, 1.6021764, 5.502352, 3.4423785, 9.433371, 3.0417113, 3.973555, 4.0083246, 4.4593806, 3.2769566, 3.8108683, 5.735589, 2.9995847, 3.4529653, 5.5640473, 4.162733, 0.94192517, 5.188978, 1.75512, 6.802642, 7.2240896, 7.49053, 6.4753103, 4.292211, 1.9277927, 4.7635984, 7.386698, 8.360993, 2.986983, 2.982726, 4.4589887, 3.5384996, 5.357883, 3.4191475, 5.520159, 6.7132483, 6.1926847, 3.0246816, 5.9821506, 3.6202333, 4.5697165, 2.4181318, 4.1508393, 2.3562284, 3.9738111, 1.9208003, 2.2615094, 3.9633617, 3.0656123, 5.914394, 4.1751585, 6.6062527, 2.2054896, 3.2002115, 3.3102016, 2.137479, 2.2309577, 4.6320086, 4.0927763, 2.5729146, 5.038409, 6.671754, 5.599076, 3.926694, 4.162313, 8.956136, 3.3627112, 1.1499856, 1.2967566, 4.1753592, 1.9336149, 2.807867, 2.6659575, 2.2191834, 4.5189614, 6.0197735, 3.2785277, 3.6264489, 5.817033, 2.7492504, 3.3353133, 3.8650477, 2.673574, 4.9489527, 5.4301786, 1.7121313, 6.6551013, 4.436769, 3.5991197, 6.1997123, 5.375427, 2.454163, 3.79472, 1.9274276, 3.036764, 2.3719633, 4.0934415, 3.0577228, 4.6634398, 5.0865297, 2.9179845, 2.2878659, 2.6802788, 3.9453075, 5.3783073, 4.252571, 3.671636, 2.1227663, 4.4642515, 3.0620062, 3.5793395, 4.579698, 5.9728193, 3.1119223, 7.8792133, 1.7082998, 4.4430656, 3.4712481, 2.7911572, 2.5251124, 4.95585, 5.138396, 3.4937258, 3.7506528, 3.4324, 4.4823246, 3.2311008, 5.2734413, 3.2427104, 5.1447234, 5.234807, 3.8313115, 3.65539, 6.377392, 4.383931, 3.1696882, 5.3378057, 2.3536549, 3.1091201, 2.584725, 1.8666596, 3.9302998, 4.5540857, 5.6944356, 5.626798, 3.77454, 3.5834832, 4.1557074, 1.8356308, 3.753643, 1.4523966, 2.3454678, 2.8176827, 1.8571554, 3.6005118, 1.3121737, 1.9783359, 4.2045593, 2.053081, 2.86415, 4.2668967, 6.0451965, 5.7295284, 4.59075, 1.1257046, 1.059936, 3.780689, 2.2513518, 4.9404383, 4.422699, 3.6821904, 2.853356, 5.7915487, 2.434747, 6.750924, 6.7511168, 1.4098834, 3.4778457, 5.257333, 6.451784, 6.357425, 4.7647715, 3.9298372, 2.0708258, 2.8048096, 3.5060122, 3.6233065, 2.506701, 2.3426836, 2.981603, 3.8647945, 2.5195816, 5.4653587, 5.091158, 2.7837477, 6.554887, 3.1980767, 3.4127398, 5.8174925, 7.7299333, 2.727448, 4.1236277, 3.9340553, 4.124596, 2.8861842, 3.8293293, 5.036009, 6.6360817, 2.7020519, 4.6400433, 3.0725217, 4.083492, 3.2955456, 6.281334, 4.8234673, 8.867013, 4.9836483, 4.3488517, 4.295518, 4.656481, 3.5676694, 1.3941516, 4.303083, 4.456244, 3.7340846, 5.820341, 1.3853695, 4.84591, 4.047374, 5.2948103, 3.9991364, 1.5518246, 3.4323301, 2.6293721, 5.6313376, 5.1498666, 3.3052104, 5.396412, 4.474126, 3.3126447, 4.4220433, 2.1533418, 2.0550036, 1.4059305, 3.457755, 3.14851, 7.2534227, 2.7574508, 4.4291387, 5.4277415, 7.296745, 8.331425, 5.5425034, 2.2944674, 3.7803485, 3.4704547, 3.7235265, 2.071157, 4.1534414, 3.168891, 6.0837092, 3.9711695, 5.90381, 5.8490806, 6.79321, 4.8419757, 2.8223374, 2.442615, 6.7690296, 3.017543, 3.2557096, 3.554251, 4.1621475, 2.0809333, 3.663383, 6.575765, 3.723594, 5.6833787, 2.7554064, 3.3666742, 3.513546, 2.7342033, 2.235153, 3.2768848, 5.5604644, 4.708097, 2.2967613, 5.909012, 4.7528043, 1.2205347, 2.8010156, 2.128951, 5.9116583, 3.839745, 3.4935431, 6.8813515, 5.4922533, 6.672869, 1.8243006, 3.6846845, 5.1704197, 1.9432641, 3.4469604, 4.0145364, 3.2213674, 2.7989693, 4.3740206, 3.1830082, 2.1386333, 3.9337451, 3.9011743, 4.2801075, 1.7917819, 2.777431, 5.4365106, 1.9050689, 3.2894168, 2.186082, 6.0773797, 2.408764, 2.1210535, 4.2748604, 3.5167935, 2.0582886, 1.7235851, 2.258946, 2.4668984, 3.7188382, 8.516594, 3.5061302, 2.2848554, 4.5728135, 5.155711, 2.4154434, 2.9829953, 1.0408698, 4.0718513, 4.1655564, 3.847942, 4.5856657, 2.5114553, 2.9259427, 3.438756, 2.3334908, 4.1453085, 4.290842, 7.3577847, 3.5714674, 3.5209014, 1.9621462, 2.0362556, 4.080993, 7.5436263, 2.592065, 5.9673996, 3.8016531, 2.8703008, 4.02021, 4.029765, 2.6239064, 3.499452, 2.8542724, 1.9671998, 6.511913, 4.9067984, 1.9090163, 1.830102, 5.284176, 4.8799105, 3.639116, 1.8935816, 7.7243776, 3.6625795, 3.4316475, 2.667474, 2.3429441, 3.2343035, 5.0986795, 4.341025, 3.3033352, 4.8269114, 2.8842428, 3.611334, 6.2561035, 8.230995, 7.900448, 3.760091, 5.3857555, 5.745736, 4.879846, 7.8762317, 4.139644, 7.120846, 3.3534896, 4.745488, 3.7580671, 4.942338, 3.8077002, 3.3263016, 3.9014788, 2.2773705, 3.6490111, 3.42785, 6.6547527, 1.7513068, 4.067134, 6.480367, 5.1670494, 2.4662695, 3.5321543, 4.658288, 3.848349, 2.4638038, 5.857564, 5.504654, 2.5862823, 3.8445628, 3.5390139, 3.1796687, 3.356651, 3.4187045, 3.098776, 1.8602831, 6.826176, 2.820363, 4.372751, 4.619642, 5.2880735, 7.581909, 2.5911536, 1.4332868, 2.570214, 4.5963216, 4.785164, 3.424057, 4.855213, 2.3623524, 7.539374, 1.1261333, 2.5155232, 2.4869018, 5.3434014, 3.920205, 5.1740985, 0.8987296, 5.2833667, 7.5832605, 5.499091, 5.206125, 3.466414, 2.8394065, 3.840879, 8.509617, 7.4509163, 1.9380801, 3.7572446, 3.9231083, 5.1795063, 4.0179987, 3.3337631, 1.8309376, 3.6150653, 1.5588688, 3.7937136, 4.133635, 1.6775457, 7.282297, 7.019997, 2.0517163, 3.198244, 4.484825, 5.0055146, 1.5767024, 1.4908214, 1.9706299, 1.651491, 3.1138527, 3.437203, 1.7959018, 4.5373063, 2.6453705, 4.626959, 4.9415674, 5.4852066, 4.212452, 4.634533, 7.379689, 2.594267, 4.621317, 2.7194405, 2.1827486, 5.302418, 5.447535, 3.5918255, 4.487523, 2.2517138, 1.3562454, 3.8190284, 5.6393604, 2.9467075, 3.7128534, 5.2650228, 3.2579021, 3.1212463, 0.93596476, 0.8232944, 2.541647, 4.753868, 4.180973, 4.5672545, 4.4780607, 2.3839202, 3.4150581, 1.9796374, 2.7014618, 6.4068727, 3.1618495, 6.353608, 6.106008, 5.627528, 2.7470899, 5.5430346, 2.1249092, 5.686982, 2.5520163, 3.382472, 2.7099473, 4.0533032, 2.3028183, 2.5552452, 3.870627, 6.567196, 4.855625, 1.3297818, 4.959029, 4.8958435, 6.0997553, 2.0162725, 4.352407, 1.8262019, 5.24795, 2.0114439, 4.703463, 3.2885802, 3.1240711, 4.1985283, 5.027971, 6.1938043, 1.540678, 3.8073683, 4.9800186, 5.443781, 5.405249, 3.2249727, 6.162656, 3.3533833, 3.7349129, 1.4567015, 5.3698926, 4.8100276, 4.7206883, 5.4562664, 3.102841, 3.335393, 3.9566913, 3.2817302, 2.4463573, 3.6299841, 4.2792883, 3.1283755, 4.6935425, 2.6562448, 3.9495966, 4.1804304, 2.263639, 4.1111336, 3.4182472, 3.569669, 1.8609829, 5.190112, 2.5659337, 6.2989526, 3.4767933, 3.2538357, 8.657407, 5.736573, 1.5811117, 3.1824355, 2.294939, 3.961733, 0.59618175, 3.3412814, 3.6877816, 3.4819863, 1.8545953, 5.972105, 2.2831063, 2.8234942, 5.994632, 3.30516, 1.480963, 3.6880915, 3.726808, 3.945492, 3.4659038, 2.821567, 4.963019, 4.3050528, 3.0861185, 5.7791595, 2.9734228, 5.6659727, 4.2977576, 2.090277, 3.4314876, 2.3737068, 3.7086515, 6.6425743, 5.160309, 4.367062, 3.401023, 3.8789322, 2.8042536, 0.84260714, 3.578283, 3.9536982, 4.468806, 3.160956, 4.7798305, 4.3723187, 3.8351352, 4.2105837, 5.033366, 3.271054, 4.6714053, 6.7122626, 1.9983242, 3.3809688, 2.6413336, 2.831454, 5.211462, 2.4193006, 5.8565106, 2.524499, 2.9718685, 2.6925333, 2.6932147, 2.7570062, 1.8629225, 2.5320187, 2.7208712, 3.054072, 4.8626556, 2.4936547, 4.353755, 2.047716, 5.113362, 7.1033883, 4.913556, 4.9736204, 3.0743876, 1.7897465, 2.9032373, 3.4665244, 2.6536083, 2.1939015, 2.2261317, 6.790363, 5.5267277, 5.2009172, 3.3756995, 2.8087673, 3.4174316, 4.576953, 2.8179865, 1.6815801, 2.8921423, 4.331261, 4.03211, 2.921742, 4.80248, 3.6829453, 1.3336797, 3.2968235, 3.494155, 4.3345437, 3.2204604, 6.71379, 4.3257027, 5.4172616, 2.577397, 6.8539047, 3.78193, 5.256178, 1.7606819, 4.192396, 4.2657824, 1.852191, 3.4133835, 5.609211, 6.782975, 6.0345383, 3.0034316, 2.4156482, 2.8031125, 4.2727137, 4.027567, 5.6986804, 5.098352, 4.940135, 2.1633508, 4.8542557, 4.093521, 7.6295652, 2.7670698, 3.514546, 3.6439655, 1.341949, 2.1764264, 3.3512003, 3.3830705, 3.4187443, 4.037124, 4.22884, 2.3187828, 4.0147486, 2.903542, 4.1075363, 5.865069, 4.6025963, 3.0281017, 2.6519997, 2.4914184, 3.842164, 4.4467783, 2.107389, 3.3177738, 5.922986, 4.205387, 4.185366, 2.6175117, 2.0943363, 1.7113085, 3.6960933, 2.7958143, 4.3690267, 5.033241, 2.1270509, 1.4966224, 3.4056866, 4.0550632, 2.2949593, 3.2533255, 4.157488, 5.201819, 1.5059896, 3.9098492, 2.694045, 4.348772, 2.289422, 3.32956, 1.2698746, 4.260361, 3.3317347, 4.7980957, 2.7353237, 1.8473347, 4.5884395, 1.6010275, 3.8468854, 5.3474774, 1.8522853, 4.3579817, 4.6059656, 2.7193382, 6.1184883, 2.606384, 4.4232907, 3.7873409, 2.2177842, 2.5844584, 3.3937168, 3.3014133, 6.982191, 4.9009576, 4.5019646, 1.0188816, 4.518196, 2.4486766, 4.592166, 3.66468, 4.0383425, 3.9800286, 4.7587004, 2.741106, 5.2695456, 10.12338, 3.7177396, 2.198186, 2.8579965, 1.1549419, 3.9678755, 5.6044354, 2.0545726, 3.9178216, 0.78842986, 4.6196227, 4.6598215, 5.554849, 4.1038423, 4.6962404, 1.6988358, 4.6751757, 4.0147104, 4.9981575, 1.6078607, 3.3959458, 4.3143597, 3.9753141, 3.1234279, 4.453639, 7.475986, 3.666336, 5.099457, 4.276146, 6.560315, 4.193329, 3.121501, 2.3138044, 3.2921247, 3.245395, 4.792443, 1.2060801, 6.0645275, 5.102971, 3.5515273, 5.355722, 0.91084915, 4.387295, 3.666312, 5.064781, 1.9853376, 4.331869, 2.5183363, 4.2148247, 3.6099296, 5.0157843, 3.2041383, 3.9784262, 3.1653988, 1.7907828, 2.759808, 8.085581, 1.634964, 4.8142834, 2.8044825, 6.7858124, 3.6343338, 4.8158026, 4.7088604, 1.2245388, 4.4892673, 2.4180934, 5.360105, 3.1289592, 4.159505, 3.3269444, 2.4254575, 2.008693, 5.659444, 3.6642437, 3.0959883, 4.165274, 5.8112345, 4.275894, 3.6325245, 2.5766509, 4.412099, 4.4335194, 2.6975098, 3.790022, 2.4164488, 4.4732494, 4.2140837, 2.6455584, 3.016264, 1.4065869, 4.191994, 9.562798, 2.9949608, 2.7745678, 3.5991583, 4.2143044, 3.3479238, 3.8842044, 6.2715254, 5.4992886, 3.8618617, 4.269284, 1.5291388, 5.0334315, 4.087143, 3.6810446, 4.2211814, 4.7533746, 4.454941, 4.103437, 2.7103739, 4.778126, 3.9336112, 2.9188662, 8.341357, 2.5167818, 4.3317595, 2.9229488, 2.6015894, 2.1826618, 3.4953547, 2.8503237, 2.7407432, 4.1980844, 7.593319, 1.0433257, 6.9651685, 3.438629, 6.0444646, 3.082199, 3.549208, 5.303196, 5.8900027, 2.0138452, 0.8569063, 3.8186648, 0.98083764, 1.6957817, 3.89254, 3.287779, 3.7512631, 4.266378, 4.8167768, 3.1291099, 1.8875494, 3.1485744, 2.8574228, 5.105135, 5.938549, 2.9597025, 1.4122796, 2.1267734, 3.5359278, 4.892372, 2.5547454, 3.4441566, 1.3931324, 2.8020158, 3.2591076, 3.8717618, 6.9928646, 3.9524693, 4.9280443, 3.638217, 3.433915, 5.1072073, 6.8092136, 7.4138284, 3.0945425, 3.4385743, 5.786265, 1.912032, 3.2267628, 2.8120556, 5.035125, 3.39635, 3.3388686, 4.8303747, 2.9505267, 3.392346, 1.1239698, 1.3771294, 3.222141, 2.3801856, 1.4768262, 3.4804466, 2.435796, 1.592245, 2.142973, 5.434807, 6.6526146, 5.4326744, 6.2387323, 4.6266594, 2.002369, 5.527289, 3.8641264, 2.2684324, 5.863681, 3.1397552, 1.9776473, 1.3037391, 2.9308095, 3.661638, 1.7765836, 1.9814897, 4.99868, 3.4943385, 3.6268587, 5.9353275, 3.7863169, 3.991284, 5.1224437, 4.4032655, 1.941416, 6.7182326, 5.0265083, 2.6899858, 3.7956522, 1.0841706, 2.4363332, 2.2840648, 4.7876472, 2.8329692, 2.9143405, 2.6736526, 1.9088078, 3.086666, 3.7996004, 1.665852, 3.4636126, 3.252072, 1.7109342, 3.7225876, 3.9331765, 1.9197934, 4.801772, 2.5888004, 4.7669625, 2.1993678, 1.9646171, 6.1615505, 5.8866334, 7.7261233, 3.3923016, 1.7121804, 4.4844337, 4.4282284, 5.8756638, 2.0980182, 3.655281, 2.8089824, 0.8615608, 3.464304, 1.832969, 3.4625096, 4.521389, 2.4355001, 1.8569349, 4.762804, 3.0489645, 4.1040177, 6.388745, 4.150181, 5.1640377, 3.5234756, 2.079399, 4.0920763, 2.8300648, 3.419538, 2.65542, 3.3524601, 4.700456, 4.0931363, 6.4289284, 5.407609, 1.5277413, 6.097538, 1.3060827, 3.9886987, 3.486789, 4.052179, 3.6754725, 4.635375, 3.313688, 5.018618, 1.178038, 3.3230507, 5.414762, 1.7419617, 3.3185387, 1.3465338, 3.3628879, 1.797361, 1.9337566, 7.316105, 6.174716, 4.5392, 5.8010163, 4.278079, 4.486917, 4.1917324, 2.1923766, 3.8722115, 4.26112, 8.027435, 5.964917, 4.3355193, 1.4619465, 2.0021484, 5.51891, 3.558755, 1.8464234, 2.6728444, 2.6387925, 3.899791, 2.9845395, 5.178194, 4.5760083, 6.243569, 2.673762, 4.799224, 3.681753, 3.2966905, 2.4969106, 8.867457, 2.8591032, 8.3039055, 4.1105165, 2.8882012, 3.7734714, 3.191407, 3.6234899, 2.5210037, 1.9370449, 3.6223283, 5.1847777, 1.4642147, 5.7470465, 1.8935251, 1.4586701, 3.9294815, 1.6904894, 2.6952763, 5.711913, 3.7302134, 2.3569126, 2.7138467, 7.907957, 4.339963, 3.5246563, 2.1374607, 1.4119062, 5.560972, 3.774787, 3.6042876, 1.0434469, 5.131304, 3.9350104, 3.7868123, 3.8092604, 2.1032557, 5.127866, 3.8933644, 4.234288, 4.615515, 3.4909945, 3.3514214, 1.9613439, 4.8455873, 5.9015026, 3.9171894, 1.6369371, 2.0952694, 4.179723, 8.552718, 2.2671475, 2.233072, 1.8069961, 1.570215, 2.4850376, 2.3619783, 2.6440287, 2.5585735, 2.133576, 2.408331, 4.0937815, 4.2999716, 5.1350837, 3.0761447, 4.574852, 3.9633527, 4.0733843, 3.7212393, 3.8646622, 4.8405037, 3.215785, 2.8866682, 4.727865, 2.7629948, 2.092028, 2.0948532, 5.171548, 3.40879, 3.517261, 2.8802423, 3.5950067, 4.2227306, 3.686213, 2.6446486, 2.3673663, 2.7359335, 3.2394316, 2.7324598, 3.4299026, 3.682722, 4.1369715, 3.5710144, 2.862329, 3.210134, 2.0097997, 2.9557128, 2.6384463, 4.8540587, 3.8711743, 2.1841018, 1.6486864, 0.9089555, 1.9314178, 2.7254303, 3.7387881, 2.8864315, 2.822756, 3.2069302, 4.2608123, 4.567916, 4.112357, 2.6617477, 1.8270295, 1.4763322, 2.1757178, 1.5877566, 1.4383322, 1.5527503, 2.3657176, 9.843477, 3.705625, 3.1809626, 2.9356303, 2.9913323, 1.7680441, 3.0581646, 1.6233382, 3.8611507, 3.190105, 6.564723, 4.661687, 6.7597685, 4.499014, 2.2036726, 0.92883277, 3.5168638, 3.6923165, 3.2205229, 3.227177, 5.744263, 3.9103904, 3.5455277, 2.0804298, 3.6230574, 4.5500984, 5.9595613, 4.923741, 3.4064584, 5.876379, 6.11036, 3.2401116, 3.172707, 2.9093401, 3.0275059, 2.4492269, 0.9881958, 3.2302003, 2.8636794, 5.5490685, 5.552429, 2.8007274, 2.62323, 5.562116, 3.6633787, 5.88654, 1.3550012, 2.7336864, 5.766939, 2.8159065, 2.5106678, 4.5622425, 5.5628376, 1.94957, 3.0597768, 3.6536536, 4.725222, 3.1994104, 3.7862856, 3.616615, 4.135192, 3.1350431, 4.9034505, 2.1747234, 1.3150332, 1.9837766, 4.770475, 2.840035, 4.006938, 2.03824, 2.984833, 2.2168288, 1.5374811, 3.1335435, 3.9129515, 2.9755406, 1.7246903, 3.2321749, 6.5873604, 3.0700202, 2.8082802, 2.3730316, 4.8645854, 3.0931413, 3.752029, 4.289602, 5.7386613, 4.581791, 3.1831782, 3.8239408, 2.2672825, 1.8655229, 5.278302, 4.8102937, 2.0236363, 2.1900954, 3.295628, 4.587595, 3.0287294, 4.141109, 3.556416, 2.3614638, 5.4720035, 1.9832692, 2.9696894, 2.1883821, 4.138748, 2.757481, 3.1943307, 2.707108, 0.7215757, 2.494361, 4.7002773, 3.9634616, 7.14371, 4.942155, 3.3927102, 3.039839, 4.110009, 2.6289754, 3.4534674, 2.432105, 2.580901, 1.929226, 4.017343, 3.997005, 4.531867, 5.1452246, 1.3549628, 3.928423, 4.0685887, 3.5523207, 3.9963658, 5.831791, 4.620793, 4.060502, 3.4318142, 3.894601, 7.0292454, 3.6797354, 4.336656, 4.135147, 4.8910646, 4.186747, 2.9575484, 1.8489621, 1.4204793, 1.8658465, 0.70355743, 2.6059804, 1.1538923, 3.8685756, 2.3470867, 6.2750845, 2.57692, 1.3249258, 2.6879385, 5.978206, 3.8583207, 8.817587, 1.4608374, 2.0289187, 2.2722132, 4.2753315, 4.311716, 2.6998096, 4.7332015, 3.2511675, 2.3584604, 4.4382315, 1.2292318, 2.7006378, 2.106146, 0.67394745, 3.6095366, 3.8938632, 7.781122, 2.2083147, 3.278084, 4.170405, 3.6257405, 4.8298693, 3.588143, 5.4996123, 5.0515842, 3.2654893, 3.4949749, 2.330793, 4.913287, 3.2773557, 3.6590388, 2.6785502, 3.2872908, 2.806046, 2.0496092, 3.0957885, 4.227002, 4.1047597, 2.5544722, 5.6169224, 7.5147743, 6.472698, 1.6801205, 2.4239106, 2.6366143, 5.308241, 3.9743001, 3.1065652, 3.0970757, 6.500917, 4.223031, 3.172236, 2.7190976, 3.2583737, 3.8948488, 3.894843, 3.776205, 3.2234802, 6.9324174, 4.753662, 4.889859, 4.9138765, 4.460333, 5.5327544, 4.725638, 1.7808757, 4.8028455, 1.0836546, 4.039523, 3.8255358, 1.6296889, 2.8303783, 2.4584098, 3.9054573, 2.8081026, 4.8416853, 3.2462256, 2.3075001, 2.8519866, 3.4155169, 3.660272, 1.5488695, 2.9039268, 3.866938, 3.7411609, 3.6703115, 2.4323742, 4.9349885, 3.5093803, 4.0116, 2.8364794, 6.9168577, 3.6061625, 2.630988, 3.2851112, 5.9656296, 5.199419, 2.354688, 2.7004383, 2.5022366, 4.0657196, 3.3831458, 3.1228561, 4.986476, 3.2738228, 2.7356763, 3.8720832, 3.358326, 4.842244, 4.013628, 4.1656785, 2.7022872, 4.2674646, 3.004702, 4.6158338, 5.3397756, 8.449768, 4.5229645, 4.494645, 4.589118, 3.4823596, 1.1179595, 2.3908348, 4.1035395, 4.9828076, 2.7017426, 4.5777464, 2.8331149, 4.635845, 2.3313057, 1.9112526, 3.5207222, 3.2600255, 2.9673388, 3.7067876, 2.8011103, 4.8764825, 2.5028586, 2.3413055, 7.105872, 3.3854563, 5.86226, 3.1515722, 2.8842752, 5.5126553, 2.5709715, 3.2119665, 2.599321, 2.8271823, 1.752307, 3.922741, 3.6164448, 2.159754, 2.2225258, 6.0270452, 4.6466, 4.043468, 3.6164296, 4.5344086, 1.8965002, 2.2464678, 3.5806, 2.779552, 5.6687183, 3.9839072, 5.5526, 3.4120693, 1.1816967, 3.1604908, 3.0110922, 5.190172, 2.1713972, 4.530338, 2.9445896, 3.2203765, 5.7129974, 4.8416967, 3.360632, 4.8783846, 7.2173595, 1.837107, 2.926433, 4.319394, 2.5620432, 3.02669, 3.1430516, 3.6518638, 1.8004276, 3.2732077, 2.6139927, 3.868028, 3.1327999, 4.018965, 5.829975, 2.156367, 1.4196721, 1.750057, 2.4763145, 3.9411836, 5.5946937, 1.9955177, 3.556026, 1.3986001, 2.3757718, 6.5440035, 5.8013077, 4.213889, 2.8856492, 2.1812758, 3.0543876, 1.67468, 4.270259, 1.678535, 2.8806493, 2.5194216, 4.5360208, 5.379128, 4.7697263, 2.9689648, 3.0866692, 2.322737, 2.8058581, 0.58814895, 2.3789647, 3.9187381, 3.741724, 3.2177353, 1.6580651, 3.9418538, 2.5688505, 6.5007896, 3.3783937, 1.7420017, 2.6892724, 2.3538084, 3.7978137, 6.119055, 3.739255, 6.010101, 3.2697208, 7.0944505, 6.6791973, 3.4670446, 4.5936937, 5.323373, 4.3705487, 2.012854, 3.0708559, 1.9825389, 1.9800078, 2.0690007, 2.2098272, 1.370835, 6.6098022, 4.6917124, 3.3777776, 7.250668, 1.9043332, 2.698635, 3.619736, 3.3938913, 5.550352, 3.4051998, 6.4327574, 2.1084447, 2.315659, 4.012843, 3.3544512, 4.1109443, 5.7604027, 1.9147272, 5.3675947, 2.1994917, 2.8514264, 4.382292, 5.0922666, 5.848877, 4.5298862, 5.8848624, 4.1963444, 4.065921, 4.7906504, 5.316737, 3.1518257, 5.526088, 3.5111213, 3.385475, 6.0816083, 2.4886308, 3.6147168, 4.0167184, 1.2250541, 3.3663468, 4.4959207, 5.6041985, 2.1207237, 3.2394552, 2.4478796, 0.97136897, 2.6456587, 5.157992, 3.2764854, 2.2019558, 1.338727, 1.6948017, 2.693366, 4.310687, 2.8713896, 2.8025408, 2.6950731, 3.8498712, 3.7066693, 5.797435, 5.4882183, 3.0101755, 4.598989, 2.1498983, 3.2238781, 3.111728, 3.558, 4.1345644, 5.7995214, 2.7255769, 6.4456673, 7.5480156, 4.5627, 3.628095, 3.2037947, 2.5457315, 1.2354499, 2.2199602, 3.1824512, 1.4088993, 2.8875432, 1.2673708, 2.0152376, 2.4715502, 3.1526206, 1.8712153, 3.5834296, 5.105972, 4.6726403, 5.20611, 2.6861148, 3.5763578, 3.3765721, 2.95878, 5.9222355, 3.3585973, 2.8969455, 8.660078, 3.7221878, 3.3735843, 3.217946, 3.4560332, 1.8242248, 2.2900236, 2.991637, 2.553008, 1.8993739, 4.4921455, 1.9717002, 7.09287, 2.198094, 5.7716274, 2.9236927, 2.4078283, 0.98763186, 1.4206733, 5.7899203, 1.1867015, 4.067462, 6.156711, 4.0586705, 1.5297682, 2.196885, 2.4294815, 7.6560736, 4.7741156, 2.497243, 3.1639113, 2.2044826, 4.177684, 4.6464047, 1.2814641, 2.9949577, 2.9606023, 4.2234516, 2.5680795, 3.3309064, 2.9458475, 1.4198711, 7.0811195, 7.220281, 3.312588, 4.1414447, 4.9996386, 4.2657747, 4.0540447, 3.7378156, 4.927212, 1.6299877, 1.0976535, 3.2883792, 1.1447042, 3.2575812, 1.8301896, 3.5596068, 2.7920194, 2.546934, 4.407915, 2.4172406, 3.7765884, 6.4454846, 2.0784075, 2.42248, 3.1774054, 2.8979948, 1.4795655, 2.7907653, 1.2748117, 6.2828326, 2.7119722, 2.9031868, 3.2318275, 4.0909615, 2.7155309, 3.97652, 3.573495, 5.8601165, 3.148877, 3.4757683, 7.28146, 1.9468559, 2.482011, 3.321961, 4.8747344, 0.8031026, 4.3681655, 3.9032369, 4.039305, 1.4274261, 3.1441853, 1.56108, 2.180072, 2.135933, 8.073395, 4.0874977, 6.640934, 4.5956583, 5.5617027, 5.7708874, 3.3452816, 4.318439, 2.5063655, 1.4566269, 1.8452559, 3.6546776, 1.9100208, 2.577848, 3.3453803, 2.6080313, 1.4010291, 5.7197313, 3.762776, 7.595664, 3.4872007, 8.26237, 2.7442806, 4.1741657, 2.4797196, 3.1770687, 4.8043327, 6.496684, 5.457361, 2.6849532, 5.5437503, 2.3708057, 3.2798111, 4.018907, 2.8786817, 1.044002, 2.5043957, 3.6453333, 1.3985238, 3.191636, 1.6107385, 4.173041, 2.085203, 4.495371, 6.0371256, 4.234212, 1.1440787, 4.987303, 2.9584367, 2.2321877, 3.984716, 2.844823, 3.0649261, 1.6316059, 3.1776533, 3.2864327, 0.9980159, 3.2789598, 2.6218443, 3.3559651, 3.3775527, 4.1353903, 6.971782, 7.3162837, 3.20776, 1.2982287, 1.9988241, 6.204257, 3.310398, 2.5649543, 3.5785918, 5.3322725, 2.2440786, 2.3903399, 2.551724, 6.441902, 2.3826003, 3.419407, 2.6931303, 4.0303116, 1.9668777, 5.865079, 2.1566992, 1.6127526, 2.0550814, 2.4251993, 0.6163979, 3.2162104, 2.5454288, 3.6938472, 3.3104947, 1.5357198, 2.3066642, 3.7409017, 3.3109322, 4.442266, 3.8136215, 2.6865788, 3.0849032, 3.60701, 3.0114143, 3.4193127, 1.5649688, 4.0048027, 4.638726, 3.9154983, 1.4674311, 3.1030326, 4.4097824, 4.248639, 3.3669434, 3.5694637, 1.0748119, 1.6444049, 4.454776, 5.1274514, 5.4008417, 1.0588918, 3.5537171, 2.4002986, 2.2431421, 3.9110808, 3.5614667, 5.086672, 4.8947554, 3.915406, 5.0603275, 3.878066, 2.136513, 3.5353093, 3.2929573, 2.1019716, 4.2743874, 5.696126, 6.0225306, 3.8991227, 6.740416, 4.7423024, 1.044582, 6.5974193, 4.376528, 1.8709977, 2.7037838, 2.6774588, 2.69659, 3.127102, 3.4087327, 3.3703852, 3.281303, 2.1039014, 3.5320914, 3.5715418, 3.5323825, 4.6060314, 6.1649284, 4.2264643, 2.8721857, 4.4892855, 1.1908801, 3.0060227, 5.4496574, 1.1699451, 4.119729, 1.1767921, 2.9897227, 2.613734, 2.7409623, 4.340342, 3.3748498, 3.2918885, 6.2215314, 4.985442, 3.6225379, 2.1354642, 1.8050945, 6.1601276, 4.2598686, 4.1225204, 2.9887156, 1.4808275, 2.117158, 1.9902099, 3.329812, 6.8018284, 5.4700713, 1.7986705, 0.9974734, 2.4405677, 6.720649, 4.3582954, 3.8177667, 4.0584183, 7.7775383, 3.12785, 3.7220054, 4.6269913, 4.5344257, 2.4761128, 2.8109422, 3.720193, 3.3821983, 4.0304255, 5.3968153, 6.8450174, 2.434156, 3.9085307, 3.759501, 4.0939674, 2.3453317, 2.726294, 2.1168013, 2.695969, 2.4447854, 2.2637148, 2.796616, 4.258003, 3.6587195, 3.5791917, 2.7039552, 3.4694378, 2.9237182, 3.3349972, 4.321204, 6.2230587, 3.9148462, 4.1472836, 6.658119, 4.6454744, 3.4704328, 5.4713917, 5.3595977, 3.1134748, 3.549035, 2.9480352, 0.8031818, 5.2212067, 2.0614011, 2.5140944, 5.303314, 2.9368544, 3.4331994, 2.1443741, 5.9232635, 3.1751275, 3.4941487, 2.0669532, 2.8783417, 3.133021, 3.8158088, 6.7719545, 4.63544, 1.7174822, 1.4114032, 1.6646495, 4.3858128, 2.281134, 4.6555696, 1.4679351, 3.3120294, 5.3333344, 2.848987, 2.270195, 2.8614905, 3.9554596, 3.2723498, 5.085677, 5.9348893, 3.4325361, 5.3203516, 1.9770155, 2.6203365, 2.7822013, 4.395566, 2.5842056, 3.892836, 1.503037, 1.4472724, 4.633506, 2.7295446, 1.5057502, 2.7998686, 3.6060054, 5.2777486, 4.3615537, 4.704198, 2.3076396, 3.4250689, 4.170412, 6.400113, 2.9233828, 4.2575893, 1.7876929, 2.0682232, 4.3516474, 5.560539, 4.929414, 7.6031528, 4.1060123, 6.6924095, 4.7823076, 5.7588325, 4.229639, 2.0204046, 2.5330565, 5.4557, 2.1257865, 2.6916332, 1.5980182, 4.4620876, 2.2396536, 2.8402555, 3.0427265, 4.485685, 2.4217193, 1.0708432, 2.614871, 1.8788265, 3.5761013, 4.3867044, 2.20697, 4.173135, 3.5046346, 4.811372, 3.5492458, 3.4003677, 2.7266698, 6.629223, 3.9884686, 4.448324, 2.0497768, 3.8244398, 3.8885214, 0.43964338, 2.5859241, 3.3158739, 2.7615886, 2.7985575, 4.2430487, 4.055724, 3.4844124, 6.005049, 4.6967964, 5.7767053, 3.1880379, 1.4121689, 5.3606195, 5.6780148, 2.7370548, 2.0379815, 5.2024765, 1.7425079, 2.0033123, 1.5040917, 3.8714108, 0.92916626, 5.526746, 5.2849493, 4.001668, 7.832715, 3.990143, 4.2532067, 2.8508549, 4.865383, 0.9605874, 1.4111048, 3.511491, 5.417648, 0.49660915, 1.7706501, 2.6468143, 3.3567357, 3.5454624, 4.580841, 2.5022838, 2.121512, 3.0559099, 3.4364233, 3.4972372, 4.1781883, 5.110635, 10.629986, 4.9469013, 5.720642, 1.966259, 3.3984413, 4.6826315, 4.190092, 3.7266977, 2.2484488, 1.3589138, 3.7835188, 3.8539493, 1.7671735, 4.2665167, 1.3932709, 1.6484845, 3.6375804, 4.2729845, 3.5701456, 3.6577804, 5.315722, 2.4127815, 2.3154051, 2.1649566, 4.4960256, 2.4902368, 2.9879155, 2.8542855, 0.62116265, 1.3054949, 2.356967, 3.995891, 4.7826233, 2.731974, 4.884094, 2.2070692, 2.5882325, 3.840971, 3.5991569, 2.495346, 1.8695195, 3.9943037, 2.4340997, 4.1678157, 3.7216203, 2.4381728, 1.1161057, 3.024265, 4.7879353, 3.9524589, 4.070046, 5.6331964, 2.5480564, 6.2683015, 1.2731845, 2.3893256, 0.76748765, 2.1006649, 2.2924228, 5.6070204, 2.8903599, 2.7152114, 2.3434944, 2.4585426, 1.4076514, 3.7184877, 4.634948, 5.3565836, 2.4487553, 2.6529813, 1.8677106, 2.1952572, 3.9937792, 5.7436275, 3.7318287, 6.339306, 3.7671375, 3.7947884, 3.9001489, 3.2250068, 1.4294889, 2.798783, 5.1890335, 7.539677, 3.2070112, 1.298722, 3.5894625, 3.384577, 4.7530594, 1.6957694, 2.5480564, 3.8481743, 1.5202647, 3.6715293, 4.5211625, 3.4061065, 4.2742558, 3.3113, 2.1978526, 1.695713, 5.3226266, 5.56023, 3.3860962, 4.3634295, 2.4713445, 3.8098776, 3.4176846, 3.1873689, 4.6530466, 2.5635927, 1.6136993, 2.1788568, 2.1132178, 3.6924183, 3.5948474, 4.441041, 2.4305, 2.44143, 4.5531387, 3.0657957, 2.6793911, 2.0921922, 3.528727, 7.6450486, 4.2203827, 4.8923125, 1.5781024, 4.563543, 5.220275, 2.8030472, 4.1450753, 4.4322753, 1.634483, 1.1824574, 1.0987742, 4.257152, 2.2369323, 1.7713317, 2.8571324, 1.5645951, 2.099006, 3.9381182, 2.4141011, 1.6087227, 6.330182, 7.870557, 4.114807, 3.1306553, 3.1443098, 2.2631447, 5.154911, 6.281508, 3.9388838, 3.8925815, 2.9186456, 3.747851, 2.9647546, 3.8226905, 2.5626512, 2.4155378, 9.758699, 3.2115185, 4.2067313, 2.198189, 3.9698772, 2.3933902, 2.609092, 3.2372031, 3.3108516, 4.645182, 1.6402493, 1.7997631, 1.374152, 5.278769, 4.3446255, 3.1275058, 2.1585498, 4.543405, 3.002379, 4.323148, 7.8760614, 3.0351245, 6.0904045, 1.9524453, 3.35817, 2.7745256, 6.544503, 5.264228, 4.3983884, 2.6007504, 2.572049, 2.6625326, 3.0770595, 1.4951138, 3.983488, 1.95071, 2.1238508, 4.408951, 1.947909, 2.8910975, 3.5394764, 3.366837, 3.602115, 2.7836905, 1.864546, 1.9741685, 2.3719544, 3.112383, 3.1663394, 2.7660193, 0.9118428, 3.437538, 4.9310856, 4.582576, 6.9573274, 6.8573256, 5.900613, 4.062584, 6.138295, 2.9042702, 3.9450407, 3.718579, 4.513503, 2.5840867, 1.7965335, 6.3234925, 5.4695687, 4.8771305, 4.4476585, 1.5808828, 6.1514883, 4.2924066, 4.6339197, 2.6995826, 1.1647227, 1.3289249, 1.528835, 2.0172682, 4.5477366, 1.982619, 3.2801783, 2.4452062, 4.2916164, 1.7905914, 3.1667948, 5.793005, 6.5965853, 3.215355, 4.1357894, 3.128872, 2.330387, 2.669803, 3.2027552, 3.0318894, 2.5886939, 2.493916, 2.3872457, 3.3425138, 3.754628, 4.084397, 2.7998369, 3.7527463, 2.651056, 6.717362, 2.035416, 3.6128132, 1.9366957, 2.9470718, 3.2245705, 2.5614383, 4.6638646, 2.6807418, 2.7235014, 6.6236796, 6.355568, 4.5779357, 2.4747314, 2.5540776, 1.0226876, 2.8718457, 2.6699245, 4.5773087, 5.650055, 4.3289824, 5.769124, 2.0189323, 3.5641837, 2.1958213, 3.0291536, 1.4809523, 2.5919735, 2.911273, 4.723711, 3.3103797, 2.1584249, 4.539933, 2.8903828, 4.110574, 6.251725, 2.5878854, 3.8635335, 3.8498464, 2.3899002, 5.78494, 6.7937527, 3.6690526, 2.2708087, 3.412056, 3.3903623, 1.993155, 4.2353506, 0.77405787, 3.8732421, 1.7430232, 4.1624746, 3.7710335, 7.38918, 4.4561462, 3.5841217, 5.342822, 5.8238707, 2.3425295, 3.4195883, 2.2395978, 1.8987908, 5.4836454, 4.126463, 4.3946095, 2.8081155, 3.1651773, 3.2829251, 2.718012, 3.2295322, 3.4111004, 3.4785385, 1.4919221, 3.8650408, 1.2111044, 3.4781427, 2.664588, 1.5640087, 1.3007679, 3.4246306, 6.010989, 2.4700327, 2.989191, 3.1159835, 2.9963593, 2.4366527, 1.5587658, 4.636422, 6.135589, 4.396927, 3.733714, 3.0030186, 4.3776164, 2.0394497, 4.3422127, 4.031973, 4.72992, 1.8833065, 3.1912184, 3.9276903, 2.1067374, 1.9718845, 1.7991645, 3.4571142, 2.3937383, 5.06022, 4.6123776, 3.6505103, 1.4609194, 3.115636, 1.2977406, 1.8043776, 3.9398315, 6.0591645, 3.0449383, 3.014862, 4.1660404, 2.9644098, 3.4680228, 4.8732324, 3.1955433, 5.2077937, 3.3684235, 2.6907303, 5.472702, 1.9214505, 1.4200194, 7.223419, 6.847411, 3.1280985, 4.414504, 2.8505561, 5.483076, 3.8317783, 3.7620678, 3.3793411, 1.5318594, 4.0255084, 2.8483586, 1.5845878, 1.2392081, 4.0694084, 2.8305717, 2.8692074, 2.8812814, 4.129099, 3.0260458, 1.848431, 4.0248256, 1.8730562, 2.5039349, 4.5984664, 2.462421, 1.6509904, 2.6507702, 2.3051934, 3.8969774, 1.5258038, 2.172789, 3.1315088, 2.1237662, 4.8542404, 5.1427536, 2.0423439, 1.9918872, 4.622321, 4.837816, 2.3646321, 3.5175595, 3.8910275, 4.497996, 2.6942387, 3.2732553, 3.289768, 2.6648498, 3.3958964, 1.4177157, 2.7979374, 4.210449, 4.0731544, 1.3744481, 2.151331, 3.2493134, 3.0777683, 2.2465825, 3.6328073, 1.7449629, 5.7610674, 6.7223663, 2.3328629, 2.8594744, 1.393527, 1.6822296, 4.5261135, 2.7977755, 6.443817, 5.659484, 3.1886196, 1.6848174, 3.4856882, 4.0799265, 3.8700514, 3.0683842, 3.7574596, 4.3827124, 2.562601, 2.054616, 2.4528747, 6.9461884, 3.4476976, 4.201055, 4.078285, 1.636882, 6.691963, 8.083998, 2.9737592, 4.861521, 2.1797771, 1.1770072, 3.1502585, 2.6412957, 2.1849127, 3.1727345, 3.873617, 4.2495337, 2.4855335, 1.7505567, 2.5344372, 5.4164457, 4.1828847, 2.3209014, 4.0267262, 0.7063699, 3.754328, 4.076191, 7.534219, 1.7216806, 2.574998, 3.4673293, 4.424019, 3.4368021, 3.671875, 2.5968928, 4.29838, 4.1916246, 1.7800913, 0.8632098, 2.3913803, 7.621427, 4.0640717, 4.0150967, 1.3226948, 2.5525534, 1.7261648, 2.369437, 2.5417562, 3.8179476, 1.5462481, 1.9248217, 2.2247627, 5.114464, 2.4302216, 2.3681273, 3.7747774, 2.790352, 2.4140902, 1.5989518, 2.090065, 0.9028138, 4.416249, 2.6212034, 3.1618443, 3.0861015, 1.3629837, 2.221837, 2.6282983, 3.0401466, 2.6249456, 3.149498, 1.3355074, 2.880272, 7.1668186, 4.824337, 4.356983, 3.3986719, 3.1133595, 1.9655042, 4.2744193, 6.0195265, 3.512541, 3.3348732, 3.0965614, 1.5668762, 1.2664452, 4.5566096, 4.2077084, 3.5725398, 3.702912, 4.031335, 3.4252176, 2.5199428, 3.1885414, 4.514221, 5.725913, 3.4730072, 3.995957, 3.8414388, 3.034772, 4.5510345, 2.084976, 2.872304, 2.8386164, 8.61496, 2.3583915, 4.375908, 3.4651642, 3.5741234, 4.122388, 3.9244387, 3.1083128, 5.7480984, 3.0266967, 3.7347498, 3.0957594, 1.9830146, 1.7254703, 1.8510172, 3.8411539, 2.2868085, 4.8763704, 1.0878491, 2.0278828, 2.263454, 1.4156389, 3.227714, 2.6718297, 1.7745206, 2.1320589, 3.898456, 2.4982336, 5.540965, 5.6511707, 3.1427555, 6.0515313, 4.1868873, 6.3006644, 4.496151, 3.653707, 3.8427017, 6.26021, 4.6411514, 2.3406894, 4.3529487, 4.1028786, 2.2096949, 1.563493, 1.4708173, 3.050966, 3.8996096, 2.0541651, 3.7611632, 2.5540955, 3.226635, 3.3974836, 6.000056, 5.706756, 2.1491418, 5.7432117, 3.2992282, 4.1282396, 2.1665168, 2.822528, 3.7710154, 3.6009157, 4.1872087, 4.057961, 2.7468703, 3.574512, 3.4993339, 3.3825488, 7.189206, 4.463127, 1.3388134, 1.5864419, 1.6369683, 2.3859112, 2.3134673, 3.0552096, 3.6424432, 4.8005743, 3.0630033, 5.7866335, 3.7556539, 4.1843386, 4.71226, 6.459592, 5.665101, 3.9771752, 3.8011296, 2.035565, 3.3567438, 5.2640615, 2.3560596, 3.4536505, 4.934057, 3.2993584, 3.1125937, 2.9513257, 3.3941662, 2.8097494, 3.3900208, 1.6079164, 2.0647693, 3.7772212, 5.263931, 2.6015048, 2.8831656, 1.899595, 2.9594054, 2.7385724, 3.728448, 4.825102, 3.4993591, 5.837448, 3.7909935, 7.8014956, 3.1140785, 7.7508974, 5.1097484, 2.4050112, 4.071088, 3.224145, 3.6195645, 7.870182, 1.7609444, 3.7727432, 5.7542553, 3.4081948, 2.5651312, 3.4389384, 3.42982, 2.0231824, 6.4066434, 4.4151063, 2.2596514, 1.9803667, 5.506683, 5.144379, 1.9875906, 4.664635, 6.484649, 4.6617174, 3.0398438, 1.4143363, 4.3228455, 1.6398919, 1.1209929, 1.7143332, 5.6717796, 2.3708684, 2.8555713, 2.669963, 4.4108334, 3.170568, 1.8925866, 3.9633818, 2.185032, 3.246335, 4.084915, 4.089837, 6.15233, 2.3399856, 1.7794247, 3.1218705, 4.316494, 4.4980564, 2.334978, 2.9075007, 2.9653928, 2.820127, 3.2916048, 3.1752272, 3.0511925, 1.8759938, 2.3994286, 2.6237226, 3.9885507, 3.2791367, 5.5385284, 3.8162374, 4.994963, 2.070621, 3.8574595, 1.4512234, 2.6679063, 2.835659, 5.6395974, 2.997153, 3.0664988, 6.101573, 1.829459, 4.954523, 3.3521247, 1.6806732, 5.6973467, 5.3131704, 3.6355433, 2.3783813, 7.028223, 6.6298513, 1.7534504, 2.8277888, 2.7251365, 3.275858, 3.7501647, 2.4818678, 2.4314659, 6.2030535, 2.7518678, 5.2825766, 5.6288476, 1.9018478, 2.6495566, 1.258464, 2.8345518, 1.5576558, 1.7185184, 2.671345, 2.4208314, 3.5639505, 4.0945954, 1.8353971, 1.3381567, 2.612146, 2.1566453, 3.0267458, 2.3960257, 2.2661166, 3.5767388, 3.496666, 3.3995473, 3.377141, 5.759085, 2.9090831, 2.4782176, 2.3630652, 3.4756045, 2.488779, 2.3403413, 4.422022, 3.9136617, 3.4979687, 2.3559124, 2.303183, 5.529051, 0.9148998, 2.2978845, 4.0634813, 4.8334827, 5.314442, 2.223843, 3.857998, 3.8559315, 3.853271, 2.8829446, 4.4255285, 5.8644295, 7.511852, 4.93859, 4.022992, 1.8754203, 5.746847, 4.6559124, 2.8251631, 3.2659037, 2.8397727, 3.101684, 2.836055, 2.915213, 4.1115217, 2.545514, 6.538761, 3.1676679, 3.2078416, 1.7698486, 4.742841, 3.957013, 4.8420362, 2.5650494, 3.99551, 1.7980881, 7.110573, 2.3634124, 3.729169, 3.2289252, 1.9331763, 2.1639771, 3.725109, 2.6769614, 1.7136467, 2.098232, 0.768455, 4.4485044, 4.7422037, 3.2000358, 3.275625, 5.802758, 4.1794853, 0.80186677, 3.1205997, 4.1809464, 6.5485415, 2.6581335, 4.5009727, 3.514506, 2.793696, 3.5840468, 2.166728, 3.9027557, 3.9132662, 1.9035921, 3.7412484, 1.8346058, 2.9604707, 3.870864, 3.7115924, 2.5084257, 4.046738, 1.7073419, 1.9818239, 1.580335, 4.2001886, 3.0673923, 1.588707, 4.255047, 4.743801, 6.7455816, 5.4438167, 0.4850492, 3.1777782, 3.621869, 3.1338277, 2.9890387, 2.7937396, 2.8938522, 3.7516167, 1.0492073, 3.3160245, 5.204863, 3.6867507, 3.7091856, 4.2037797, 3.8688765, 2.7244995, 2.1418457, 0.48876905, 2.5102572, 1.9632695, 3.2274272, 5.9248676, 3.30799, 3.0074778, 0.66310984, 3.3958957, 4.2478695, 1.3506563, 1.8797652, 2.573175, 3.8556943, 4.96082, 3.0099938, 2.515139, 2.8339758, 1.2893252, 1.073679, 5.760055, 3.1710708, 5.9058485, 3.9500132, 5.838959, 2.581862, 2.558127, 4.2747145, 3.02534, 2.6725528, 4.0446773, 2.9615903, 4.1922636, 4.7260823, 5.9971085, 7.155349, 0.99809325, 3.3781247, 2.1993577, 2.2329059, 2.077974, 2.573336, 1.8062985, 4.5095277, 5.482431, 3.178131, 2.3654227, 2.012591, 4.13091, 1.3809172, 3.7698011, 5.640987, 3.3617241, 2.138158, 3.4154024, 2.350482, 2.5176082, 3.1599188, 1.9118195, 1.4489282, 2.3233151, 5.461586, 2.352411, 2.6018248, 5.5449295, 4.258793, 3.6259613, 4.4285755, 2.017699, 1.9595158, 3.1551323, 2.8484294, 2.5045133, 1.6157392, 3.894566, 3.3477654, 3.0327735, 2.4346523, 3.8898752, 1.0088418, 1.3969547, 2.8300157, 4.295744, 3.7711716, 2.9235702, 2.7934425, 2.7718596, 2.3389437, 3.9943652, 3.8304305, 0.85851336, 2.947124, 2.9953275, 3.4033499, 3.30486, 1.948081, 4.1710496, 2.6842897, 2.9769008, 2.9501944, 4.424483, 3.624299, 3.187171, 6.248762, 5.4712305, 4.3472233, 2.5141623, 1.5362654, 4.559264, 4.828435, 2.3532991, 2.4910364, 6.4751616, 5.3178434, 3.5067048, 3.0271602, 5.4944324, 3.8547177, 1.2797097, 2.7529063, 4.8124776, 3.3796308, 5.90428, 2.026262, 3.6250823, 3.147232, 7.7214837, 4.521566, 1.8589618, 1.8890758, 2.8766909, 3.459642, 7.190938, 4.8534603, 3.0563903, 3.739111, 3.8715138, 5.2154117, 2.175456, 2.8635375, 2.3026, 3.5574336, 3.7926245, 2.025464, 1.5676581, 3.6485348, 1.8153038, 5.2661276, 3.371811, 0.9086962, 3.41857, 3.4362729, 3.28749, 6.0394278, 3.4487805, 4.473907, 1.3472021, 6.9957075, 9.139795, 8.862521, 4.6874766, 3.0632083, 2.3758836, 1.5679088, 1.8194098, 1.655441, 3.1803179, 3.43193, 4.063717, 2.019184, 2.7544937, 3.4789848, 3.9294176, 2.6519325, 1.7201482, 2.9424605, 1.9698844, 4.5852103, 2.984634, 5.4142256, 9.475424, 5.567663, 3.9418616, 5.430562, 3.5059485, 1.9057772, 3.4641664, 3.6731308, 2.2992618, 3.0216568, 2.557884, 2.4560437, 1.5479013, 1.8887539, 2.7917721, 2.5979562, 5.9703393, 4.1068997, 1.6863632, 3.1922941, 3.066885, 4.3580294, 1.4896321, 4.6381187, 2.84521, 2.6103587, 3.5482483, 4.1360674, 4.5117292, 1.3772031, 2.63071, 3.0991282, 0.90960854, 4.534112, 2.85196, 7.685309, 3.920368, 3.3415868, 1.8763933, 4.728199, 4.690584, 2.264618, 1.827506, 3.932611, 2.74373, 4.393438, 4.172904, 3.8588264, 1.2877465, 3.1698895, 2.779961, 1.9956297, 3.4753888, 1.1261519, 1.8674058, 4.2544847, 3.8292222, 2.9607675, 2.1667728, 3.3897524, 3.1901555, 3.531871, 3.0110273, 6.2049527, 4.4734592, 1.7529516, 5.0354557, 6.145294, 4.968548, 3.228035, 4.76891, 4.075365, 3.26025, 1.4284693, 1.9521098, 3.0533774, 2.94572, 3.7450795, 4.184159, 1.8161517, 4.5667267, 3.6835117, 3.499445, 4.4071465, 4.11664, 3.2297237, 4.483426, 3.3290017, 1.2027191, 4.6356554, 0.8743857, 4.853134, 2.9621077, 2.7181733, 5.6745367, 3.6785889, 3.4599352, 2.1763062, 0.837049, 2.2148895, 4.710246, 2.1496537, 6.5999956, 2.5492942, 2.5007336, 2.1783707, 2.0183785, 2.4409194, 1.4757416, 3.502605, 3.2146583, 9.907525, 4.8437657, 2.5285702, 1.9992931, 3.5260139, 2.5873075, 6.8293514, 5.282257, 1.0526043, 2.8891287, 5.76219, 2.7939162, 2.0840313, 1.5598872, 2.979553, 4.9127617, 2.75447, 4.4597487, 2.2522037, 3.9040737, 3.0572667, 1.4815795, 2.527365, 4.1767592, 2.4163876, 1.0416629, 1.7822164, 3.9032686, 5.2840376, 1.0646927, 7.99929, 3.234025, 3.2899942, 3.2454736, 3.559795, 4.7125397, 3.1714082, 3.3891656, 3.2851346, 4.526258, 1.8068333, 2.4000998, 1.8920078, 3.9421792, 3.2594564, 2.979155, 1.7278049, 4.331437, 5.242855, 1.6586561, 1.948591, 4.126327, 6.1777716, 3.4572926, 3.370026, 3.7370143, 2.1937609, 2.7751193, 2.616623, 7.13587, 3.7405634, 3.784051, 2.813956, 3.3227808, 3.421451, 5.1798434, 7.377407, 4.7921124, 5.658564, 1.5339515, 3.8140337, 3.1074104, 4.1144457, 2.4898412, 3.7624857, 5.295189, 6.4677076, 1.4153948, 2.5400844, 2.0643108, 1.4854224, 2.010899, 3.2281933, 2.6569402, 3.0333729, 4.840995, 2.1983976, 3.8169827, 1.9030806, 3.9725487, 3.6821008, 5.6810236, 2.0387611, 2.676467, 4.7750907, 3.0090983, 0.9935548, 3.191412, 5.182606, 3.8981, 4.688033, 3.1623633, 3.3685791, 1.2814664, 1.0555226, 2.0255027, 1.7913439, 3.3288352, 3.769374, 5.409381, 4.4240627, 5.1781664, 4.2521634, 2.9786196, 3.711388, 2.1936815, 2.516724, 3.6188445, 4.2354364, 3.8742356, 4.5918374, 2.3228173, 4.3800945, 3.267883, 1.4660008, 2.2179594, 2.3186674, 4.0242825, 3.1576793, 4.034651, 6.390624, 5.121365, 5.0479107, 2.4360833, 1.8633503, 2.4220405, 3.5400422, 4.0435395, 1.6947919, 2.885858, 1.8999639, 2.420744, 2.8527942, 0.48718148, 4.3811665, 4.2327094, 1.859823, 4.02145, 3.3891819, 3.2309153, 3.8766942, 3.5177245, 2.3136814, 1.5122492, 4.6196203, 3.476461, 4.6780148, 3.2279778, 6.383398, 2.6948915, 3.09408, 4.0848026, 4.0443754, 3.652684, 4.1894875, 2.4930775, 1.6918178, 1.9630581, 1.8607571, 1.5355341, 5.978458, 3.4313836, 3.1753063, 4.193787, 6.1413336, 1.8902563, 2.8329868, 2.1691554, 5.9319024, 1.7612174, 2.0315614, 3.1834674, 2.3821962, 0.8841524, 2.3512483, 2.980802, 0.34934983, 4.795997, 1.7924393, 4.572266, 3.789003, 0.98268473, 2.011862, 3.3305402, 5.7902265, 3.94945, 6.6586857, 4.4375296, 2.952197, 2.9157624, 1.0711904, 3.6708665, 1.655369, 3.811528, 1.6206532, 2.959424, 2.6137214, 3.0691926, 2.424325, 4.3072605, 4.1742663, 5.8979654, 4.3609614, 2.760635, 3.645083, 3.7428198, 3.1808643, 3.7599719, 2.0016952, 2.409425, 0.9076922, 4.160171, 3.2648144, 3.7686303, 2.4196281, 2.2590935, 4.4139566, 3.4325094, 1.7083803, 3.4602032, 4.260989, 2.873837, 1.7993231, 1.9269245, 4.270116, 2.9400117, 4.1956973, 2.7892873, 3.08433, 2.063755, 4.6659355, 2.344245, 7.2817845, 5.401359, 2.3953433, 4.181159, 2.559749, 3.3240883, 4.0776377, 3.8879433, 2.7319665, 2.163136, 4.7093616, 5.2214756, 5.526389, 1.8730943, 3.2147236, 2.1536415, 3.6882043, 5.5929775, 5.8413067, 3.9694467, 1.0961204, 2.7782936, 3.6062279, 3.963341, 7.640517, 2.9319794, 2.6639223, 3.0742295, 2.327496, 2.1705134, 4.7176404, 4.310128, 4.279172, 4.040177, 2.0768461, 4.5750775, 4.933161, 1.9168285, 2.088259, 2.641202, 1.6262195, 2.6003933, 1.5313228, 1.2664828, 4.9669585, 3.1784697, 2.2064445, 3.214006, 5.5836897, 4.6319647, 2.5356033, 5.2961392, 7.3998632, 5.9212465, 3.5604033, 2.7398653, 1.4599944, 2.8794677, 2.6444144, 1.9493558, 1.7639744, 2.3609304, 2.207746, 4.6097555, 4.2931304, 2.3349574, 2.430132, 4.767641, 4.175115, 3.4363465, 4.395913, 4.4146624, 3.836135, 2.4704864, 1.1166387, 3.0548458, 1.8311756, 2.7746696, 1.3582537, 3.39434, 5.1798058, 2.7026734, 2.5682883, 3.783908, 2.9152055, 3.4251933, 2.4506967, 2.6088057, 3.955122, 3.6255345, 6.777236, 5.051236, 2.9190068, 3.6466358, 2.2032669, 1.2264335, 3.8847032, 4.173889, 6.8170195, 2.9933162, 3.8073642, 3.9652457, 4.0893707, 2.7132812, 5.603627, 5.114225, 3.082855, 1.7853812, 1.6967679, 2.6428623, 3.615478, 4.866439, 3.05429, 0.7811345, 3.8794868, 3.5816526, 4.3146095, 2.9995162, 3.6526368, 2.8631632, 3.4078736, 3.1789174, 5.090326, 2.337535, 4.076238, 3.7206044, 1.7834969, 1.2874465, 3.7672696, 3.9568267, 2.466979, 2.9865303, 1.8879766, 2.5067766, 5.1802683, 4.381384, 5.559597, 5.70584, 4.249283, 2.5999222, 3.3697882, 3.8405185, 6.0159187, 8.243025, 3.7006524, 5.344739, 1.3082119, 2.843436, 1.6878302, 2.1319714, 3.8612962, 1.2627504, 0.8973112, 1.4499383, 1.8289502, 3.9459147, 2.7048361, 2.5155892, 2.9877193, 2.3427243, 5.1721773, 2.8271005, 2.3959143, 3.6699762, 4.11745, 7.5309353, 2.0962393, 3.6292968, 3.7762146, 4.6303053, 4.662475, 4.281276, 6.200762, 3.6908233, 4.6183214, 3.2852454, 2.7201934, 2.295581, 3.1241207, 5.2943344, 3.4481018, 3.2951548, 4.1361923, 5.066019, 2.008757, 4.4124026, 3.6484976, 6.192473, 5.8699503, 2.4586535, 2.6040668, 1.7574651, 2.5840755, 4.434005, 4.6427145, 3.593972, 1.20385, 3.3524413, 3.5432708, 1.7052212, 4.003578, 4.070835, 2.2414916, 3.7262115, 2.1515822, 1.1223907, 2.7442064, 3.1816363, 1.5515409, 1.066999, 1.3898667, 4.753798, 1.8313142, 3.4774842, 3.9424803, 3.4713259, 2.2300909, 4.1120186, 3.180766, 6.3001704, 5.2864027, 1.9442139, 2.4734693, 3.8936481, 3.6502073, 5.9448657, 3.587585, 4.371835, 4.805911, 5.4452333, 1.9265864, 3.6063204, 2.3427567, 3.4339874, 2.1367364, 1.9720938, 3.8368187, 2.951427, 4.3720293, 2.9322903, 2.2514718, 2.9915934, 3.0517175, 2.9151335, 5.549239, 4.262852, 2.362294, 3.3143806, 1.3530903, 3.5848331, 2.3485732, 2.8579206, 5.4121714, 4.4061546, 3.6772878, 4.7366667, 5.3491683, 5.8513308, 3.111549, 5.05498, 5.326016, 4.8515315, 3.2514753, 2.9292881, 2.0162902, 2.5096285, 2.9706836, 4.3097343, 3.064988, 3.9617124, 1.7675905, 5.1901875, 3.1199436, 1.8326983, 2.182413, 2.433135, 2.156383, 3.3849614, 2.781187, 3.3061733, 2.2281353, 3.2095053, 7.053549, 7.521911, 7.4144654, 2.36659, 2.199491, 3.3359795, 2.7620153, 5.4856796, 1.6860685, 1.2271587, 2.3561227, 1.9735811, 2.0435185, 2.4352555, 4.948675, 2.792172, 1.5995258, 2.8396714, 2.5966163, 2.2734156, 3.5036955, 4.3123865, 5.059799, 3.4870424, 5.389684, 3.005454, 4.8883715, 3.8517752, 2.8462067, 2.3281536, 2.5456443, 2.7820594, 3.4632657, 1.6299781, 3.6963463, 5.0479784, 2.7569628, 1.9784225, 0.68405575, 2.6153748, 1.6621623, 1.8078783, 3.6266646, 3.1176212, 3.5123901, 2.2932596, 0.9249325, 1.115315, 3.664924, 4.5744596, 5.968593, 7.788164, 6.121172, 1.9005418, 4.633457, 2.017023, 2.2198293, 3.6496172, 2.7489996, 3.602159, 2.6730635, 2.7208903, 2.9102933, 2.813921, 1.9800454, 3.132558, 4.736856, 5.0631847, 4.836936, 2.6256998, 2.0803514, 4.612697, 1.4980618, 3.38739, 3.7422533, 5.227267, 1.3406658, 3.4990735, 2.1048265, 0.9749274, 2.3024216, 2.408718, 2.1971428, 2.745211, 3.5554326, 3.4995775, 4.767581, 3.2712486, 3.6012597, 1.4814814, 1.5547528, 2.6876779, 3.0626202, 4.64126, 6.8639746, 2.8910098, 2.6843746, 2.8576992, 3.9902442, 5.653614, 3.111084, 3.072444, 4.702823, 2.2787719, 1.9756885, 2.1504004, 3.9865527, 6.1483545, 4.4472156, 1.7799504, 3.1551476, 2.6932597, 2.2347763, 1.5515081, 4.0109043, 1.2658218, 0.96155256, 1.5781853, 2.4971366, 2.123473, 2.2156067, 2.272062, 3.2664533, 1.7631605, 1.6986115, 4.5928226, 5.2024293, 5.6830072, 3.43709, 1.9322634, 4.0085254, 3.8433704, 4.165534, 3.4830103, 4.9398518, 2.144833, 2.1737719, 2.3946092, 3.2196956, 2.5752497, 2.421751, 2.1025426, 1.3627154, 2.6801019, 3.9868326, 5.887636, 5.7101436, 2.535078, 5.640594, 3.7840157, 4.217613, 0.38361394, 1.9303188, 4.455392, 3.8062367, 5.300659, 3.5333073, 0.58388555, 3.316166, 1.5872526, 2.7444048, 2.2130752, 3.02291, 0.875229, 2.7814288, 4.1852465, 3.9939947, 2.4786744, 3.2885227, 1.9094993, 5.7461386, 3.3887844, 3.7422547, 2.82536, 4.79206, 3.4486322, 1.6314359, 2.0645638, 3.8038402, 5.6489964, 1.5518863, 1.861346, 3.833647, 5.141217, 1.6613283, 2.2813663, 4.1860914, 1.1371565, 2.1106324, 3.4848402, 4.9541016, 3.027834, 3.6426265, 3.3992126, 3.0733564, 4.153052, 4.7283306, 3.8286164, 3.6620789, 3.130199, 2.1087961, 3.5351286, 3.9429631, 5.05928, 5.323273, 4.214139, 3.9452996, 3.6116438, 7.6099234, 4.295664, 5.4630013, 0.5586045, 3.4114351, 2.5221581, 2.4009414, 2.4203773, 2.486813, 3.6266189, 2.649595, 3.208176, 2.7798076, 3.594555, 3.0074577, 3.0804396, 3.257822, 2.0342667, 2.277174, 5.1404, 3.145675, 2.6344886, 2.9374065, 2.5393076, 5.001423, 1.0988402, 5.3770375, 2.5443804, 2.235314, 5.588644, 5.944284, 5.643667, 5.528121, 4.543762, 3.3323832, 2.955079, 1.7884159, 1.6424577, 5.9822454, 4.2839723, 2.2191358, 2.1832726, 2.3600235, 3.171898, 3.21441, 1.7906421, 2.5509434, 1.0431437, 2.4853742, 3.9681284, 1.338397, 1.5938313, 3.8994288, 5.5383835, 3.7906437, 5.586114, 1.7545191, 1.2496996, 4.351252, 2.31804, 2.725773, 4.0679016, 5.486103, 4.4955955, 6.542289, 1.827134, 2.8484979, 1.5849919, 2.028052, 4.509678, 6.069599, 3.103037, 3.8533497, 5.828396, 3.437579, 1.582629, 5.4956956, 4.109516, 1.3686202, 3.5680006, 3.1870437, 6.0439234, 3.025516, 3.670104, 3.2153995, 5.217917, 3.5083575, 3.5080276, 5.574309, 1.4371234, 3.1698573, 3.7639487, 2.0732315, 2.2255828, 2.749115, 4.1825624, 7.7025824, 4.4410253, 2.6608243, 1.6642609, 4.6363, 2.5838249, 1.4910676, 3.403627, 4.07476, 2.6493437, 4.7148995, 2.7114356, 1.5369892, 1.9642423, 2.8948145, 3.3828106, 3.201431, 2.0427072, 4.074047, 4.022575, 7.271638, 1.9234312, 2.8950782, 7.166156, 3.8341932, 2.2275407, 2.700884, 1.2491659, 1.7982117, 2.2571144, 2.041601, 2.2044053, 1.7777334, 4.678922, 4.6903477, 1.9637326, 3.7080407, 2.6077235, 4.403763, 2.615909, 3.0243998, 1.2732588, 4.7730265, 3.9732656, 5.6011615, 1.0241127, 5.220579, 2.986833, 3.474656, 2.0665832, 1.733702, 1.6086943, 6.280425, 6.9272084, 4.91969, 2.5586667, 6.8111973, 3.1090643, 4.7838316, 4.821621, 1.0530298, 2.504714, 1.4503417, 2.595428, 2.8122392, 2.561138, 4.4380608, 2.7595305, 4.3962216, 2.8438513, 3.3611684, 3.269597, 4.372102, 5.474772, 4.429098, 2.7198834, 2.0072865, 5.0930104, 5.1248817, 1.9217159, 3.9466379, 2.1927438, 5.1401825, 2.85101, 6.2514267, 5.190927, 2.8394163, 3.6267953, 3.1892443, 4.1835794, 2.814259, 3.3214514, 4.303874, 3.8928008, 3.6770625, 4.7304373, 6.464454, 3.7541432, 4.0642166, 3.681448, 2.7525477, 1.4944625, 2.5278914, 1.8971293, 2.967371, 2.9983068, 1.5078931, 4.6968274, 3.1721535, 5.091243, 2.6768584, 8.715767, 2.6166663, 3.1984682, 2.1398292, 4.854761, 2.8842506, 1.376473, 2.5041301, 2.8151214, 2.7765913, 3.3677106, 2.5993857, 2.495008, 1.6992481, 3.4446247, 5.070467, 4.4381022, 4.7191343, 6.303874, 2.81981, 3.1757212, 5.7805347, 0.85647726, 4.7102165, 3.92255, 3.269322, 5.3364563, 4.619235, 2.8662086, 2.9063964, 2.2606723, 3.2321243, 4.447779, 3.633267, 3.0238004, 3.8769903, 3.709538, 2.9438634, 2.9245293, 1.1927651, 2.1691787, 2.0940163, 2.8858137, 2.72466, 2.8731546, 5.90763, 5.6465855, 3.1330078, 3.495603, 2.238226, 3.0272346, 2.0375178, 2.6469975, 3.2550583, 2.2408953, 1.6507503, 4.9683957, 3.7794728, 1.668197, 1.677606, 5.1580563, 1.2749462, 1.864575, 1.1420312, 2.4326644, 5.926018, 6.481141, 4.1090827, 4.2301598, 2.2645965, 1.2469782, 2.864008, 4.5682487, 2.5113153, 3.14038, 2.6162055, 4.8461523, 2.2442245, 2.7130399, 8.056082, 4.3648233, 1.5998476, 1.3076035, 2.842228, 4.8763394, 4.234055, 4.953023, 1.4480608, 1.5749317, 3.0391982, 1.2273829, 5.382692, 3.1838653, 3.7930558, 1.2990568, 2.142191, 5.098364, 3.115157, 2.986136, 1.7916946, 6.891985, 4.518458, 3.0340889, 6.051097, 1.0509614, 3.6840734, 3.319852, 3.322079, 7.38421, 4.6902256, 2.344075, 4.5234437, 2.4531877, 1.0817829, 2.1406016, 1.1534722, 2.968163, 2.4951012, 2.965012, 2.0478132, 2.1212919, 2.0143046, 4.267276, 2.4444757, 4.522794, 3.0475416, 2.6437807, 4.1234317, 3.7214806, 3.476879, 1.8006251, 1.2704116, 3.7550497, 1.553091, 3.156442, 4.701574, 2.7968762, 5.475661, 2.3057747, 2.1096663, 3.950015, 4.396084, 5.0914917, 2.2389247, 4.5033207, 1.645474, 4.1795883, 2.0260115, 2.575614, 1.9074548, 2.9474807, 4.472613, 3.6205125, 2.4179392, 1.7174425, 3.618976, 6.0661497, 1.572957, 4.988118, 1.8152132, 4.4754896, 2.2289095, 2.2414513, 2.6627207, 2.690384, 1.9285784, 1.9800593, 2.6481793, 3.1626682, 2.3685174, 2.8129854, 4.2813945, 5.5174437, 2.5362892, 1.7496762, 2.5108335, 4.277094, 1.5333472, 1.0796611, 3.16775, 3.545545, 1.9393568, 2.7439365, 2.6225204, 2.735811, 1.6963007, 2.9248242, 2.970861, 2.883829, 3.0561867, 1.9139602, 2.644728, 3.8883598, 4.8537846, 7.0078516, 3.1600041, 3.2616353, 6.4788246, 5.758048, 3.5471091, 4.8937798, 2.4728045, 2.6147928, 2.984712, 2.4074185, 2.6808133, 1.4082438, 2.7736807, 3.158929, 2.1648302, 3.769812, 4.1677537, 5.4198456, 4.2579937, 5.7057314, 4.5287848, 4.904047, 3.7196543, 2.26151, 4.206086, 4.2316003, 3.1877015, 4.186624, 4.0679493, 2.098164, 4.668225, 3.2895145, 2.5665271, 0.9706598, 4.759759, 1.6223996, 3.535153, 3.6987183, 2.9153228, 1.5612026, 4.3910913, 3.729067, 4.1823406, 1.1860092, 4.6807714, 2.1815653, 3.217917, 3.0679932, 2.1935859, 6.0768437, 5.483118, 6.6504383, 6.3853583, 3.9713843, 2.8166952, 4.287869, 4.907013, 2.5789182, 4.065857, 1.785212, 3.8464298, 0.96682006, 2.3027735, 2.266453, 0.3381245, 2.8263545, 0.8319258, 2.840698, 3.059229, 3.8978434, 5.7283463, 2.3235373, 1.3589203, 4.1064777, 1.5613741, 4.7632294, 3.8490453, 2.5008419, 4.9487133, 3.6425667, 3.2247987, 1.3835682, 4.3233624, 3.9773865, 3.3652744, 2.745358, 3.810461, 4.410774, 5.415374, 1.5592185, 1.5795721, 1.1802063, 4.32066, 1.7967038, 1.8281089, 3.711549, 3.0869098, 2.6111736, 6.751195, 5.4749584, 6.6892276, 3.061658, 3.2203932, 2.9203525, 5.535266, 2.0578184, 3.6919372, 4.168661, 2.3797011, 1.2097794, 4.722513, 3.6854625, 4.8316126, 4.477401, 3.7031937, 4.8589334, 2.688077, 3.9744701, 4.723379, 4.960546, 4.2152824, 1.6046393, 2.445868, 2.0230393, 3.0778236, 4.1241255, 6.0379744, 0.96458006, 2.8737125, 4.480491, 3.3939466, 2.980201, 3.251437, 2.851976, 4.542992, 2.8891046, 2.8296065, 0.4012327, 4.7841864, 5.2843246, 6.233119, 4.434163, 2.980167, 1.0179857, 2.1245847, 3.1885705, 4.3846793, 1.171589, 2.4717515, 1.2954121, 3.823257, 4.6413636, 2.7362437, 3.874406, 5.140734, 2.3334675, 3.6186266, 3.6915798, 2.6277282, 1.2201071, 5.0338116, 3.3393753, 3.8925424, 2.8696346, 3.2019324, 2.4138196, 1.8351365, 2.5664864, 2.4698877, 1.9629592, 2.70161, 3.2435389, 3.9550595, 2.6369982, 1.0379866, 2.7087266, 2.4589326, 1.0308574, 6.0393553, 2.3626888, 5.4340944, 4.2218366, 3.3201847, 3.7858953, 3.7480235, 1.967758, 2.483293, 4.912974, 1.7768315, 2.8132713, 1.8556833, 3.179337, 2.7427135, 2.7066302, 2.7533927, 2.916626, 2.6378164, 2.7368922, 2.9876266, 6.72758, 3.6793838, 3.6490664, 3.183416, 3.9046502, 1.817801, 4.095171, 1.8470225, 2.5146954, 3.3728795, 3.150111, 4.1018353, 3.6830935, 5.2359877, 1.1803141, 1.5291733, 2.8412662, 2.9580736, 2.1623857, 2.0915966, 5.053148, 3.2053847, 2.7524943, 2.9692502, 2.017207, 5.7633877, 0.3716482, 6.423729, 1.0528411, 5.4814167, 5.580245, 1.7492567, 3.60352, 6.6435857, 2.9565375, 1.8227488, 2.870378, 5.3742924, 6.2209053, 1.4247954, 2.7293627, 4.07078, 1.7147495, 4.9503, 3.4300137, 3.5947373, 3.1934924, 2.3649988, 1.6984917, 3.8244095, 1.1608502, 6.374853, 3.2107506, 4.4670086, 3.9764566, 5.230465, 2.3595035, 1.8695121, 1.7141509, 3.8983707, 3.029016, 4.8725553, 5.156096, 4.346262, 2.395197, 6.6206636, 2.331512, 2.8742595, 2.6424818, 2.3347545, 2.879507, 3.806008, 3.7668939, 3.212841, 1.7421863, 2.5102878, 6.714027, 4.0991926, 1.065582, 2.235349, 2.4672756, 6.0493813, 2.3993168, 2.6125116, 2.5036423, 1.9171944, 1.2477546, 1.3605891, 4.197812, 3.669, 2.78867, 4.793312, 2.5470417, 3.101136, 2.8359833, 5.307922, 4.5328918, 3.0124657, 4.6223693, 2.8469076, 3.4007142, 3.3859825, 3.270442, 1.6298192, 4.484607, 2.9855208, 0.6447592, 3.15975, 2.9463239, 2.8872817, 2.5315757, 4.1040235, 3.3869858, 4.740656, 3.6041656, 2.8070357, 5.139724, 3.0070846, 1.5581651, 1.7343944, 2.1129663, 4.804964, 3.1627169, 5.1801243, 1.4472094, 4.07454, 3.730968, 1.82778, 4.1554513, 3.7841198, 1.6700668, 3.75503, 3.2959769, 3.3375642, 3.1395936, 2.4077687, 3.9090776, 3.8870296, 3.740728, 5.2685523, 3.8493614, 0.64059114, 2.895972, 2.429318, 3.6367097, 3.3360639, 3.9928875, 7.0398083, 3.328291, 2.849987, 2.403804, 3.1684155, 2.8059635, 4.0354767, 3.7778926, 3.4172535, 3.4724874, 7.205067, 2.203358, 2.7409, 2.4919884, 6.6714816, 5.2223096, 1.929991, 5.632317, 1.8266871, 2.2326508, 2.8055305, 2.492037, 2.6953442, 1.7612948, 3.3370242, 5.9386315, 3.8512464, 2.0328515, 5.3511305, 1.944913, 2.0883572, 3.9560418, 1.1478982, 3.7430744, 1.2312335, 1.9064445, 3.5234463, 5.218855, 6.1042576, 3.74795, 2.6260328, 3.243619, 4.3458495, 2.0766935, 1.9747205, 2.2276905, 1.5979867, 2.252233, 1.3245541, 2.728427, 2.2522671, 4.333928, 4.1640587, 2.153614, 5.3286524, 1.8645049, 2.777811, 3.5898638, 2.6123326, 4.050899, 4.7586813, 0.3390289, 3.0766373, 1.3571111, 7.358556, 1.9867364, 2.016163, 2.2083342, 5.583831, 5.9149957, 2.9265354, 3.1721826, 3.3011887, 0.49754423, 3.7680588, 3.4036214, 4.035825, 5.426611, 1.8189287, 3.9446342, 1.8932023, 1.0707814, 3.6203055, 1.7332134, 1.7745571, 5.412222, 2.489242, 2.0523703, 1.6096644, 2.0528536, 5.1602182, 0.40256166, 0.79691875, 1.2153568, 3.9085088, 3.6082623, 2.2265923, 2.2553315, 9.580355, 3.9362397, 1.9410863, 2.543479, 2.9860957, 3.3103056, 5.2692404, 4.9933505, 3.9306521, 1.9727024, 2.6358, 3.5702794, 2.531779, 1.8168147, 2.031756, 2.2421303, 3.6048276, 4.8835487, 5.5406265, 6.1958437, 3.273697, 4.156478, 3.063973, 1.7562718, 2.9379854, 1.0644708, 3.091242, 4.598763, 2.8155205, 2.8290248, 4.090697, 2.1379292, 2.5031059, 1.6297802, 3.0673223, 2.0505736, 1.2271221, 1.674422, 3.6564455, 5.2700396, 1.7885069, 1.9079084, 3.8344667, 4.37867, 5.233937, 6.465664, 4.8180556, 3.5189905, 2.8995113, 2.7132816, 1.725734, 1.6990776, 4.8705697, 1.7869462, 1.457867, 4.1290846, 1.8822944, 2.8251257, 4.4352765, 4.477693, 3.928749, 2.0642052, 4.3661284, 5.186664, 2.7847033, 2.1829915, 4.613386, 3.874672, 2.939045, 2.146141, 6.0137453, 2.2089884, 3.5675945, 2.4400668, 3.1096885, 3.158801, 5.4288664, 4.0992746, 2.4372828, 4.025423, 3.3748627, 3.4871068, 2.6517382, 2.800067, 4.175535, 2.2865193, 3.7582324, 2.3442416, 5.820417, 5.166317, 3.1956468, 2.7981908, 2.9000435, 2.885286, 3.6097493, 3.8014681, 1.7033142, 1.8537958, 1.7133458, 0.8388406, 1.7975637, 2.7277339, 2.5565689, 2.8869932, 1.6884832, 2.9709535, 5.293095, 1.2219365, 2.9935088, 3.4244528, 3.308134, 3.4729419, 1.0708109, 1.3970747, 2.5611928, 1.0567425, 3.7241635, 1.9574052, 3.4492478, 6.180926, 8.545143, 3.7303398, 2.9642553, 3.146432, 3.069769, 3.1292126, 4.8469453, 4.7201924, 3.9927268, 2.0217772, 0.9803617, 2.7970219, 3.3327506, 1.7331192, 2.8499656, 1.8232872, 4.585363, 5.3061275, 2.4581213, 3.8629456, 3.143491, 2.714468, 3.0377693, 5.699281, 2.6578045, 3.225278, 1.610208, 3.272783, 3.1850538, 2.4074676, 2.633554, 2.6607356, 1.7963264, 1.0822706, 3.3969312, 2.2933884, 3.270916, 1.871678, 0.9249805, 2.3587766, 1.910346, 5.7415166, 3.1231194, 1.9918442, 4.3794875, 3.2982512, 6.5145264, 4.7222495, 2.8918138, 2.247532, 2.2032933, 2.4252121, 3.1682549, 3.8471923, 4.2133274, 1.5555165, 2.2925024, 4.328415, 3.191949, 2.4802766, 2.1775446, 1.5021268, 3.6771894, 1.9441115, 5.226358, 2.620786, 2.7842605, 2.3916993, 4.316731, 2.6812723, 5.9846973, 4.8788576, 1.3629124, 1.7736714, 3.593833, 2.4770687, 4.655609, 3.631094, 3.0574846, 3.6602702, 1.8968132, 4.9164414, 2.8840523, 5.465526, 2.3345592, 2.9929075, 1.730613, 4.243222, 4.7404537, 4.5690107, 1.7246028, 2.3145208, 4.3121223, 5.934797, 2.2764535, 1.2875347, 1.5122714, 2.1467721, 3.5705194, 1.3697221, 4.0803747, 3.8416238, 1.6819646, 4.1757255, 2.8824925, 7.2594204, 4.7418647, 2.0870383, 4.0720196, 4.9089117, 1.4931545, 1.6458569, 3.5334897, 1.6918724, 2.094891, 2.5227008, 3.044159, 4.4547625, 3.560893, 5.004757, 2.1024346, 3.0470343, 7.6066227, 4.45735, 2.356196, 3.1887906, 2.652086, 4.425393, 6.6366777, 3.5981514, 2.0409157, 1.7749563, 4.2209134, 1.1980329, 4.7075186, 4.1613245, 2.5244172, 4.8697844, 4.3675137, 5.907837, 3.0218484, 1.129322, 4.8078775, 1.6684563, 2.6602163, 3.690186, 1.571241, 2.7498243, 5.0241566, 8.127847, 5.344818, 3.7405357, 4.594451, 0.9832243, 2.664067, 3.2878447, 6.1047993, 3.760703, 2.5931726, 1.7602444, 1.4672127, 2.4679005, 4.333011, 1.6175042, 4.6586227, 3.0871716, 2.0944593, 4.222887, 3.330556, 2.5703034, 2.9901319, 3.139608, 3.928921, 4.4339175, 5.398219, 5.162326, 2.0482056, 4.076331, 4.2181425, 2.3090992, 2.7875834, 2.6463296, 2.3315578, 5.2792463, 1.7380395, 1.3366561, 1.9973052, 1.6920736, 3.8113673, 3.190692, 3.612229, 1.8716493, 1.5863991, 1.8662905, 3.712972, 6.6982126, 4.996394, 2.789339, 2.6584942, 2.2904088, 2.9046693, 1.0964608, 2.8912063, 3.5477195, 6.8467026, 3.6998472, 2.2983825, 2.7133436, 1.9778124, 5.153822, 3.1365542, 1.8484933, 3.0082073, 4.180563, 1.4279528, 3.4583178, 4.933006, 6.192442, 6.4396853, 3.1293905, 5.4264402, 3.382936, 3.0721617, 2.0642366, 4.6183825, 2.3433175, 5.864311, 3.682825, 4.2588367, 2.0544095, 3.1324148, 5.0335717, 2.9662266, 3.8616724, 3.63875, 1.9515879, 1.4417273, 3.0455317, 3.1946263, 2.4837377, 2.2363827, 3.9668777, 1.6288015, 4.428768, 5.6259246, 1.6384287, 1.2229192, 1.932, 2.2650712, 7.848762, 4.624507, 2.1462688, 4.755847, 2.7380178, 1.6181295, 2.7030187, 2.412766, 1.2564635, 5.4115477, 2.3792262, 2.2483578, 3.219287, 6.5822616, 4.4528933, 2.9674406, 5.082713, 6.62085, 2.5111725, 2.1743417, 4.47797, 5.223234, 7.40512, 1.3633289, 4.1423683, 3.486124, 4.109498, 2.609623, 6.074576, 4.3494406, 1.21275, 1.9460219, 3.6499372, 1.3549293, 4.9418764, 4.552956, 2.859256, 4.4869013, 2.8420358, 2.6105013, 3.2185845, 3.2446713, 3.8018713, 2.2190094, 1.5429122, 7.230892, 2.8205268, 2.2201948, 5.2167745, 1.9077039, 4.2236214, 4.0200596, 4.1538215, 1.7960289, 4.9950633, 2.1666198, 2.4342947, 1.4845864, 2.7277796, 3.0027518, 2.8041167, 2.5118027, 1.5646465, 6.27676, 4.8811173, 3.2954473, 3.4162183, 2.1443694, 3.725763, 3.402451, 2.4310675, 1.8650049, 0.97974765, 2.9569654, 2.0186017, 3.683384, 1.6156121, 2.3192313, 5.189701, 4.889406, 3.844172, 2.1799684, 0.78411984, 1.0245788, 3.3895173, 3.0250316, 2.1608353, 2.8202066, 2.931659, 3.475348, 5.0261145, 5.4293528, 4.9399657, 3.5766718, 1.9413371, 2.5332942, 6.041561, 2.5765595, 1.9125168, 3.5338612, 5.044259, 1.9715655, 2.1488307, 2.7787294, 3.2988284, 3.24057, 2.67212, 5.606545, 5.402709, 6.0962477, 2.4549758, 2.4974678, 3.5794442, 3.646239, 2.6134298, 2.6420503, 3.0859456, 3.941483, 2.7384615, 3.319892, 3.071403, 4.487868, 2.6197782, 3.3731742, 1.2729331, 2.5405624, 4.308241, 3.8411171, 1.5615126, 1.6273336, 2.8961422, 3.8581934, 3.5407562, 0.8431515, 1.822795, 3.0468297, 5.0384583, 4.131892, 3.843523, 2.6674776, 3.7745042, 3.9358726, 3.0879693, 3.1398504, 6.241184, 6.365755, 6.381645, 3.744605, 2.781241, 1.6492902, 3.157182, 1.5341653, 1.7516783, 1.3788828, 3.0332074, 4.235498, 4.1015515, 2.2331576, 6.23418, 5.1207924, 4.17198, 2.4241822, 1.1604056, 4.2565637, 2.8662357, 2.325601, 1.6554487, 3.2208154, 4.010436, 2.3737628, 3.7750857, 2.31492, 3.987556, 4.3812976, 1.4267615, 1.3676026, 5.3854365, 4.614991, 3.3208354, 1.8716328, 3.8480513, 3.9525661, 4.2029285, 2.5307941, 1.9795752, 4.326692, 2.0983787, 5.509214, 4.1578617, 3.192041, 3.9123492, 3.9633782, 5.4272804, 1.7196265, 0.9596036, 7.1854057, 2.3752656, 3.972241, 1.207453, 2.6554618, 1.7518553, 2.5370545, 2.9824467, 2.8730888, 5.5437427, 4.864998, 4.1437926, 3.9892228, 4.8393726, 1.3771503, 1.0016365, 2.1052508, 3.200323, 2.2702432, 2.0853953, 3.4138951, 1.9368284, 5.1455426, 2.4745958, 6.525936, 8.383814, 3.154075, 3.8921957, 2.4430122, 3.6644297, 2.1059194, 1.6250161, 5.538664, 3.6108935, 1.9423441, 1.2374271, 4.1975117, 2.9639013, 2.9668899, 3.6453714, 1.8818771, 9.131321, 2.1628308, 3.5414698, 2.4253926, 3.4989583, 3.4229321, 3.9263253, 2.2742832, 2.9110901, 2.508416, 3.443705, 4.168334, 5.9179707, 6.866043, 1.4484165, 2.1904867, 1.1448824, 3.0285697, 2.9778664, 0.4598614, 1.9436394, 3.3728483, 2.476001, 3.0275013, 3.1252003, 4.2558336, 3.296033, 4.040537, 4.762907, 3.9249568, 3.331919, 2.3258104, 2.5937827, 2.9557066, 4.6641216, 3.6779041, 3.7951064, 3.3388596, 3.56924, 3.3897781, 3.6800861, 2.157535, 1.7197824, 3.423558, 2.1753027, 4.4151855, 1.4195764, 3.8109052, 4.9207478, 4.783166, 5.007784, 1.3633416, 4.9354753, 2.1983378, 1.8343079, 3.0462716, 5.552324, 4.518819, 2.1741552, 3.6147187, 3.1895113, 6.277943, 3.659583, 1.1115566, 4.2769704, 3.9267838, 3.345757, 4.1241484, 2.6635144, 4.329702, 3.5655978, 2.8200011, 2.7714427, 3.3100772, 4.130619, 4.737433, 2.8907876, 1.0964241, 2.2928095, 2.7478654, 3.1883054, 3.055907, 5.0515485, 1.472697, 2.206229, 4.9835906, 6.0647306, 3.4547384, 3.4154313, 2.32613, 1.0139829, 2.1513562, 1.3525809, 3.5640943, 2.3229628, 1.0871971, 1.7791793, 3.1308362, 3.8265076, 2.8799562, 3.6361837, 2.7253215, 2.2188745, 2.9428823, 4.0450897, 3.2459004, 3.167324, 1.7385821, 3.5434706, 1.5678742, 2.966742, 3.0361211, 4.0479355, 1.4282985, 2.6643488, 2.8270946, 4.9456677, 2.9354134, 1.5566711, 3.0926783, 2.0551422, 1.4674898, 5.7367525, 4.0760493, 2.1160257, 2.2783318, 2.453965, 2.3644795, 7.296007, 2.5894234, 5.4916425, 2.7180076, 1.9314215, 2.8980427, 5.587304, 5.6132746, 2.7706914, 4.536783, 1.40426, 6.859247, 4.16709, 5.031508, 2.706111, 3.825099, 2.0735543, 5.682247, 2.5838363, 3.5164297, 1.4615163, 2.5133762, 3.166738, 3.0561514, 2.858036, 1.7974744, 3.3290706, 2.5004523, 6.5238686, 2.9025838, 4.710827, 5.8922405, 3.850998, 5.598898, 1.4135538, 3.2804065, 2.7057567, 1.8428957, 1.6421338, 2.768058, 3.4106987, 2.893436, 2.500072, 2.9108024, 5.0143147, 4.93779, 7.102603, 5.2908554, 5.564426, 4.310218, 2.468308, 3.9836829, 2.5593176, 1.8704281, 2.9001606, 0.88578385, 3.2983837, 1.7592955, 1.674736, 2.5399113, 2.2557032, 3.0167665, 1.1427735, 5.291336, 2.2401984, 1.9665887, 4.3637385, 3.2789917, 2.7094402, 4.6002035, 6.9193115, 3.9133084, 3.8143644, 1.5945051, 2.9015758, 3.2000327, 2.9325566, 3.0601559, 3.1867197, 2.8817897, 5.1276464, 2.6222937, 3.7205076, 4.7619658, 1.9294076, 3.5238442, 4.0302267, 1.3681103, 2.8843563, 2.1221566, 2.2992225, 2.2767386, 4.134335, 3.2170594, 3.4791296, 3.03192, 5.7354527, 2.1021047, 2.050353, 1.7766643, 2.293105, 5.552495, 3.8306386, 1.5319946, 1.2963667, 1.6019443, 1.8089231, 1.288649, 2.297588, 1.6092172, 3.1906571, 4.7499657, 4.0330944, 4.2520175, 4.8190765, 3.5623455, 2.9339397, 3.7218237, 4.838766, 2.8662305, 3.7657762, 5.0228662, 6.6178403, 5.1534963, 5.6705875, 1.5552201, 0.8373607, 1.7713708, 3.6426368, 3.57699, 3.799335, 2.6266668, 8.39497, 2.6303105, 2.4417872, 3.5608184, 0.59734577, 3.8312519, 2.2869837, 3.4974585, 1.8515155, 1.5065914, 5.0676813, 3.613835, 3.2728906, 5.5380297, 4.1133385, 3.5025465, 1.8567626, 2.6040127, 4.4891634, 3.4192758, 1.9047388, 1.031874, 3.5340538, 2.7726064, 3.8917806, 6.204469, 4.0152035, 1.4356749, 3.4296045, 1.3293784, 3.2251873, 1.937386, 2.0587778, 5.1529408, 3.0414014, 4.5745544, 5.3085294, 1.625866, 4.478013, 3.4690785, 0.9990673, 2.8919454, 3.223407, 1.8510015, 2.5731707, 2.2640104, 2.242738, 3.042224, 2.4564698, 1.7305249, 7.131399, 4.2044725, 3.348372, 1.2874627, 2.5559616, 2.349586, 2.9264703, 2.064496, 2.8494825, 1.7400007, 1.25809, 2.548693, 3.9205298, 2.8917093, 3.9762664, 1.8683193, 3.1437986, 3.3675783, 3.3990283, 3.4729896, 1.3057346, 3.9698968, 3.1335309, 3.8460479, 6.390977, 1.9970803, 5.425766, 3.040494, 2.8017168, 1.5619998, 4.242055, 4.813553, 5.04993, 2.9133606, 4.976517, 3.770131, 3.3002315, 1.9376775, 1.2354407, 3.0733197, 2.3781128, 2.318943, 6.879933, 6.601719, 4.292795, 4.1569633, 3.9355059, 1.8056462, 1.1593604, 3.8856266, 1.9218669, 3.771972, 2.2209902, 4.1149225, 2.1332502, 2.268645, 1.7770991, 1.9631475, 2.4429193, 6.116109, 4.3287635, 5.3938856, 2.917945, 1.0877755, 1.9033648, 4.365917, 2.6733823, 1.6961033, 1.4111214, 6.787124, 4.212217, 5.9869204, 3.6469774, 2.350555, 1.1088266, 2.420252, 5.1573877, 4.258522, 2.0857952, 2.6566823, 3.710112, 2.6541216, 2.0182195, 2.8327045, 3.1164596, 3.0839539, 6.1371374, 3.7930336, 3.1306806, 2.5075178, 3.34912, 4.2900896, 4.6672153, 3.2529724, 4.393717, 2.6866815, 1.114763, 2.9068863, 3.3092804, 4.860631, 2.1021907, 3.147696, 2.7963543, 2.6450624, 2.2159026, 3.024907, 2.558869, 2.4840412, 2.2007358, 5.7373085, 2.067444, 1.6094764, 3.202155, 1.4673902, 2.599791, 1.2039907, 3.4772239, 1.7091681, 3.8478458, 3.3179173, 1.8876684, 3.6499429, 3.158821, 4.258982, 2.470509, 0.80629426, 2.9996789, 1.5109704, 3.8497076, 1.8785424, 1.1932592, 2.352888, 1.6991673, 0.5894115, 2.3810945, 2.053945, 2.9187956, 3.445992, 1.7039936, 4.734297, 3.7707725, 3.1057687, 3.9418755, 1.2462095, 4.3584123, 3.2511194, 2.5288153, 1.9870629, 4.5325603, 4.817862, 4.5377083, 2.9602067, 2.7904, 5.897852, 2.8174999, 3.6839278, 5.3077497, 0.9851148, 1.4504273, 1.65603, 4.1185226, 4.255725, 4.5012093, 3.2231984, 3.0787835, 3.47937, 1.2509406, 6.1131005, 4.0829706, 7.4502945, 3.7250323, 3.9142704, 4.0321245, 3.9526656, 2.625078, 2.5852115, 5.5937195, 7.0084705, 2.4240365, 3.6564596, 1.5465524, 3.8367724, 1.5857831, 4.0729823, 2.904775, 1.8394704, 2.436957, 3.4602537, 6.3756657, 5.9974566, 5.9375925, 3.0102088, 1.720807, 4.139965, 3.1095793, 6.4034824, 2.7994905, 3.7107944, 2.5589962, 1.540292, 1.0867565, 4.7925134, 2.7232177, 2.3498178, 6.187423, 2.0979896, 3.486928, 2.0069933, 2.615543, 2.2623112, 2.5019748, 1.7367119, 2.9526064, 3.8932834, 2.9830008, 1.6771014, 2.006458, 4.682574, 4.6619534, 5.0114183, 6.084717, 11.454996, 5.727644, 3.8392766, 1.7979391, 3.0353198, 2.6699395, 2.4126315, 3.79181, 2.451635, 3.5456755, 2.8708553, 3.1153684, 2.5151093, 1.7301636, 2.6195047, 3.0513854, 5.058738, 4.6231112, 4.214054, 2.8787017, 3.1997774, 3.851149, 2.3690095, 3.0958102, 2.7036076, 1.3253922, 2.377609, 1.8048036, 3.5677655, 3.230778, 1.6957666, 3.200162, 0.9368627, 0.9780353, 1.9312736, 3.3117044, 5.745751, 0.92084134, 1.2159979, 3.4256501, 1.2086871, 5.105937, 4.8964396, 3.5971856, 4.8647156, 1.9751936, 1.0688021, 1.7202938, 2.2707815, 5.1296973, 2.3088086, 2.6731439, 2.9543018, 2.9514787, 2.1917293, 4.3399653, 4.534369, 3.0642328, 1.8058076, 1.2663288, 2.497567, 2.9498649, 3.8407946, 2.0756845, 3.2521758, 6.4441338, 2.3041654, 0.8056741, 1.3054254, 3.7228265, 1.501514, 1.8982202, 2.229075, 3.2660246, 1.2962226, 1.0575035, 1.9365762, 2.2734401, 2.905201, 4.437063, 8.896429, 3.9443374, 1.5931551, 2.1003528, 5.505549, 8.82967, 3.1727717, 2.770611, 4.0961313, 2.9647799, 3.0487795, 5.5698156, 4.876399, 3.9893818, 1.7605374, 1.8574688, 1.577454, 3.9505932, 2.3080633, 4.985008, 2.4997704, 3.402649, 1.406338, 2.5924478, 3.5059474, 1.3788748, 1.9644556, 1.3286624, 4.8696146, 4.5135098, 3.451301, 4.0677834, 3.14324, 5.133807, 3.7057247, 0.88487065, 1.2828437, 0.5887689, 3.3345914, 3.9353557, 4.064187, 2.1995564, 2.529482, 4.7214985, 3.9509985, 4.146262, 7.2513323, 1.9859304, 3.5672174, 3.6754138, 5.935049, 6.8513374, 2.131915, 1.7915958, 3.5896237, 1.0770962, 3.1453276, 1.8332572, 3.7444944, 3.1778276, 1.9298348, 3.1230564, 2.7839217, 4.755664, 5.673791, 2.8516552, 4.3087544, 2.722788, 3.6693387, 1.4250202, 3.715527, 4.131715, 5.1564684, 5.3287206, 2.3144593, 4.4730816, 1.8626641, 3.364727, 4.702243, 2.2742627, 3.3274055, 2.4447722, 3.878871, 4.349858, 3.3713422, 0.81963, 4.7755156, 1.846145, 3.5562665, 2.5573428, 4.3181257, 3.232378, 5.58351, 2.7019112, 1.8498886, 2.7931747, 1.1058567, 3.2828841, 3.6846528, 3.3663974, 3.8357103, 2.319681, 2.8530278, 1.8750325, 4.077359, 2.9744673, 2.6012845, 6.530198, 4.062739, 1.3561928, 2.2674556, 1.3451622, 1.289891, 3.5863688, 3.4864974, 2.170498, 4.856648, 8.71512, 4.7992744, 1.4770831, 4.127365, 1.3556012, 0.8097904, 5.3564005, 2.6973028, 3.6913881, 2.5587935, 3.176609, 5.6130695, 2.1078935, 4.5396643, 3.3668668, 3.4026713, 3.0338874, 5.503332, 4.6654835, 6.0239725, 6.926922, 2.8171823, 2.517862, 3.385668, 3.7113078, 2.296904, 3.0573256, 1.9522563, 1.6261351, 4.573885, 2.9170299, 2.8707392, 2.9014072, 3.9743545, 1.9387772, 3.3656938, 2.7423058, 4.693586, 5.7491465, 1.8564491, 1.0515509, 2.4951563, 4.114066, 2.8568046, 2.070575, 2.2177467, 5.837391, 2.323234, 2.451386, 5.0244513, 2.794891, 2.4014678, 4.7059526, 1.3696933, 3.713729, 4.5714397, 3.1196167, 4.2852426, 3.4477308, 2.1073616, 3.228389, 4.221774, 3.4214082, 1.0135381, 1.8887677, 3.394487, 2.4163098, 3.1572518, 2.6609173, 3.0950608, 2.267074, 4.799144, 3.1786034, 2.9638834, 3.9992623, 3.238428, 1.6897041, 2.1488106, 2.483837, 2.7272635, 5.4413195, 3.8486774, 2.7496932, 2.2063868, 2.730661, 3.75921, 0.78343564, 1.5377436, 0.962426, 0.9288946, 1.531424, 3.1171503, 8.595929, 5.3071504, 2.3059497, 3.234246, 2.189621, 3.3302088, 2.231988, 3.7587552, 1.9574025, 4.0768356, 2.9867172, 1.8932464, 2.3450344, 5.5828896, 1.7892637, 0.9372721, 3.0870047, 1.4647584, 3.028329, 3.0450046, 3.430275, 1.3988307, 3.9123032, 3.252047, 2.041101, 3.6074624, 1.2522755, 1.1149082, 2.8919337, 5.082195, 2.865418, 0.81643105, 2.6201353, 4.7369003, 2.1971118, 1.99076, 1.9923627, 3.6275315, 3.3090236, 1.1293249, 2.9729996, 1.9896107, 3.7552028, 4.2953997, 3.9706318, 2.639229, 5.915468, 2.358919, 3.8496556, 2.2461205, 2.841715, 4.268911, 2.4779172, 2.0761297, 1.0293124, 2.9219794, 1.5991151, 1.9872588, 2.8876832, 2.7904472, 3.6163085, 4.858529, 2.4776514, 2.9114766, 2.9091694, 3.199738, 1.6706784, 2.6924796, 7.222949, 2.0908012, 2.0522716, 2.5142255, 3.353609, 3.8437057, 2.9857397, 2.8471508, 2.9320605, 2.4989216, 1.6743115, 4.133272, 2.3183408, 2.4078388, 2.0954442, 1.7387614, 0.9321446, 4.301655, 3.0215478, 1.8234901, 2.5561273, 2.00918, 1.1905107, 3.0062299, 2.5839684, 0.98963696, 1.0689514, 3.3782196, 2.7309844, 4.9334917, 5.3005085, 6.0555716, 1.9426779, 4.8392305, 2.2174628, 2.8752775, 3.6098099, 1.7399764, 2.1966548, 2.036077, 1.8358905, 2.4827676, 4.6930084, 3.9718683, 3.3607955, 2.6212435, 7.420815, 4.6038156, 1.4947383, 1.1471704, 2.7968664, 2.7965252, 5.116779, 2.372326, 2.2501795, 4.3055534, 5.6343226, 4.0974674, 2.441729, 5.5286856, 2.3842406, 3.4166107, 2.6659803, 4.879139, 1.9820755, 1.8747629, 2.0257692, 3.1614048, 1.9170055, 1.2963958, 3.8015513, 1.6277618, 3.6896496, 3.6345615, 2.37867, 3.8269856, 5.187338, 4.507494, 2.9382505, 3.6845157, 5.6214876, 2.382552, 4.0539064, 1.4407663, 2.7867281, 4.502543, 3.4968028, 2.325815, 3.8284106, 1.6311295, 2.5931585, 1.6141658, 2.8375287, 2.343865, 4.233057, 2.631217, 2.818303, 2.7739024, 2.9590402, 2.3906002, 1.2945514, 0.8966131, 2.506781, 4.6708617, 3.9504259, 6.2295218, 3.360611, 3.141564, 3.2751355, 4.2330074, 3.1787612, 1.9727364, 1.1895527, 3.2066677, 2.2872498, 3.0420294, 6.755794, 6.353212, 6.1457872, 4.189782, 4.2049165, 4.526196, 5.007784, 1.1692786, 2.1057577, 2.7065246, 5.188636, 3.9989042, 2.29031, 1.0821197, 2.6611462, 4.3344436, 3.2502215, 2.739511, 1.3199387, 4.229952, 3.9591224, 4.525497, 1.6595831, 4.08755, 1.4827813, 1.9668374, 3.0389092, 3.3377209, 3.204461, 2.5214672, 1.8107584, 4.368326, 3.289101, 2.278372, 4.836034, 4.5094843, 1.2860174, 5.4211683, 3.339799, 5.394084, 3.853006, 3.1127675, 0.90854836, 1.7644695, 2.6117616, 3.1181388, 2.8432703, 2.5216596, 6.909171, 3.208795, 4.2304277, 4.3825445, 1.5364931, 3.8606915, 0.6573882, 4.419872, 2.0694113, 3.8079448, 4.337696, 2.72645, 3.848341, 2.8866472, 6.3613796, 4.364258, 6.8936763, 6.0588393, 2.829407, 2.4620857, 2.4264588, 2.1526682, 3.946423, 3.3694685, 2.8898418, 2.5945525, 1.0940963, 4.3251276, 4.2085505, 1.3415378, 3.6574013, 4.1698694, 2.436155, 5.4277234, 1.9222643, 2.400034, 1.3445206, 1.6446564, 4.6321554, 7.7025504, 2.6516724, 4.158745, 2.821957, 3.9358044, 4.31619, 2.4149053, 1.4401426, 2.0450158, 2.0256581, 2.8261466, 4.4271455, 4.7023664, 3.0956635, 2.383491, 5.318295, 1.2908287, 3.9777102, 4.2360334, 3.1073098, 4.9297094, 2.425848, 1.9648671, 1.6510582, 2.2788858, 5.7760363, 3.2481434, 4.060807, 2.81082, 2.8838203, 7.7613554, 2.3901799, 3.428666, 4.769561, 2.556315, 1.9728222, 2.1090608, 3.3805096, 3.785797, 2.7690167, 2.1388009, 4.022145, 2.4115067, 4.4360485, 2.9933403, 1.9328442, 4.1017714, 5.8082128, 4.846552, 2.9335113, 1.2991444, 4.93161, 4.425229, 4.250595, 5.149658, 4.6102476, 4.7943444, 2.576805, 2.4393315, 2.2001994, 1.3015677, 2.6614518, 2.5533915, 3.7518752, 4.3986235, 1.6212254, 4.4906807, 2.6881194, 3.5799537, 3.0192199, 3.6589065, 1.4364252, 2.1075563, 2.9809937, 3.3822381, 3.2477207, 5.2474008, 3.6330404, 4.173459, 2.6283307, 4.0983, 5.134833, 5.593212, 3.130138, 1.3386009, 4.548645, 5.3304815, 2.5574956, 2.8532119, 4.1630974, 2.9260693, 4.3898306, 1.9323394, 3.8807728, 8.362983, 1.6197543, 5.7143555, 4.4848394, 2.2086468, 1.6416078, 2.550438, 4.277481, 2.0461152, 3.6876202, 2.4096484, 4.7280955, 3.773033, 4.6920056, 2.757494, 3.976538, 2.9620945, 2.2852592, 2.3998275, 3.2687502, 2.5991602, 4.695158, 2.7367728, 4.032286, 6.718711, 2.1875894, 1.516022, 3.5011468, 4.011413, 3.16108, 4.128004, 4.639954, 3.689225, 3.4235485, 1.8980587, 3.3496659, 4.0684175, 3.7770715, 5.447352, 1.8291773, 4.1260467, 5.0623517, 3.474535, 3.433129, 2.6005888, 3.1473627, 2.285707, 4.763595, 1.3857615, 4.034424, 0.5314666, 3.1186123, 2.6384413, 3.288115, 2.72149, 1.5898657, 3.3522496, 2.42386, 1.9325007, 2.413136, 3.8321872, 4.921997, 4.1772594, 3.312788, 2.9417305, 5.5730133, 2.7567205, 2.3130577, 3.7325892, 2.6199768, 2.203765, 3.281294, 1.8828299, 1.0953183, 0.99238914, 2.2158396, 2.8312738, 2.7430625, 2.8966675, 2.2699802, 3.4118743, 4.242363, 2.981111, 2.3794787, 2.8328538, 1.8521211, 2.855364, 1.4932373, 2.8011274, 3.4288306, 5.737894, 0.42218432, 2.0276327, 2.7284286, 1.8628762, 3.0210607, 3.839188, 1.704454, 3.130846, 2.7559435, 3.2184327, 1.7454753, 3.1496463, 4.654252, 3.9818468, 2.0008347, 4.0228057, 4.2327957, 2.9766355, 2.7033386, 2.5059826, 1.3382368, 2.2266002, 2.224661, 4.697575, 3.5258486, 5.026784, 2.2981033, 4.311192, 4.4995885, 2.021286, 5.869174, 4.444189, 6.037317, 5.045168, 2.9644442, 2.8238041, 3.2973008, 2.7423952, 2.2574883, 2.1762738, 2.3036861, 3.0063, 2.3075452, 2.131124, 3.5161576, 3.8334076, 3.6668577, 1.3710574, 5.6794724, 4.7564464, 5.0029793, 2.7531552, 5.838749, 3.5264616, 2.7858295, 3.4752889, 4.9593754, 1.6057835, 5.3787956, 4.4223375, 1.603048, 2.1123457, 1.5841355, 1.7381276, 2.2639346, 1.8211794, 4.150039, 2.683199, 5.1237535, 2.5473185, 5.2380433, 1.3493397, 3.545781, 3.5577443, 2.162392, 3.4242618, 1.4484154, 2.7184305, 2.1529949, 5.1003275, 3.048696, 2.398729, 2.6669302, 2.9178514, 4.4140563, 3.6418629, 2.755783, 6.629145, 3.948267, 2.8473625, 5.7532325, 2.563828, 3.5886965, 6.8669767, 4.71965, 1.2969453, 2.6204762, 1.8940065, 0.9649586, 2.8037567, 3.002494, 2.303698, 2.7851627, 3.1667006, 2.8159513, 1.8893937, 1.8791975, 1.9057544, 2.58949, 0.9329823, 2.502367, 3.0253747, 2.5916433, 3.8611186, 2.313087, 1.3494997, 2.311211, 2.1072369, 1.9781123, 2.8005438, 2.6389267, 2.0089858, 4.3830814, 1.7470828, 1.2984656, 6.2873616, 1.313364, 3.7826052, 7.1277413, 2.689897, 2.8529804, 3.313208, 3.8614182, 4.628769, 4.6817822, 1.9179254, 2.435429, 2.0885792, 3.7084322, 6.8645725, 1.9649632, 2.4349806, 1.2684011, 3.0538359, 2.5002189, 3.3678365, 2.2075586, 4.7368484, 1.9819326, 7.0883503, 4.618883, 2.4205978, 5.88431, 4.466487, 3.5128486, 2.9211059, 3.2503228, 3.11765, 2.3411741, 3.9472446, 3.1221116, 4.7647343, 2.2663133, 2.0912452, 4.2027345, 4.180417, 3.2204597, 5.504655, 3.5776534, 9.14878, 3.6300519, 3.4164705, 3.2730641, 2.7654738, 2.3110485, 3.1229374, 4.158649, 4.4563274, 4.827861, 2.0034106, 2.964596, 1.2159035, 3.1033697, 2.4412687, 3.4898973, 1.2498968, 2.6335654, 5.87944, 3.665548, 4.171279, 1.8340095, 3.4600263, 4.102825, 2.381782, 1.4860194, 2.2196288, 1.1882235, 3.4381003, 3.657381, 2.9425447, 3.7821887, 4.1709156, 3.2537882, 2.1351788, 4.6826363, 2.2866905, 2.8586226, 2.3886976, 2.1750062, 3.3026466, 3.2894175, 1.7319498, 4.112157, 3.1629217, 1.5747839, 5.356928, 3.8678887, 2.9909904, 3.7156096, 3.7068334, 2.5968218, 3.174892, 5.9918294, 4.7296057, 4.994588, 4.6257625, 4.4631114, 6.6152425, 2.7749906, 2.8177557, 4.1184816, 2.4733205, 4.248258, 4.8463445, 2.2432804, 3.4242764, 1.47492, 2.4658377, 3.4130878, 3.0013423, 3.6211967, 2.956171, 4.0442634, 4.577476, 4.3161364, 2.1759913, 3.1990774, 2.845741, 1.963223, 1.763682, 2.5396929, 3.8081815, 2.0350938, 5.22845, 3.5995522, 0.89229596, 2.2155697, 3.7250183, 1.1771027, 0.8198742, 1.6515799, 3.7475796, 3.3579693, 5.81377, 2.3515267, 2.7608998, 2.3655996, 2.8588517, 2.3663633, 3.1821568, 1.7492871, 2.925371, 2.8218627, 3.3895826, 3.7467556, 5.3386974, 2.9441705, 2.2835898, 4.3257036, 2.0917258, 1.998576, 3.600624, 6.28631, 5.189724, 6.640111, 2.7044165, 2.4986267, 3.1682608, 4.409051, 5.179658, 0.97442496, 1.8063474, 1.7274327, 1.3503758, 4.441818, 2.660231, 2.781055, 2.6470814, 2.9255602, 5.2935467, 4.125409, 6.499505, 2.3719363, 4.932654, 1.2426226, 2.481166, 2.413458, 4.0660443, 5.495541, 4.3810015, 3.1913633, 1.9769254, 3.5029585, 2.3436098, 3.4895973, 4.0475893, 4.2204294, 2.4770021, 2.365879, 3.8136165, 1.3210491, 2.9562092, 4.7410297, 2.0252333, 3.7842321, 4.1144533, 2.3828812, 4.655507, 3.147831, 3.2966409, 5.1772823, 1.9074767, 2.8015218, 2.3899794, 6.0687137, 2.2008777, 3.4954984, 3.687695, 3.17039, 3.2281983, 3.0590868, 2.821539, 5.9487934, 4.8705845, 2.2036626, 1.8477352, 2.8749847, 1.732013, 1.9761515, 2.4887228, 2.4347663, 4.771977, 2.530573, 3.565055, 1.1412896, 2.534461, 5.6662617, 1.0984612, 3.9806888, 2.6474104, 2.967374, 5.9510775, 2.8092163, 1.9204476, 2.9046726, 1.197369, 3.1435676, 3.7915554, 5.865157, 3.6039577, 3.5296257, 8.917551, 3.0499198, 2.1021695, 3.0765872, 4.010235, 5.7113943, 3.5048263, 1.6981945, 3.788386, 1.4079874, 1.7879232, 5.6870747, 4.5665255, 2.668365, 3.2800713, 3.162278, 2.0548687, 1.6759753, 4.7066174, 5.3044863, 2.7232358, 2.725116, 4.8207684, 1.6869226, 2.5950918, 2.6572251, 2.2774367, 2.8124676, 5.4103694, 3.5333955, 7.236236, 2.8456378, 1.1318678, 3.471394, 2.5013862, 4.9541454, 3.6106977, 3.621259, 1.2377452, 2.7177212, 4.133038, 2.0463407, 2.0211546, 2.4871902, 2.5799713, 3.28613, 4.4801598, 1.6210655, 4.583609, 2.473365, 2.8843834]\n"
     ]
    }
   ],
   "source": [
    "# Similar to making checkpoints, you can train in a loop and persist these metrics periodially\n",
    "# You could also implement a custom callback to stream these data to a CSV or other log file \n",
    "# At the completion of every epoch, or every batch. See: https://keras.io/callbacks/#example-recording-loss-history\n",
    "from keras.callbacks import Callback\n",
    "\n",
    "class LossHistory(Callback):\n",
    "    def on_train_begin(self, logs={}):\n",
    "        self.losses = []\n",
    "\n",
    "    def on_batch_end(self, batch, logs={}):\n",
    "        self.losses.append(logs.get('loss'))\n",
    "        ## Could also add code to write the loss to a file or DB here.\n",
    "        \n",
    "    # Also available...\n",
    "#     def on_epoch_end(self, epoch):\n",
    "#         pass\n",
    "        \n",
    "model = Sequential()\n",
    "model.add(Dense(10, input_dim=784, activation='softmax'))\n",
    "model.compile(loss='categorical_crossentropy', optimizer='rmsprop')\n",
    "\n",
    "history = LossHistory()\n",
    "model.fit(training_data, training_labels, batch_size=128, epochs=20, verbose=0, callbacks=[history])\n",
    "\n",
    "print(history.losses)"
   ]
  },
  {
   "cell_type": "markdown",
   "metadata": {},
   "source": [
    "### Saving Input Data For Later\n",
    "\n",
    "As your system gets used in the wild you won't have access to the true label. That is, you won't know if your model is correct or incorrect for any given prediction. Because of this, it can be hard to tell how well your model is performing. Additionally, if you're in a field with a \"war of attrition\" such as spam or fraud detection, your model might start failing more as your adversaries adapt to your AI. An important aspect of combating these problems is to save some (or all) of the data that is sent to your model. \n",
    "\n",
    "Similar to the advice about persisting metrics, consider establishing a format for saving new inputs to your model along with your model's predictions. You can monitor these for signs that something is going wrong for example:\n",
    "\n",
    "* Humans can periodically look through samples for obvious signs of fraud or adversarial input.\n",
    "* Automatically monitor for low confidence predictions.\n",
    "* Collect metadata such as IP address and monitor that metadata for patterns (did a single user just send 20,000 requests? They're probably trying to abuse your system somehow.)\n",
    "\n",
    "Additionally, if you're in a business where you can sometimes collect the true lables (e.g. Netflix users rating movies, \"Thumbs Up\" on a Pandora song, \"Like\" a Twitter post, and so on) then you can collect these as well and compare them with versions of your model (evaluate its performance) and/or use the labels to train your model (either online, or by adding the newly labeled data to a batch of training data)."
   ]
  },
  {
   "cell_type": "code",
   "execution_count": null,
   "metadata": {},
   "outputs": [],
   "source": [
    "# Extract from HTTP... Save to DB... Nothing is actually that specific to keras here EXCEPT:\n",
    "\n",
    "prediction = fresh_model.predict(np.array([training_data[0]]))\n",
    "\n",
    "# You'll probably want to persist the raw prediction confidence :)\n",
    "pprint(prediction[0])"
   ]
  },
  {
   "cell_type": "code",
   "execution_count": null,
   "metadata": {},
   "outputs": [],
   "source": []
  }
 ],
 "metadata": {
  "kernelspec": {
   "display_name": "Python 3",
   "language": "python",
   "name": "python3"
  },
  "language_info": {
   "codemirror_mode": {
    "name": "ipython",
    "version": 3
   },
   "file_extension": ".py",
   "mimetype": "text/x-python",
   "name": "python",
   "nbconvert_exporter": "python",
   "pygments_lexer": "ipython3",
   "version": "3.7.6"
  }
 },
 "nbformat": 4,
 "nbformat_minor": 2
}
