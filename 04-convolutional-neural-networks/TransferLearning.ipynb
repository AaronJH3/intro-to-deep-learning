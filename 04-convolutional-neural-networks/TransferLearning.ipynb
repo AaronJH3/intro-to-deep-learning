{
 "cells": [
  {
   "cell_type": "code",
   "execution_count": 1,
   "metadata": {},
   "outputs": [
    {
     "name": "stdout",
     "output_type": "stream",
     "text": [
      "Epoch 1/100\n",
      "5/5 - 0s - loss: 1.1549\n",
      "Epoch 2/100\n",
      "5/5 - 0s - loss: 1.0398\n",
      "Epoch 3/100\n",
      "5/5 - 0s - loss: 0.9894\n",
      "Epoch 4/100\n",
      "5/5 - 0s - loss: 0.9551\n",
      "Epoch 5/100\n",
      "5/5 - 0s - loss: 0.9116\n",
      "Epoch 6/100\n",
      "5/5 - 0s - loss: 0.8725\n",
      "Epoch 7/100\n",
      "5/5 - 0s - loss: 0.8337\n",
      "Epoch 8/100\n",
      "5/5 - 0s - loss: 0.7986\n",
      "Epoch 9/100\n",
      "5/5 - 0s - loss: 0.7588\n",
      "Epoch 10/100\n",
      "5/5 - 0s - loss: 0.7178\n",
      "Epoch 11/100\n",
      "5/5 - 0s - loss: 0.6839\n",
      "Epoch 12/100\n",
      "5/5 - 0s - loss: 0.6499\n",
      "Epoch 13/100\n",
      "5/5 - 0s - loss: 0.6223\n",
      "Epoch 14/100\n",
      "5/5 - 0s - loss: 0.5945\n",
      "Epoch 15/100\n",
      "5/5 - 0s - loss: 0.5698\n",
      "Epoch 16/100\n",
      "5/5 - 0s - loss: 0.5443\n",
      "Epoch 17/100\n",
      "5/5 - 0s - loss: 0.5175\n",
      "Epoch 18/100\n",
      "5/5 - 0s - loss: 0.4989\n",
      "Epoch 19/100\n",
      "5/5 - 0s - loss: 0.4826\n",
      "Epoch 20/100\n",
      "5/5 - 0s - loss: 0.4620\n",
      "Epoch 21/100\n",
      "5/5 - 0s - loss: 0.4484\n",
      "Epoch 22/100\n",
      "5/5 - 0s - loss: 0.4323\n",
      "Epoch 23/100\n",
      "5/5 - 0s - loss: 0.4217\n",
      "Epoch 24/100\n",
      "5/5 - 0s - loss: 0.4074\n",
      "Epoch 25/100\n",
      "5/5 - 0s - loss: 0.3941\n",
      "Epoch 26/100\n",
      "5/5 - 0s - loss: 0.3837\n",
      "Epoch 27/100\n",
      "5/5 - 0s - loss: 0.3744\n",
      "Epoch 28/100\n",
      "5/5 - 0s - loss: 0.3623\n",
      "Epoch 29/100\n",
      "5/5 - 0s - loss: 0.3511\n",
      "Epoch 30/100\n",
      "5/5 - 0s - loss: 0.3444\n",
      "Epoch 31/100\n",
      "5/5 - 0s - loss: 0.3327\n",
      "Epoch 32/100\n",
      "5/5 - 0s - loss: 0.3259\n",
      "Epoch 33/100\n",
      "5/5 - 0s - loss: 0.3172\n",
      "Epoch 34/100\n",
      "5/5 - 0s - loss: 0.3080\n",
      "Epoch 35/100\n",
      "5/5 - 0s - loss: 0.2992\n",
      "Epoch 36/100\n",
      "5/5 - 0s - loss: 0.2954\n",
      "Epoch 37/100\n",
      "5/5 - 0s - loss: 0.2887\n",
      "Epoch 38/100\n",
      "5/5 - 0s - loss: 0.2783\n",
      "Epoch 39/100\n",
      "5/5 - 0s - loss: 0.2684\n",
      "Epoch 40/100\n",
      "5/5 - 0s - loss: 0.2660\n",
      "Epoch 41/100\n",
      "5/5 - 0s - loss: 0.2568\n",
      "Epoch 42/100\n",
      "5/5 - 0s - loss: 0.2540\n",
      "Epoch 43/100\n",
      "5/5 - 0s - loss: 0.2434\n",
      "Epoch 44/100\n",
      "5/5 - 0s - loss: 0.2379\n",
      "Epoch 45/100\n",
      "5/5 - 0s - loss: 0.2324\n",
      "Epoch 46/100\n",
      "5/5 - 0s - loss: 0.2260\n",
      "Epoch 47/100\n",
      "5/5 - 0s - loss: 0.2186\n",
      "Epoch 48/100\n",
      "5/5 - 0s - loss: 0.2133\n",
      "Epoch 49/100\n",
      "5/5 - 0s - loss: 0.2088\n",
      "Epoch 50/100\n",
      "5/5 - 0s - loss: 0.2044\n",
      "Epoch 51/100\n",
      "5/5 - 0s - loss: 0.1983\n",
      "Epoch 52/100\n",
      "5/5 - 0s - loss: 0.1933\n",
      "Epoch 53/100\n",
      "5/5 - 0s - loss: 0.1890\n",
      "Epoch 54/100\n",
      "5/5 - 0s - loss: 0.1852\n",
      "Epoch 55/100\n",
      "5/5 - 0s - loss: 0.1810\n",
      "Epoch 56/100\n",
      "5/5 - 0s - loss: 0.1766\n",
      "Epoch 57/100\n",
      "5/5 - 0s - loss: 0.1723\n",
      "Epoch 58/100\n",
      "5/5 - 0s - loss: 0.1679\n",
      "Epoch 59/100\n",
      "5/5 - 0s - loss: 0.1680\n",
      "Epoch 60/100\n",
      "5/5 - 0s - loss: 0.1608\n",
      "Epoch 61/100\n",
      "5/5 - 0s - loss: 0.1593\n",
      "Epoch 62/100\n",
      "5/5 - 0s - loss: 0.1560\n",
      "Epoch 63/100\n",
      "5/5 - 0s - loss: 0.1539\n",
      "Epoch 64/100\n",
      "5/5 - 0s - loss: 0.1495\n",
      "Epoch 65/100\n",
      "5/5 - 0s - loss: 0.1466\n",
      "Epoch 66/100\n",
      "5/5 - 0s - loss: 0.1436\n",
      "Epoch 67/100\n",
      "5/5 - 0s - loss: 0.1408\n",
      "Epoch 68/100\n",
      "5/5 - 0s - loss: 0.1382\n",
      "Epoch 69/100\n",
      "5/5 - 0s - loss: 0.1360\n",
      "Epoch 70/100\n",
      "5/5 - 0s - loss: 0.1329\n",
      "Epoch 71/100\n",
      "5/5 - 0s - loss: 0.1311\n",
      "Epoch 72/100\n",
      "5/5 - 0s - loss: 0.1285\n",
      "Epoch 73/100\n",
      "5/5 - 0s - loss: 0.1260\n",
      "Epoch 74/100\n",
      "5/5 - 0s - loss: 0.1240\n",
      "Epoch 75/100\n",
      "5/5 - 0s - loss: 0.1221\n",
      "Epoch 76/100\n",
      "5/5 - 0s - loss: 0.1201\n",
      "Epoch 77/100\n",
      "5/5 - 0s - loss: 0.1193\n",
      "Epoch 78/100\n",
      "5/5 - 0s - loss: 0.1185\n",
      "Epoch 79/100\n",
      "5/5 - 0s - loss: 0.1182\n",
      "Epoch 80/100\n",
      "5/5 - 0s - loss: 0.1143\n",
      "Epoch 81/100\n",
      "5/5 - 0s - loss: 0.1125\n",
      "Epoch 82/100\n",
      "5/5 - 0s - loss: 0.1154\n",
      "Epoch 83/100\n",
      "5/5 - 0s - loss: 0.1114\n",
      "Epoch 84/100\n",
      "5/5 - 0s - loss: 0.1091\n",
      "Epoch 85/100\n",
      "5/5 - 0s - loss: 0.1067\n",
      "Epoch 86/100\n",
      "5/5 - 0s - loss: 0.1049\n",
      "Epoch 87/100\n",
      "5/5 - 0s - loss: 0.1059\n",
      "Epoch 88/100\n",
      "5/5 - 0s - loss: 0.1015\n",
      "Epoch 89/100\n",
      "5/5 - 0s - loss: 0.1044\n",
      "Epoch 90/100\n",
      "5/5 - 0s - loss: 0.0996\n",
      "Epoch 91/100\n",
      "5/5 - 0s - loss: 0.1029\n",
      "Epoch 92/100\n",
      "5/5 - 0s - loss: 0.0985\n",
      "Epoch 93/100\n",
      "5/5 - 0s - loss: 0.1044\n",
      "Epoch 94/100\n",
      "5/5 - 0s - loss: 0.0943\n",
      "Epoch 95/100\n",
      "5/5 - 0s - loss: 0.0991\n",
      "Epoch 96/100\n",
      "5/5 - 0s - loss: 0.0941\n",
      "Epoch 97/100\n",
      "5/5 - 0s - loss: 0.0950\n",
      "Epoch 98/100\n",
      "5/5 - 0s - loss: 0.0929\n",
      "Epoch 99/100\n",
      "5/5 - 0s - loss: 0.0930\n",
      "Epoch 100/100\n",
      "5/5 - 0s - loss: 0.0906\n"
     ]
    },
    {
     "data": {
      "text/plain": [
       "<tensorflow.python.keras.callbacks.History at 0x245b24c9b80>"
      ]
     },
     "execution_count": 1,
     "metadata": {},
     "output_type": "execute_result"
    }
   ],
   "source": [
    "import pandas as pd\n",
    "import io\n",
    "import requests\n",
    "import numpy as np\n",
    "from sklearn import metrics\n",
    "from tensorflow.keras.models import Sequential\n",
    "from tensorflow.keras.layers import Dense, Activation\n",
    "from tensorflow.keras.callbacks import EarlyStopping\n",
    "\n",
    "df = pd.read_csv(\n",
    "    \"https://data.heatonresearch.com/data/t81-558/iris.csv\", \n",
    "    na_values=['NA', '?'])\n",
    "\n",
    "# Convert to numpy - Classification\n",
    "x = df[['sepal_l', 'sepal_w', 'petal_l', 'petal_w']].values\n",
    "dummies = pd.get_dummies(df['species']) # Classification\n",
    "species = dummies.columns\n",
    "y = dummies.values\n",
    "\n",
    "\n",
    "# Build neural network\n",
    "model = Sequential()\n",
    "model.add(Dense(50, input_dim=x.shape[1], activation='relu')) # Hidden 1\n",
    "model.add(Dense(25, activation='relu')) # Hidden 2\n",
    "model.add(Dense(y.shape[1],activation='softmax')) # Output\n",
    "\n",
    "model.compile(loss='categorical_crossentropy', optimizer='adam')\n",
    "model.fit(x,y,verbose=2,epochs=100)"
   ]
  },
  {
   "cell_type": "code",
   "execution_count": 2,
   "metadata": {},
   "outputs": [
    {
     "name": "stdout",
     "output_type": "stream",
     "text": [
      "Training Accuracy: 0.98\n"
     ]
    }
   ],
   "source": [
    "#Checking Accuracy\n",
    "from sklearn.metrics import accuracy_score\n",
    "pred = model.predict(x)\n",
    "predict_classes = np.argmax(pred,axis=1)\n",
    "expected_classes = np.argmax(y,axis=1)\n",
    "correct = accuracy_score(expected_classes,predict_classes)\n",
    "print(f\"Training Accuracy: {correct}\")"
   ]
  },
  {
   "cell_type": "code",
   "execution_count": 3,
   "metadata": {},
   "outputs": [
    {
     "name": "stdout",
     "output_type": "stream",
     "text": [
      "Model: \"sequential\"\n",
      "_________________________________________________________________\n",
      "Layer (type)                 Output Shape              Param #   \n",
      "=================================================================\n",
      "dense (Dense)                (None, 50)                250       \n",
      "_________________________________________________________________\n",
      "dense_1 (Dense)              (None, 25)                1275      \n",
      "_________________________________________________________________\n",
      "dense_2 (Dense)              (None, 3)                 78        \n",
      "=================================================================\n",
      "Total params: 1,603\n",
      "Trainable params: 1,603\n",
      "Non-trainable params: 0\n",
      "_________________________________________________________________\n"
     ]
    }
   ],
   "source": [
    "model.summary()\n"
   ]
  },
  {
   "cell_type": "code",
   "execution_count": 4,
   "metadata": {},
   "outputs": [
    {
     "name": "stdout",
     "output_type": "stream",
     "text": [
      "Model: \"sequential_1\"\n",
      "_________________________________________________________________\n",
      "Layer (type)                 Output Shape              Param #   \n",
      "=================================================================\n",
      "dense (Dense)                (None, 50)                250       \n",
      "_________________________________________________________________\n",
      "dense_1 (Dense)              (None, 25)                1275      \n",
      "_________________________________________________________________\n",
      "dense_2 (Dense)              (None, 3)                 78        \n",
      "=================================================================\n",
      "Total params: 1,603\n",
      "Trainable params: 1,603\n",
      "Non-trainable params: 0\n",
      "_________________________________________________________________\n"
     ]
    }
   ],
   "source": [
    "#Same Model\n",
    "model2 = Sequential()\n",
    "for layer in model.layers:\n",
    "    model2.add(layer)\n",
    "model2.summary()"
   ]
  },
  {
   "cell_type": "code",
   "execution_count": 5,
   "metadata": {},
   "outputs": [
    {
     "name": "stdout",
     "output_type": "stream",
     "text": [
      "Training Accuracy: 0.98\n"
     ]
    }
   ],
   "source": [
    "from sklearn.metrics import accuracy_score\n",
    "pred = model2.predict(x)\n",
    "predict_classes = np.argmax(pred,axis=1)\n",
    "expected_classes = np.argmax(y,axis=1)\n",
    "correct = accuracy_score(expected_classes,predict_classes)\n",
    "print(f\"Training Accuracy: {correct}\")"
   ]
  },
  {
   "cell_type": "code",
   "execution_count": 6,
   "metadata": {},
   "outputs": [
    {
     "name": "stdout",
     "output_type": "stream",
     "text": [
      "Model: \"sequential_2\"\n",
      "_________________________________________________________________\n",
      "Layer (type)                 Output Shape              Param #   \n",
      "=================================================================\n",
      "dense (Dense)                (None, 50)                250       \n",
      "_________________________________________________________________\n",
      "dense_1 (Dense)              (None, 25)                1275      \n",
      "=================================================================\n",
      "Total params: 1,525\n",
      "Trainable params: 0\n",
      "Non-trainable params: 1,525\n",
      "_________________________________________________________________\n"
     ]
    }
   ],
   "source": [
    "model3 = Sequential()\n",
    "for i in range(2):\n",
    "    layer = model.layers[i]\n",
    "    layer.trainable = False\n",
    "    model3.add(layer)\n",
    "model3.summary()"
   ]
  },
  {
   "cell_type": "code",
   "execution_count": 7,
   "metadata": {},
   "outputs": [
    {
     "name": "stdout",
     "output_type": "stream",
     "text": [
      "Model: \"sequential_2\"\n",
      "_________________________________________________________________\n",
      "Layer (type)                 Output Shape              Param #   \n",
      "=================================================================\n",
      "dense (Dense)                (None, 50)                250       \n",
      "_________________________________________________________________\n",
      "dense_1 (Dense)              (None, 25)                1275      \n",
      "_________________________________________________________________\n",
      "dense_3 (Dense)              (None, 4)                 104       \n",
      "=================================================================\n",
      "Total params: 1,629\n",
      "Trainable params: 104\n",
      "Non-trainable params: 1,525\n",
      "_________________________________________________________________\n"
     ]
    }
   ],
   "source": [
    "model3.add(Dense(4,activation='softmax')) # Output\n",
    "\n",
    "model3.compile(loss='categorical_crossentropy', optimizer='adam')\n",
    "model3.summary()"
   ]
  },
  {
   "cell_type": "code",
   "execution_count": 8,
   "metadata": {},
   "outputs": [
    {
     "data": {
      "text/plain": [
       "<tensorflow.python.keras.callbacks.History at 0x245b110fd00>"
      ]
     },
     "execution_count": 8,
     "metadata": {},
     "output_type": "execute_result"
    }
   ],
   "source": [
    "\n",
    "x = np.array([\n",
    "    [2.1,0.9,0.8,1.1], # 1\n",
    "    [2.5,1.2,0.8,1.2],\n",
    "    [1.1,3.1,1.1,1.1], # 2\n",
    "    [0.8,2.2,0.7,1.2],\n",
    "    [1.2,0.7,3.1,1.1], # 3\n",
    "    [1.0,1.1,2.4,0.9],\n",
    "    [0.1,1.1,4.1,1.2], # 4\n",
    "    [1.2,0.8,3.1,0.1],\n",
    "])\n",
    "\n",
    "y = np.array([\n",
    "    [0,0,0,1],\n",
    "    [0,0,0,1],\n",
    "    [0,0,1,0],\n",
    "    [0,0,1,0],\n",
    "    [0,1,0,0],\n",
    "    [0,1,0,0],\n",
    "    [1,0,0,0],\n",
    "    [1,0,0,0],\n",
    "])\n",
    "\n",
    "model3.fit(x,y,verbose=0,epochs=1000)"
   ]
  },
  {
   "cell_type": "code",
   "execution_count": 9,
   "metadata": {},
   "outputs": [
    {
     "name": "stdout",
     "output_type": "stream",
     "text": [
      "Training Accuracy: 1.0\n"
     ]
    }
   ],
   "source": [
    "from sklearn.metrics import accuracy_score\n",
    "pred = model3.predict(x)\n",
    "predict_classes = np.argmax(pred,axis=1)\n",
    "expected_classes = np.argmax(y,axis=1)\n",
    "correct = accuracy_score(expected_classes,predict_classes)\n",
    "print(f\"Training Accuracy: {correct}\")"
   ]
  },
  {
   "cell_type": "code",
   "execution_count": null,
   "metadata": {},
   "outputs": [],
   "source": []
  }
 ],
 "metadata": {
  "kernelspec": {
   "display_name": "Python 3",
   "language": "python",
   "name": "python3"
  },
  "language_info": {
   "codemirror_mode": {
    "name": "ipython",
    "version": 3
   },
   "file_extension": ".py",
   "mimetype": "text/x-python",
   "name": "python",
   "nbconvert_exporter": "python",
   "pygments_lexer": "ipython3",
   "version": "3.8.3"
  }
 },
 "nbformat": 4,
 "nbformat_minor": 4
}
